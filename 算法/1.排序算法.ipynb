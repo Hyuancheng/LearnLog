{
 "cells": [
  {
   "cell_type": "markdown",
   "metadata": {},
   "source": [
    "### 冒泡排序"
   ]
  },
  {
   "cell_type": "code",
   "execution_count": null,
   "metadata": {},
   "outputs": [],
   "source": [
    "def sort_bubble(data):\n",
    "    count = 0\n",
    "    while True:\n",
    "        changed = False\n",
    "        for i in range(len(data)-1):\n",
    "            count += 1\n",
    "            if data[i] > data[i+1]:\n",
    "                data[i+1], data[i] = data[i], data[i+1]\n",
    "                changed = True\n",
    "        if not changed:\n",
    "            break\n",
    "    print(count)\n",
    "    return data\n",
    "            \n",
    "data = [1, 38, 59, 213, 87, 324, 54, 21, 11, 364, 98, 213, 42, 31, 54, 67, 84, 901, 35, 8]\n",
    "\n",
    "print(sort_bubble(data))\n",
    "print(len(data))"
   ]
  },
  {
   "cell_type": "markdown",
   "metadata": {},
   "source": [
    "### 插入排序"
   ]
  },
  {
   "cell_type": "code",
   "execution_count": 12,
   "metadata": {},
   "outputs": [
    {
     "name": "stdout",
     "output_type": "stream",
     "text": [
      "[1, 2, 3, 4, 5, 8, 12, 23, 32, 34, 45, 65, 98]\n"
     ]
    }
   ],
   "source": [
    "def sort_insert(data):\n",
    "    sorted_data = [data[0]]\n",
    "    for num in data[1:]:\n",
    "        changed = False\n",
    "        for j in range(len(sorted_data)-1, -1, -1):\n",
    "            if num > sorted_data[j]:\n",
    "                sorted_data.insert(j+1, num)\n",
    "                changed = True\n",
    "                break\n",
    "        if not changed:\n",
    "            sorted_data.insert(0, num)\n",
    "    return sorted_data\n",
    "\n",
    "data = [2, 4, 3, 8, 5, 34, 23, 1, 12, 45, 65, 98, 32]\n",
    "print(sort_insert(data))"
   ]
  },
  {
   "cell_type": "code",
   "execution_count": 16,
   "metadata": {},
   "outputs": [
    {
     "name": "stdout",
     "output_type": "stream",
     "text": [
      "[1, 2]\n"
     ]
    }
   ],
   "source": [
    "\n",
    "\n",
    "\n",
    "d0 = [2, 1]  # 原始乱序\n",
    "d1 = [d0[0]]\n",
    "del d0[0]\n",
    "\n",
    "for i in d0:\n",
    "    index_now = [0, len(d1)]\n",
    "    while 1:\n",
    "        index = index_now[0] + int((index_now[1] - index_now[0]) / 2)\n",
    "        if i == d1[index]:\n",
    "            d1.insert(index+1,i)\n",
    "            break\n",
    "        elif index in index_now:  # 如果更新的index值在index_now中存在（也有可能是边界），那么就表明无法继续更新\n",
    "            if i >= d1[index]:\n",
    "                d1.insert(index+1,i)\n",
    "            else:\n",
    "                d1.insert(index, i)\n",
    "            break\n",
    "        elif i > d1[index]:\n",
    "            index_now[0] = index\n",
    "        elif i < d1[index]:\n",
    "            index_now[1] = index\n",
    "\n",
    "print(d1)\n",
    "# print(d0_out)"
   ]
  },
  {
   "cell_type": "markdown",
   "metadata": {},
   "source": [
    "### 希尔排序\n",
    "    希尔排序原理为将原始数据进行分组，对每组进行插入排序，使整体形成大致有序。"
   ]
  },
  {
   "cell_type": "code",
   "execution_count": null,
   "metadata": {},
   "outputs": [],
   "source": []
  }
 ],
 "metadata": {
  "kernelspec": {
   "display_name": "Python 3",
   "language": "python",
   "name": "python3"
  },
  "language_info": {
   "codemirror_mode": {
    "name": "ipython",
    "version": 3
   },
   "file_extension": ".py",
   "mimetype": "text/x-python",
   "name": "python",
   "nbconvert_exporter": "python",
   "pygments_lexer": "ipython3",
   "version": "3.7.0"
  }
 },
 "nbformat": 4,
 "nbformat_minor": 2
}
