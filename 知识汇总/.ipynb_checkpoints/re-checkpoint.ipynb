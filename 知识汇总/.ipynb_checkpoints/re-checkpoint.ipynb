{
 "cells": [
  {
   "cell_type": "markdown",
   "metadata": {},
   "source": [
    "######  正则 re,match,lastindex属性解析\n",
    "    # re.match.lastindex属性返回的是最后一个完成匹配的捕获组的编号。\n",
    "    # 捕获组的编号按从左往右，由外到内的顺序编订。简单来说,从左往右，‘(’出现的顺序就是编号的顺序。\n",
    "    # 捕获组的匹配则按从左往右，由内到外的顺序匹配。这就导致了捕获组的匹配顺序与编号不一致。"
   ]
  },
  {
   "cell_type": "code",
   "execution_count": 1,
   "metadata": {},
   "outputs": [
    {
     "name": "stdout",
     "output_type": "stream",
     "text": [
      "测试1：\n",
      "1\n",
      "ab\n",
      "{'ab': 'ab', 'a': 'a', 'b': 'b'}\n",
      "2\n",
      "b\n",
      "{'a': 'a', 'b': 'b'}\n",
      "测试2：\n",
      "3\n",
      "b\n",
      "{'A': 'a', 'a': 'a', 'b': 'b'}\n",
      "2\n",
      "B\n",
      "{'a': 'a', 'B': 'b', 'b': 'b'}\n",
      "测试3：\n",
      "1\n",
      "A\n",
      "{'A': 'a', 'a': 'a'}\n"
     ]
    }
   ],
   "source": [
    "import re\n",
    "s = 'ab'\n",
    "\n",
    "print('测试1：')\n",
    "r = re.match(r'(?P<ab>(?P<a>a)(?P<b>b))', s)# 匹配顺序为{组名a（编号2）} - {组名b(编号3)} - {组名ab(编号1)}\n",
    "print(r.lastindex)                          # 按匹配顺序，最外层的捕获组ab为最后匹配，故返回组号1\n",
    "print(r.lastgroup)\n",
    "print(r.groupdict())\n",
    "r = re.match(r'(?P<a>a)(?P<b>b)', s)\n",
    "print(r.lastindex)\n",
    "print(r.lastgroup)\n",
    "print(r.groupdict())\n",
    "\n",
    "print('测试2：')\n",
    "r = re.match(r'(?P<A>(?P<a>a))(?P<b>b)', s)\n",
    "print(r.lastindex)\n",
    "print(r.lastgroup)\n",
    "print(r.groupdict())\n",
    "r = re.match(r'(?P<a>a)(?P<B>(?P<b>b))', s)\n",
    "print(r.lastindex)\n",
    "print(r.lastgroup)\n",
    "print(r.groupdict())\n",
    "\n",
    "print('测试3：')\n",
    "r = re.match(r'(?P<A>(?P<a>a))', s)\n",
    "print(r.lastindex)\n",
    "print(r.lastgroup)\n",
    "print(r.groupdict())"
   ]
  }
 ],
 "metadata": {
  "kernelspec": {
   "display_name": "Python 3",
   "language": "python",
   "name": "python3"
  },
  "language_info": {
   "codemirror_mode": {
    "name": "ipython",
    "version": 3
   },
   "file_extension": ".py",
   "mimetype": "text/x-python",
   "name": "python",
   "nbconvert_exporter": "python",
   "pygments_lexer": "ipython3",
   "version": "3.7.0"
  }
 },
 "nbformat": 4,
 "nbformat_minor": 2
}
