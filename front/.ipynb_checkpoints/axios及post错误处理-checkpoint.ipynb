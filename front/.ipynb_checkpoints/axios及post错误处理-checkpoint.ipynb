{
 "cells": [
  {
   "cell_type": "markdown",
   "metadata": {},
   "source": [
    "### 在vue中使用axios\n",
    "\n",
    "\n",
    "#### 安装\n",
    "    npm install axios, vue-axios --save\n",
    "    \n",
    "#### 引入\n",
    "    在main.js中引入\n",
    "    \n",
    "    import axios from 'axios'\n",
    "    import VueAxios from 'vue-axios'\n",
    "    \n",
    "    可以新建一个axios实例，用于自定义配置，配置的相关选项可查看官方文档\n",
    "    \n",
    "    axios_instance = axios.create({\n",
    "        baseURL: 'xxxxxx' ，\n",
    "        headers: {xxx}，\n",
    "        transformRequest: function(data, headers){\n",
    "            // 发送到服务端前，对请求参数进行处理\n",
    "            return data\n",
    "        }\n",
    "    })\n",
    "    \n",
    "#### 注册\n",
    "    vue.use(VueAxios, axios_instance)\n",
    "    \n",
    "#### 使用\n",
    "    通过this.axios()接口调用\n",
    "    也可以调用进一步封装的方法this.axios.get/post/put/delete/..()"
   ]
  },
  {
   "cell_type": "markdown",
   "metadata": {},
   "source": [
    "### post请求参数格式错误\n",
    "    axios有个小bug，发送参数是会将字典格式的参数直接首位加上''转换成字符串，即\"{'name': 'xiaoming'}\",而正常情况下应该转换为\"name=xiaoming\"。这会导致服务端无法解析post传递的参数，因此需要在发送请求前对参数进行处理。\n",
    "    axios的配置项，transformRequest选项可以定义在发送请求前对参数进行处理\n",
    "    调用qs.stringify(data)方法可以将参数转为query形式（qs会伴随axios安装，可直接引入使用）。\n",
    "    \n",
    "    即\n",
    "    import Qs from 'qs'\n",
    "    \n",
    "    在创建axios实例时定义以下选项\n",
    "    transformRequest: function(data, headers){\n",
    "        return Qs.stringify(data)\n",
    "    }"
   ]
  }
 ],
 "metadata": {
  "kernelspec": {
   "display_name": "Python 3",
   "language": "python",
   "name": "python3"
  },
  "language_info": {
   "codemirror_mode": {
    "name": "ipython",
    "version": 3
   },
   "file_extension": ".py",
   "mimetype": "text/x-python",
   "name": "python",
   "nbconvert_exporter": "python",
   "pygments_lexer": "ipython3",
   "version": "3.7.0"
  }
 },
 "nbformat": 4,
 "nbformat_minor": 2
}
