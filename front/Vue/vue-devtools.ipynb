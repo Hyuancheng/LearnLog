{
 "cells": [
  {
   "cell_type": "markdown",
   "metadata": {},
   "source": [
    "### 简介\n",
    "    vue-devtools是一款基于chrome的插件，用于辅助vue开发时在浏览器中的调试工作。\n",
    "    \n",
    "### 安装方法\n",
    "    vue.js官网的头部导航栏可以找到跳转至github的链接。\n",
    "    注意选择版本，本次选择5.1.1版本，更高的版本在编译时会出现错误。\n",
    "    下载5.1.1版本压缩包，解压后进入到解压后的目录下：\n",
    "    1.运行：\n",
    "        npm install \n",
    "        该命令会根据package.json文件进行自动安装依赖包。\n",
    "    2.完成包安装后，运行：\n",
    "        npm run build \n",
    "        进行编译\n",
    "    3.打开chrome浏览器，菜单栏，更多工具，进入扩展应用程序页面，打开开发者模式，加载已解压的扩展程序。\n",
    "        弹出框中进入vue-devtools安装目录 -- 进入shells文件夹 --- 选择chrome文件夹即可（不要进入该文件夹）。\n",
    "  \n",
    "        \n",
    "### 说明\n",
    "    添加完成后，chrome浏览器右上角会有一个灰色的vue标志，在当前网页没有vue资源时，其会显示not detected信息，属正常现象。\n",
    "    若在具有vue资源时仍不可用，则可以进入安装目录，进入chrome文件夹下，将manifest.json文件的persiset属性改为true即可。"
   ]
  }
 ],
 "metadata": {
  "kernelspec": {
   "display_name": "Python 3",
   "language": "python",
   "name": "python3"
  },
  "language_info": {
   "codemirror_mode": {
    "name": "ipython",
    "version": 3
   },
   "file_extension": ".py",
   "mimetype": "text/x-python",
   "name": "python",
   "nbconvert_exporter": "python",
   "pygments_lexer": "ipython3",
   "version": "3.7.0"
  }
 },
 "nbformat": 4,
 "nbformat_minor": 2
}
