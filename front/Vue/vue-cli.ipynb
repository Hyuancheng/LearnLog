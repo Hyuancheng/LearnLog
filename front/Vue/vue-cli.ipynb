{
 "cells": [
  {
   "cell_type": "markdown",
   "metadata": {},
   "source": [
    "### vue-cli\n",
    "    vue-cli是帮助搭建目录结构的工具。\n",
    "    相当于django-admin startproject ...构建项目结构\n",
    "    \n",
    "#### 安装\n",
    "    npm install -g @vue/cli\n",
    "    推荐使用全局安装方式\n",
    "    \n",
    "#### 使用\n",
    "    终端进入要创建项目的目录\n",
    "    vue create <project_name>"
   ]
  }
 ],
 "metadata": {
  "kernelspec": {
   "display_name": "Python 3",
   "language": "python",
   "name": "python3"
  },
  "language_info": {
   "codemirror_mode": {
    "name": "ipython",
    "version": 3
   },
   "file_extension": ".py",
   "mimetype": "text/x-python",
   "name": "python",
   "nbconvert_exporter": "python",
   "pygments_lexer": "ipython3",
   "version": "3.7.0"
  }
 },
 "nbformat": 4,
 "nbformat_minor": 2
}
