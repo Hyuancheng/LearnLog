{
 "cells": [
  {
   "cell_type": "markdown",
   "metadata": {},
   "source": [
    "## nvm\n",
    "    nvm是node.js的版本管理工具，类似python的anaconda。\n",
    "    \n",
    "#### 新安装node.js版本\n",
    "    命令行下输入：\n",
    "    nvm install <version>\n",
    "    该命令会新建一个node.js版本并保存在nvm安装目录中。\n",
    " \n",
    "#### 删除某个版本\n",
    "    nvm uninstall <version>\n",
    "    "
   ]
  },
  {
   "cell_type": "markdown",
   "metadata": {},
   "source": [
    "## npm\n",
    "    npm是包管理器，随node.js一同安装，相当于python的pip。\n",
    "    \n",
    "#### npm安装方式\n",
    "    npm分为本地安装与全局安装\n",
    "    \n",
    "#### 本地安装\n",
    "    在当前所在目录创建node_modules文件夹，并将相关的包保存到该文件夹，只能在该目录下使用。\n",
    "    \n",
    "    npm install <package_name>\n",
    "    \n",
    "#### 全局安装\n",
    "    node.js中也有一个node_modules文件夹，用于存放包，全局安装即在当前node.js环境中安装相关包，只要使用该版本node.js，即可在任何项目中使用其中的包。\n",
    "    \n",
    "    npm install <package_name> -g\n",
    "    \n",
    "        "
   ]
  },
  {
   "cell_type": "code",
   "execution_count": null,
   "metadata": {},
   "outputs": [],
   "source": []
  }
 ],
 "metadata": {
  "kernelspec": {
   "display_name": "Python 3",
   "language": "python",
   "name": "python3"
  },
  "language_info": {
   "codemirror_mode": {
    "name": "ipython",
    "version": 3
   },
   "file_extension": ".py",
   "mimetype": "text/x-python",
   "name": "python",
   "nbconvert_exporter": "python",
   "pygments_lexer": "ipython3",
   "version": "3.7.0"
  }
 },
 "nbformat": 4,
 "nbformat_minor": 2
}
