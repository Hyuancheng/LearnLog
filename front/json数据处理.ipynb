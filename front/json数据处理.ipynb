{
 "cells": [
  {
   "cell_type": "markdown",
   "metadata": {},
   "source": [
    "### json数据\n",
    "    其数据展示形式可以简单理解为python的字典。\n",
    "    对于后台返回的json数据，其本质是字符串，因此使用前需要经过处理转换为js对象。\n",
    "\n",
    "\n",
    "#### JSON.parse( string [,  reciever ] )\n",
    "    reciever为可选的函数参数，倘若有，则将string传入该函数中，适合进行自定义处理。\n",
    "    该函数会将字符串转换为js对象。例如：\n",
    "    data1 = [{'name': 'xiaoming'}, {'name': 'zhangsan'}]\n",
    "    data2 = {'age': 18}\n",
    "    JSON.parse(data1) => Array\n",
    "    Json.parse(data2) => Object\n",
    "    \n",
    "#### eval( string )\n",
    "    该函数会‘扫描’字符串，并执行其中的javascript语句。\n",
    "    倘若将json数据传入该函数，也能使之转换为对象，但却不是Array之类的对象，目前尚不太理解。"
   ]
  }
 ],
 "metadata": {
  "kernelspec": {
   "display_name": "Python 3",
   "language": "python",
   "name": "python3"
  },
  "language_info": {
   "codemirror_mode": {
    "name": "ipython",
    "version": 3
   },
   "file_extension": ".py",
   "mimetype": "text/x-python",
   "name": "python",
   "nbconvert_exporter": "python",
   "pygments_lexer": "ipython3",
   "version": "3.7.0"
  }
 },
 "nbformat": 4,
 "nbformat_minor": 2
}
