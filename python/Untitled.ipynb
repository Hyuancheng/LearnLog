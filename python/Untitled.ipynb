{
 "cells": [
  {
   "cell_type": "code",
   "execution_count": 4,
   "metadata": {},
   "outputs": [
    {
     "name": "stdout",
     "output_type": "stream",
     "text": [
      "i love you\n",
      "i love you\n",
      "i love you\n",
      "i love you\n",
      "i love you\n",
      "\n"
     ]
    }
   ],
   "source": [
    "with open('untitled.txt', 'r') as f:\n",
    "    s = f.read()\n",
    "    \n",
    "print(s)"
   ]
  },
  {
   "cell_type": "code",
   "execution_count": 1,
   "metadata": {},
   "outputs": [
    {
     "name": "stdout",
     "output_type": "stream",
     "text": [
      "[1, 2, 4, 8]\n",
      "[1, 2, 4, 8]\n"
     ]
    }
   ],
   "source": [
    "l = [1, 2, 4]\n",
    "k = l\n",
    "l.append(8)\n",
    "print(l)\n",
    "print(k)"
   ]
  },
  {
   "cell_type": "code",
   "execution_count": 3,
   "metadata": {},
   "outputs": [
    {
     "name": "stdout",
     "output_type": "stream",
     "text": [
      "a\n",
      "d\n"
     ]
    }
   ],
   "source": [
    "d = {'a':{'ee':55}, 'd':{'ww':1}}\n",
    "for item in d:\n",
    "    print(item)"
   ]
  },
  {
   "cell_type": "code",
   "execution_count": 16,
   "metadata": {},
   "outputs": [
    {
     "name": "stdout",
     "output_type": "stream",
     "text": [
      "0\n"
     ]
    }
   ],
   "source": [
    "\n",
    "count = 0\n",
    "\"\"\"\n",
    "    A：列表，下标为第几列，值为第几行\n",
    "    cur_col：代表当前正在排第几列\n",
    "\"\"\"\n",
    "def queen(A, cur_col=0):\n",
    "    \"\"\"\n",
    "    从第0列，第0行开始放置，每放一行都进行冲突检查。\n",
    "    若无冲突，则进入下一列，同样从第0行开始；\n",
    "    若发现冲突，则停留在当前列，尝试下一行。\n",
    "    倘若当前列所有行都有冲突，则回退到上一列，更改上一列的位置。\n",
    "    \"\"\"\n",
    "    # 倘若当前列的大小与A的长度相等，说明所有列已经放置完毕，则可以打印出结果A\n",
    "    if cur_col == len(A):\n",
    "        global count\n",
    "        count += 1\n",
    "        print(A)\n",
    "        return None\n",
    "    # 从第0行开始\n",
    "    for row in range(len(A)):\n",
    "        conflict = False    # 默认为非冲突状态\n",
    "        A[cur_col] = row\n",
    "        for checked in range(cur_col):\n",
    "            if A[checked] == row or abs(row - A[checked]) == cur_col - checked:\n",
    "                conflict = True\n",
    "                break       \n",
    "        if conflict == False:\n",
    "            # 开始放置下一列\n",
    "            queen(A, cur_col+1)                \n"
   ]
  },
  {
   "cell_type": "code",
   "execution_count": 12,
   "metadata": {},
   "outputs": [],
   "source": [
    "def desc_wall(count):\n",
    "    \"\"\"描述墙上的挂钩\"\"\"\n",
    "    return [None]*count\n",
    "\n",
    "def create_balloon(dic):\n",
    "    \"\"\"\n",
    "    生成指定颜色和数量气球\n",
    "    dic: 字典，键代表气球的颜色，值代表该颜色气球的数量\n",
    "    返回一个列表，值为气球的颜色，多个相同颜色的气球由多个相同的值表示。如 ['紫色'，'紫色', '红色']\n",
    "    \"\"\"\n",
    "    List = []\n",
    "    for color, count in dic.items():\n",
    "        if not isinstance(count, int) or count<=0:\n",
    "            raise Exception('气球的数量必须为大于0的整数')\n",
    "        List += [color]*count\n",
    "    return List\n",
    "\n",
    "def decorate(P, L, pos=0):\n",
    "    if pos >= len(P):\n",
    "        print(P)\n",
    "        return \n",
    "    for color in set(L):\n",
    "        P[pos] = color\n",
    "        L.remove(color)\n",
    "        # 同前一个气球进行比较\n",
    "        if pos >= 1 and P[pos] == P[pos-1]:\n",
    "            # 出现冲突，将气球放回列表，继续尝试不同颜色的气球\n",
    "            L.append(color)\n",
    "            continue\n",
    "        # 没有冲突，放置下一个位置\n",
    "        decorate(P, L, pos+1)\n",
    "        L.append(color)    \n",
    "    # 倘若气球已经放完，即便墙上仍有位置，同样输出结果    \n",
    "    if not L:\n",
    "        print(P)\n",
    "            \n",
    "dic = {'紫色':3, '黄色':3, '白色':3}\n",
    "L = create_balloon(dic)\n",
    "P = desc_wall(8)\n",
    "\n",
    "# decorate(P, L)"
   ]
  },
  {
   "cell_type": "code",
   "execution_count": 102,
   "metadata": {},
   "outputs": [
    {
     "name": "stdout",
     "output_type": "stream",
     "text": [
      "一共6种装饰方案，结果如下：\n",
      "\n",
      "白色  紫色  黄色  紫色\n",
      "\n",
      "\n",
      "\n",
      "紫色  白色  紫色  黄色\n",
      "\n",
      "\n",
      "\n",
      "紫色  白色  黄色  紫色\n",
      "\n",
      "\n",
      "\n",
      "紫色  黄色  白色  紫色\n",
      "\n",
      "\n",
      "\n",
      "紫色  黄色  紫色  白色\n",
      "\n",
      "\n",
      "\n",
      "黄色  紫色  白色  紫色\n",
      "\n",
      "\n",
      "\n"
     ]
    }
   ],
   "source": [
    "import copy\n",
    "class Wall:\n",
    "    \"\"\"描述用于装饰的墙\"\"\"\n",
    "    def __init__(self, row, col):\n",
    "        self.row = row\n",
    "        self.col = col\n",
    "        self.dec_scheme = []  # 用于存放装饰方案\n",
    "        self.count = self.row * self.col\n",
    "        self.wall = self._desc_wall()\n",
    "\n",
    "    def _desc_wall(self):\n",
    "        \"\"\"\n",
    "        用于描述墙上挂气球的位置\n",
    "        row: 要在墙上挂多少行气球\n",
    "        col: 每一行挂多少个气球\n",
    "        return: 列表。列表的下标代表第几行，列表的值为字典。字典的键代表第几列，字典的值代表气球的颜色。\n",
    "        例如：[{0: 紫色， 1: 红色}，]\n",
    "        \"\"\"\n",
    "        temp_dict = {i:'None' for i in range(self.col)}\n",
    "        temp_list = []\n",
    "        for i in range(self.row):\n",
    "            temp_list.append(copy.copy(temp_dict))\n",
    "        return temp_list\n",
    "    \n",
    "def show(wall):\n",
    "    \"\"\"用于打印装饰方案\"\"\"\n",
    "    for line in wall:\n",
    "        print( '  '.join(list(line.values())))\n",
    "    print('\\n'*2)\n",
    "    \n",
    "def create_balloon(dic):\n",
    "    \"\"\"\n",
    "    生成指定颜色和数量气球\n",
    "    dic: 字典，键代表气球的颜色，值代表该颜色气球的数量\n",
    "    return: 列表，值为气球的颜色，多个相同颜色的气球由多个相同的值表示。如 ['紫色'，'紫色', '红色']\n",
    "    \"\"\"\n",
    "    List = []\n",
    "    for color, count in dic.items():\n",
    "        if not isinstance(count, int) or count<=0:\n",
    "            raise Exception('气球的数量必须为大于0的整数')\n",
    "        List += [color]*count\n",
    "    return List\n",
    "\n",
    "def decorate(wall, bollon_con, pos=0):\n",
    "    \"\"\"\n",
    "    开始装饰墙面\n",
    "    wall: Wall的实例\n",
    "    bollon_con: 列表，值为气球的颜色\n",
    "    pos: 开始装饰的位置，0表示从第一行第一列开始装饰。倘若不从第一行开始装饰，则pos = 第几行*每行的列数 + 当前列\n",
    "    return: None, 装饰方案将被保存在wall.dec_scheme中\n",
    "    \"\"\"\n",
    "    if pos >= wall.count:\n",
    "        wall.dec_scheme.append(copy.deepcopy(wall.wall))\n",
    "        return \n",
    "    for color in set(bollon_con):\n",
    "        bollon_con.remove(color)\n",
    "        # 计算出当前位置,并放入气球\n",
    "        row = pos // wall.col\n",
    "        col = pos % wall.col\n",
    "        wall.wall[row][col] = color\n",
    "        # 同前一个气球进行比较\n",
    "        if col > 0 and wall.wall[row][col-1] == color:\n",
    "            # 与左边冲突，将气球放回列表，继续尝试不同颜色的气球\n",
    "            bollon_con.append(color)\n",
    "            wall.wall[row][col] = None\n",
    "            continue\n",
    "        # 同前一行气球进行比较\n",
    "        if row > 0 and wall.wall[row-1][col] == color:\n",
    "            # 与上一行冲突\n",
    "            bollon_con.append(color)\n",
    "            wall.wall[row][col] = None\n",
    "            continue\n",
    "        # 没有冲突，放置下一个位置\n",
    "        decorate(wall, bollon_con, pos+1)\n",
    "        L.append(color)    \n",
    "    # 倘若气球已经放完，即便墙上仍有位置，同样输出结果    \n",
    "    if not bollon_con:\n",
    "        wall.dec_scheme.append(copy.deepcopy(wall.wall))\n",
    "\n",
    "wall = Wall(1, 4)\n",
    "dic = {'紫色':2, '黄色':1, '白色':1}\n",
    "L = create_balloon(dic)\n",
    "\n",
    "decorate(wall, L)\n",
    "\n",
    "if wall.dec_scheme:\n",
    "    print('一共{}种装饰方案，结果如下：\\n'.format(len(wall.dec_scheme)))\n",
    "else:\n",
    "    print('没有合适的布置方案')\n",
    "    \n",
    "for scheme in wall.dec_scheme:\n",
    "    show(scheme)"
   ]
  },
  {
   "cell_type": "code",
   "execution_count": 29,
   "metadata": {
    "scrolled": true
   },
   "outputs": [
    {
     "name": "stdout",
     "output_type": "stream",
     "text": [
      "haha\n",
      "jaskdj\n",
      "laskd pppp\n",
      "hello\n"
     ]
    }
   ],
   "source": [
    "def decorator(func):\n",
    "        def wrapper(self, a):\n",
    "            print(\"haha\")\n",
    "            print(self.k)\n",
    "            self.o(a)\n",
    "            func(self)\n",
    "        return wrapper\n",
    "\n",
    "\n",
    "class haha:\n",
    "    \n",
    "    def __init__(self):\n",
    "        self.k = \"jaskdj\"\n",
    "    \n",
    "    @decorator\n",
    "    def p(self):\n",
    "        print(\"hello\")\n",
    "        \n",
    "    def o(self, name):\n",
    "        print(\"laskd\", name)\n",
    "h = haha()\n",
    "h.p(\"pppp\")"
   ]
  },
  {
   "cell_type": "code",
   "execution_count": 4,
   "metadata": {},
   "outputs": [
    {
     "name": "stdout",
     "output_type": "stream",
     "text": [
      "haha\n",
      "tttt\n"
     ]
    }
   ],
   "source": [
    "def outer():\n",
    "    def inner():\n",
    "        pass\n",
    "    inner.name = \"haha\"\n",
    "    return inner\n",
    "\n",
    "f = outer()\n",
    "outer.name = \"tttt\"\n",
    "print(f.name)\n",
    "print(outer.name)"
   ]
  }
 ],
 "metadata": {
  "kernelspec": {
   "display_name": "Python 3",
   "language": "python",
   "name": "python3"
  },
  "language_info": {
   "codemirror_mode": {
    "name": "ipython",
    "version": 3
   },
   "file_extension": ".py",
   "mimetype": "text/x-python",
   "name": "python",
   "nbconvert_exporter": "python",
   "pygments_lexer": "ipython3",
   "version": "3.7.0"
  }
 },
 "nbformat": 4,
 "nbformat_minor": 2
}
