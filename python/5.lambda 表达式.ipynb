{
 "cells": [
  {
   "cell_type": "markdown",
   "metadata": {},
   "source": [
    "### 2019.11.25"
   ]
  },
  {
   "cell_type": "markdown",
   "metadata": {},
   "source": [
    "### lambda 表达式"
   ]
  },
  {
   "cell_type": "code",
   "execution_count": 2,
   "metadata": {},
   "outputs": [],
   "source": [
    "# lambda(参数）: 表达式\n",
    "# 相当于：\n",
    "#   def (lambda)(参数）:\n",
    "#        return 表达式"
   ]
  },
  {
   "cell_type": "code",
   "execution_count": 8,
   "metadata": {},
   "outputs": [
    {
     "name": "stdout",
     "output_type": "stream",
     "text": [
      "['a', 'b', 'c']\n",
      "['b', 'a', 'c']\n",
      "---------- 分割线 ----------\n",
      "[(1, 9), (2, 8), (3, 7), (4, 6)]\n",
      "[(4, 6), (3, 7), (2, 8), (1, 9)]\n"
     ]
    }
   ],
   "source": [
    "d = {'a':6, 'b':3, 'c':9}\n",
    "print(sorted(d))\n",
    "print(sorted(d, key=lambda x: d[x])) # 字典的比较是先比较‘键’， 因此传入参数时是将每个元素的‘键’传入x.\n",
    "\n",
    "print('-'*10, '分割线', '-'*10)\n",
    "\n",
    "l = [(1, 9), (2, 8), (3, 7), (4, 6)]\n",
    "print(sorted(l))\n",
    "print(sorted(l, key=lambda x: x[1])) # 此处传入lambda的是各个元组"
   ]
  }
 ],
 "metadata": {
  "kernelspec": {
   "display_name": "Python 3",
   "language": "python",
   "name": "python3"
  },
  "language_info": {
   "codemirror_mode": {
    "name": "ipython",
    "version": 3
   },
   "file_extension": ".py",
   "mimetype": "text/x-python",
   "name": "python",
   "nbconvert_exporter": "python",
   "pygments_lexer": "ipython3",
   "version": "3.7.0"
  }
 },
 "nbformat": 4,
 "nbformat_minor": 2
}
