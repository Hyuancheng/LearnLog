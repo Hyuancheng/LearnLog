{
 "cells": [
  {
   "cell_type": "markdown",
   "metadata": {},
   "source": [
    "### 1.3 保存最后N个元素 "
   ]
  },
  {
   "cell_type": "code",
   "execution_count": null,
   "metadata": {},
   "outputs": [],
   "source": [
    "from collections import deque\n",
    "\n",
    "def search(file, phrase, history=3):\n",
    "    pre_lines = deque(maxlen=history)\n",
    "    for line in file:\n",
    "        if phrase in line:\n",
    "            yield line, pre_lines\n",
    "        pre_lines.append(line)\n",
    "\n",
    "\n",
    "with open('untitled.txt') as f:\n",
    "    for line, pre_lines in search(f, 'python'):\n",
    "        for pre_line in pre_lines:\n",
    "            print(pre_line)\n",
    "        print(line)\n",
    "        print('-' * 20)"
   ]
  },
  {
   "cell_type": "markdown",
   "metadata": {},
   "source": [
    "### 1.5 实现优先级队列"
   ]
  },
  {
   "cell_type": "code",
   "execution_count": 8,
   "metadata": {},
   "outputs": [
    {
     "name": "stdout",
     "output_type": "stream",
     "text": [
      "[(-5, 1, Item('bar')), (-1, 0, Item('foo'))]\n"
     ]
    }
   ],
   "source": [
    "import heapq\n",
    "\n",
    "class PriorityQueue:\n",
    "    \n",
    "    def __init__(self):\n",
    "        self.queue = []\n",
    "        self.index = 0\n",
    "        \n",
    "    def push(self, item, priority):\n",
    "        heapq.heappush(self.queue, (-priority, self.index, item))\n",
    "        self.index += 1\n",
    "        \n",
    "    def pop(self):\n",
    "        return heapq.heappop(self.queue)[-1]\n",
    "    \n",
    "    \n",
    "class Item:\n",
    "    \n",
    "    def __init__(self, name):\n",
    "        self.name = name\n",
    "        \n",
    "    def __repr__(self):\n",
    "        return 'Item({!r})'.format(self.name)\n",
    "    \n",
    "    \n",
    "q = PriorityQueue()\n",
    "q.push(Item('foo'), 1)\n",
    "q.push(Item('bar'), 5)\n",
    "\n",
    "print(q.queue)"
   ]
  },
  {
   "cell_type": "markdown",
   "metadata": {},
   "source": [
    "### 1.7 有序字典"
   ]
  },
  {
   "cell_type": "code",
   "execution_count": 1,
   "metadata": {},
   "outputs": [
    {
     "name": "stdout",
     "output_type": "stream",
     "text": [
      "a 1\n",
      "b 2\n",
      "{'c': 3, 'd': 5, 'f': 8, 'h': 'er', 'v': 'asdu'}\n",
      "c 3\n",
      "d 5\n",
      "f 8\n",
      "h er\n",
      "v asdu\n"
     ]
    }
   ],
   "source": [
    "from collections import OrderedDict\n",
    "\n",
    "d = OrderedDict()\n",
    "d['a'] = 1\n",
    "d['b'] = 2\n",
    "\n",
    "for key in d:\n",
    "    print(key, d[key])\n",
    "    \n",
    "t = {}\n",
    "t['c'] = 3\n",
    "t['d'] = 5\n",
    "t['f'] = 8\n",
    "t['h'] = 'er'\n",
    "t['v'] = 'asdu'\n",
    "print(t)\n",
    "for key in t:\n",
    "    print(key, t[key])"
   ]
  },
  {
   "cell_type": "code",
   "execution_count": 22,
   "metadata": {},
   "outputs": [
    {
     "name": "stdout",
     "output_type": "stream",
     "text": [
      "[1, 2, 4, 6, 5]\n",
      "[{'k1': 1}, {'k2': 2}]\n"
     ]
    }
   ],
   "source": [
    "l = [1, 2, 4, 4, 6, 5, 5, 6, 6]\n",
    "\n",
    "def uni_list(obj, key=None):\n",
    "    uni_l = []\n",
    "    uni_d = []\n",
    "    for item in obj:\n",
    "        if key==None:\n",
    "            val = item\n",
    "        else:\n",
    "            val = key(item)\n",
    "        if val not in uni_l:\n",
    "            uni_l.append(val)\n",
    "            uni_d.append(item)\n",
    "    return uni_d\n",
    "res = uni_list(l)\n",
    "print(res)\n",
    "\n",
    "l2 = [{'k1':1}, {'k2':2}, {'k3':2}, {'k4':1}]\n",
    "res = uni_list(l2, key=lambda x: list(x.values())[0])\n",
    "print(res)"
   ]
  }
 ],
 "metadata": {
  "kernelspec": {
   "display_name": "Python 3",
   "language": "python",
   "name": "python3"
  },
  "language_info": {
   "codemirror_mode": {
    "name": "ipython",
    "version": 3
   },
   "file_extension": ".py",
   "mimetype": "text/x-python",
   "name": "python",
   "nbconvert_exporter": "python",
   "pygments_lexer": "ipython3",
   "version": "3.7.0"
  }
 },
 "nbformat": 4,
 "nbformat_minor": 2
}
