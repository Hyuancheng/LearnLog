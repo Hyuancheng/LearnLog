{
 "cells": [
  {
   "cell_type": "code",
   "execution_count": 11,
   "metadata": {},
   "outputs": [
    {
     "name": "stdout",
     "output_type": "stream",
     "text": [
      "hahahaha\n",
      "等待1s\n",
      "等待3s\n",
      "等待4s\n",
      "等待7s\n"
     ]
    }
   ],
   "source": [
    "import asyncio\n",
    "\n",
    "async def say_after(t, img):\n",
    "    await asyncio.sleep(t)\n",
    "    print(img)\n",
    "    \n",
    "tasks = [\n",
    "    asyncio.create_task(say_after(1, '等待1s')),\n",
    "    asyncio.create_task(say_after(7, '等待7s')),\n",
    "    asyncio.create_task(say_after(3, '等待3s')),\n",
    "    asyncio.create_task(say_after(4, '等待4s'))\n",
    "]\n",
    "\n",
    "asyncio.gather(*tasks)\n",
    "print('hahahaha')"
   ]
  }
 ],
 "metadata": {
  "kernelspec": {
   "display_name": "Python 3",
   "language": "python",
   "name": "python3"
  },
  "language_info": {
   "codemirror_mode": {
    "name": "ipython",
    "version": 3
   },
   "file_extension": ".py",
   "mimetype": "text/x-python",
   "name": "python",
   "nbconvert_exporter": "python",
   "pygments_lexer": "ipython3",
   "version": "3.7.0"
  }
 },
 "nbformat": 4,
 "nbformat_minor": 2
}
