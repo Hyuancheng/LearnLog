{
 "cells": [
  {
   "cell_type": "markdown",
   "metadata": {},
   "source": [
    "### 2019.9.24"
   ]
  },
  {
   "cell_type": "markdown",
   "metadata": {},
   "source": [
    "## 知识碎片\n",
    "    app.config 为Flask提供的一个字典，为内置配置机制，可以用来增加自己的键值对。"
   ]
  },
  {
   "cell_type": "markdown",
   "metadata": {},
   "source": [
    "## 创建上下文管理器（类）\n",
    "### 协议\n",
    "    1.具有__enter__方法，当用with挂接时，自动调用__enter__方法。\n",
    "    2.具有__exit__方法，当with代码组结束时自动调用。\n",
    "    3.（非必要）利用__init__方法完成初始化"
   ]
  },
  {
   "cell_type": "code",
   "execution_count": 1,
   "metadata": {},
   "outputs": [],
   "source": [
    "# DB.py\n",
    "# import mysql.connector\n",
    "\n",
    "class UseDatabase:\n",
    "    \"\"\"创建一个连接、断开数据库的上下文管理器\"\"\"\n",
    "    def __init__(self, config: dict) -> None:\n",
    "        self.config = config\n",
    "\n",
    "    def __enter__(self) -> 'cursor':\n",
    "        \"\"\"建立与数据库的连接，并返回游标对象\"\"\"\n",
    "        self.conn = mysql.connector.connect(**self.config)\n",
    "        self.cursor = self.conn.cursor()\n",
    "        return self.cursor\n",
    "\n",
    "    def __exit__(self, exc_type, exc_val, exc_tb) -> None:\n",
    "        \"\"\"断开与数据库的连接，完成清理工作\"\"\"\n",
    "        self.conn.commit()\n",
    "        self.conn.close()\n",
    "        self.cursor.close()"
   ]
  },
  {
   "cell_type": "code",
   "execution_count": null,
   "metadata": {},
   "outputs": [],
   "source": [
    "# web.py\n",
    "# from DB.py import UseDatabase\n",
    "\n",
    "def log_request(req, res):\n",
    "    \"\"\"将查询信息写入数据库\"\"\"\n",
    "    with UseDatabase(app.config['dbconfig']) as cursor:  # 自动初始化__init__，调用__enter__方法\n",
    "        _SQL = '''insert into log\n",
    "                    (phrase, letters, ip, browser_string, results)\n",
    "                    values \n",
    "                    (%s, %s, %s, %s, %s)'''\n",
    "\n",
    "        cursor.execute(_SQL, (req.form['phrase'],\n",
    "                              req.form['letters'],\n",
    "                              req.remote_addr,\n",
    "                              req.user_agent.browser,\n",
    "                              res))\n",
    "    \n",
    "    # with代码组结束后无需手动断开连接\n",
    "    # 自动调用__exit__方法"
   ]
  },
  {
   "cell_type": "code",
   "execution_count": null,
   "metadata": {},
   "outputs": [],
   "source": [
    "d = {}\n",
    "\n",
    "d['xiaomi'] = 300\n"
   ]
  }
 ],
 "metadata": {
  "kernelspec": {
   "display_name": "Python 3",
   "language": "python",
   "name": "python3"
  },
  "language_info": {
   "codemirror_mode": {
    "name": "ipython",
    "version": 3
   },
   "file_extension": ".py",
   "mimetype": "text/x-python",
   "name": "python",
   "nbconvert_exporter": "python",
   "pygments_lexer": "ipython3",
   "version": "3.7.0"
  }
 },
 "nbformat": 4,
 "nbformat_minor": 2
}
