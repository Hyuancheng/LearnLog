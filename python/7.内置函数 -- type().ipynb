{
 "cells": [
  {
   "cell_type": "markdown",
   "metadata": {},
   "source": [
    "### type()\n",
    "    当type()函数接受一个参数时，它返回该参数的类型\n",
    "    \n",
    "    当type(name, tuple, dict)接收三个参数时，它会返回一个新的对象（类）。参数格式如下：\n",
    "        \n",
    "        name: String, 新对象的名称\n",
    "        \n",
    "        tuple: 该新对象要继承的父类组成的元组。\n",
    "        \n",
    "        dict: 字典，包含新对象中要定义属性。"
   ]
  },
  {
   "cell_type": "code",
   "execution_count": 9,
   "metadata": {},
   "outputs": [
    {
     "name": "stdout",
     "output_type": "stream",
     "text": [
      "新对象C中定义的属性c_name的值为： NameOfC\n",
      "B\n"
     ]
    }
   ],
   "source": [
    "class A:\n",
    "    a_name = \"A\"\n",
    "    \n",
    "    \n",
    "class B:\n",
    "    b_name = \"B\"\n",
    "    \n",
    "    \n",
    "def c_func(self):\n",
    "    print(self.b_name)\n",
    "    \n",
    "    \n",
    "c = type(\"C\", (A, B), {\"c_func\":c_func, \"c_name\":\"NameOfC\"})\n",
    "\n",
    "print(\"新对象C中定义的属性c_name的值为：\", c().c_name)\n",
    "\n",
    "c().c_func()"
   ]
  }
 ],
 "metadata": {
  "kernelspec": {
   "display_name": "Python 3",
   "language": "python",
   "name": "python3"
  },
  "language_info": {
   "codemirror_mode": {
    "name": "ipython",
    "version": 3
   },
   "file_extension": ".py",
   "mimetype": "text/x-python",
   "name": "python",
   "nbconvert_exporter": "python",
   "pygments_lexer": "ipython3",
   "version": "3.7.0"
  }
 },
 "nbformat": 4,
 "nbformat_minor": 2
}
