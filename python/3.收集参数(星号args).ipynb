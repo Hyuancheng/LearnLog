{
 "cells": [
  {
   "cell_type": "markdown",
   "metadata": {},
   "source": [
    "### 特点\n",
    "    定义函数中使用收集参数时，*args会将多余参数放在一个元组中，此时等同于：\n",
    "    args = (参数a, b, c)\n",
    "    当在函数内部再次对args使用*时，会将该元组展开，即：\n",
    "    *args = 参数a, b, c\n",
    "    "
   ]
  },
  {
   "cell_type": "code",
   "execution_count": 1,
   "metadata": {},
   "outputs": [
    {
     "name": "stdout",
     "output_type": "stream",
     "text": [
      "('a', 'b', 'c')\n",
      "a b c\n"
     ]
    }
   ],
   "source": [
    "def f1(*args):\n",
    "    print(args)\n",
    "    \n",
    "def f2(*args):\n",
    "    print(*args)\n",
    "    \n",
    "a, b, c = 'a', 'b', 'c'\n",
    "\n",
    "f1(a, b, c)\n",
    "f2(a, b, c)"
   ]
  }
 ],
 "metadata": {
  "kernelspec": {
   "display_name": "Python 3",
   "language": "python",
   "name": "python3"
  },
  "language_info": {
   "codemirror_mode": {
    "name": "ipython",
    "version": 3
   },
   "file_extension": ".py",
   "mimetype": "text/x-python",
   "name": "python",
   "nbconvert_exporter": "python",
   "pygments_lexer": "ipython3",
   "version": "3.7.0"
  }
 },
 "nbformat": 4,
 "nbformat_minor": 2
}
