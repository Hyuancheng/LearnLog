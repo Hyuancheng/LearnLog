{
 "cells": [
  {
   "cell_type": "markdown",
   "metadata": {},
   "source": [
    "### 2019.9.25 - 2019.9.27 "
   ]
  },
  {
   "cell_type": "markdown",
   "metadata": {},
   "source": [
    "###  装饰器的作用\n",
    "    在不修改被修饰函数代码的情况下，实现额外的功能，或者说调用被修饰函数之前，先实现一部分功能（比如检查登录状态）。\n",
    "### 特点\n",
    "    装饰器本身是一个函数，其将被修饰函数作为参数；\n",
    "    装饰器内部定义了一个包装函数（我自己理解的），该包装函数的参数与被修饰函数的参数一致。\n",
    "    在包装函数内部，包含了两部分：一为实现额外功能的代码，或者是调用被修饰函数的前提/判断条件；\n",
    "                                  二为调用被修饰函数；\n",
    "    装饰器函数的最后会返回包装函数（对象）（return 包装函数【不带（）括号】）\n",
    "### 使用\n",
    "    在定义被修饰函数的前一行添加，形式为：@装饰器函数【不带（）及参数】\n",
    "    \n",
    "### 理解\n",
    "    理解装饰器的关键点为：\n",
    "    @decorator 等同于  decorated_func = decorator(decorated_func)"
   ]
  },
  {
   "cell_type": "code",
   "execution_count": 6,
   "metadata": {},
   "outputs": [
    {
     "name": "stdout",
     "output_type": "stream",
     "text": [
      "行使附加功能\n",
      "行使函数功能\n"
     ]
    }
   ],
   "source": [
    "def decorator(func):\n",
    "    def wrapper(*args):\n",
    "        print('行使附加功能')\n",
    "        func()\n",
    "    return wrapper\n",
    "\n",
    "@decorator                  # 此处代码等价于 func = decorator(func)\n",
    "def func(*args):\n",
    "    print('行使函数功能')\n",
    "\n",
    "func()"
   ]
  },
  {
   "cell_type": "markdown",
   "metadata": {},
   "source": [
    "### 代码@decorator的作用：\n",
    "    1.在函数定义阶段，decorator函数立即被调用，返回wrapper函数对象，并存储在func中；即func()调用之前，func已经等同于wrapper\n",
    "    2.接着我们继续运行代码至最后一行，表面上看我们调用的是func()函数，但实际上调用了wrapper()函数。这也是为什么wrapper()函数的\n",
    "     参数要与func()函数的保持一致；\n",
    "    3.运行wrapper()函数,此时打印’行使附加功能‘，并运行原始的func()函数。尽管从全局来看，此时func对象已经被替换成了wrapper对象，\n",
    "     但由于decotator()函数内部命名空间的保护，传入的原始func()函数并未被替换。（详情可看下面例子）"
   ]
  },
  {
   "cell_type": "code",
   "execution_count": 21,
   "metadata": {},
   "outputs": [
    {
     "name": "stdout",
     "output_type": "stream",
     "text": [
      "20\n",
      "10\n"
     ]
    }
   ],
   "source": [
    "\n",
    "def change(a):\n",
    "    a = 10\n",
    "    def wrapper():\n",
    "        print(a)\n",
    "    return wrapper\n",
    "a = 20\n",
    "wrap = change(a)\n",
    "print(a)\n",
    "wrap()"
   ]
  },
  {
   "cell_type": "markdown",
   "metadata": {},
   "source": [
    "### 带参数的装饰器\n",
    "    理解了上述情况，再来看带参数的装饰器\n",
    "    与不带参数的装饰器相比，带参数的装饰器多定义了一层包装函数，以引入外部变量；\n",
    "    此时@decorator（parse) 等价于 func = decorator(parse)(func)"
   ]
  },
  {
   "cell_type": "code",
   "execution_count": 8,
   "metadata": {},
   "outputs": [
    {
     "name": "stdout",
     "output_type": "stream",
     "text": [
      "附加功能\n",
      "3\n",
      "我是func函数啊！\n"
     ]
    }
   ],
   "source": [
    "def decorator(parse):\n",
    "    def wrapper1(func):        # 该层包装函数的作用仅为将parse参数导入decorator内部的命名空间\n",
    "        def wrapper2(*args):\n",
    "            print('附加功能')\n",
    "            print(parse)\n",
    "            func()\n",
    "            \n",
    "        return wrapper2\n",
    "    return wrapper1\n",
    "\n",
    "@decorator(parse=3)\n",
    "def func(*args):\n",
    "    print('我是func函数啊！')\n",
    "    \n",
    "func()"
   ]
  },
  {
   "cell_type": "markdown",
   "metadata": {},
   "source": [
    "#### @decorator(parse=3)运行过程\n",
    "    1.运行decorator(parse)部分, 返回wrapper1对象,即func = wrapper1(func)，此时parse参数已被导入内部命名空间；\n",
    "    2.运行wrapper1(func),返回wrapper2对象，并被赋值给func,完成替换。"
   ]
  }
 ],
 "metadata": {
  "kernelspec": {
   "display_name": "Python 3",
   "language": "python",
   "name": "python3"
  },
  "language_info": {
   "codemirror_mode": {
    "name": "ipython",
    "version": 3
   },
   "file_extension": ".py",
   "mimetype": "text/x-python",
   "name": "python",
   "nbconvert_exporter": "python",
   "pygments_lexer": "ipython3",
   "version": "3.7.0"
  }
 },
 "nbformat": 4,
 "nbformat_minor": 2
}
