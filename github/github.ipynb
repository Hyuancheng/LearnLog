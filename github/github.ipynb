{
 "cells": [
  {
   "cell_type": "markdown",
   "metadata": {},
   "source": [
    "### fork\n",
    "    将对方的仓库拷贝到自己账号上\n",
    "    \n",
    "#### pull request\n",
    "    修改了拷贝后的代码后，可以发送该请求给仓库原所有者，所有者可以选择是否合并该代码。\n",
    "    \n",
    "### watch\n",
    "    关注，当项目有更新时，会第一时间接收到通知\n",
    "    \n",
    "### issue\n",
    "    倘若发现开源项目中存在bug，或认为不够完善的地方，则可以提出问题（issue）,项目开发者可以根据issue进行改进，解决问题后可以将issue关闭。"
   ]
  }
 ],
 "metadata": {
  "kernelspec": {
   "display_name": "Python 3",
   "language": "python",
   "name": "python3"
  },
  "language_info": {
   "codemirror_mode": {
    "name": "ipython",
    "version": 3
   },
   "file_extension": ".py",
   "mimetype": "text/x-python",
   "name": "python",
   "nbconvert_exporter": "python",
   "pygments_lexer": "ipython3",
   "version": "3.7.0"
  }
 },
 "nbformat": 4,
 "nbformat_minor": 2
}
