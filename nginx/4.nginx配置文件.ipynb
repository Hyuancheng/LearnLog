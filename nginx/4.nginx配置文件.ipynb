{
 "cells": [
  {
   "cell_type": "markdown",
   "metadata": {},
   "source": [
    "### 文件位置\n",
    "\n",
    "    /usr/local/nginx/conf\n",
    "    \n",
    "    \n",
    "### 文件内容分析\n",
    "\n",
    "##### worker_processes\n",
    "    \n",
    "    该值代表并发数量\n",
    "    \n",
    "##### events块\n",
    "\n",
    "    worker_connection：连接用户的最大连接数，应根据需要配置\n",
    "    \n",
    "  "
   ]
  }
 ],
 "metadata": {
  "kernelspec": {
   "display_name": "Python 3",
   "language": "python",
   "name": "python3"
  },
  "language_info": {
   "codemirror_mode": {
    "name": "ipython",
    "version": 3
   },
   "file_extension": ".py",
   "mimetype": "text/x-python",
   "name": "python",
   "nbconvert_exporter": "python",
   "pygments_lexer": "ipython3",
   "version": "3.7.0"
  }
 },
 "nbformat": 4,
 "nbformat_minor": 2
}
