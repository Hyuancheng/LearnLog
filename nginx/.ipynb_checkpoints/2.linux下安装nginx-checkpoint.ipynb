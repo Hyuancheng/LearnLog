{
 "cells": [
  {
   "cell_type": "markdown",
   "metadata": {},
   "source": [
    "### 安装nginx依赖\n",
    "    yum -y install gcc  zlib zlib-devel pcre-devel openssl openssl-devel\n",
    "    \n",
    "    \n",
    "### 下载并安装nginx\n",
    "\n",
    "    在windows下载nginx安装包，经Xftp6发送到linux下。\n",
    "    \n",
    "    \n",
    "#### 解压nginx\n",
    "    \n",
    "    tar -vxf nginx...tar.gz\n",
    "    \n",
    "#### 编译前的配置\n",
    "    \n",
    "    进入解压后的文件，运行\n",
    "    ./configure\n",
    "    \n",
    "    \n",
    "#### 编译并安装\n",
    "    \n",
    "    make && make install\n",
    "    \n",
    "    \n",
    "### 安装后\n",
    "\n",
    "    /usr/local 中会有nginx程序，/usr/local/nginx/sbin 中含程序的执行脚本\n",
    "\n",
    "    开启nginx服务指令: /usr/local/nginx/sbin/nginx"
   ]
  }
 ],
 "metadata": {
  "kernelspec": {
   "display_name": "Python 3",
   "language": "python",
   "name": "python3"
  },
  "language_info": {
   "codemirror_mode": {
    "name": "ipython",
    "version": 3
   },
   "file_extension": ".py",
   "mimetype": "text/x-python",
   "name": "python",
   "nbconvert_exporter": "python",
   "pygments_lexer": "ipython3",
   "version": "3.7.0"
  }
 },
 "nbformat": 4,
 "nbformat_minor": 2
}
