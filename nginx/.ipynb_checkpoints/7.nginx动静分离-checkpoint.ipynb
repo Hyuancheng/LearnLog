{
 "cells": [
  {
   "cell_type": "markdown",
   "metadata": {},
   "source": [
    "### 动静分离\n",
    "    \n",
    "    将静态文件直接由nginx从文件存储处返回，而无需通过web服务器处理。对于需要数据处理的动态请求，则通过location配置，交由后端服务器处理。\n",
    "    \n",
    "    动静分离的配置在location块进行\n",
    "    \n",
    "    location /image/ {\n",
    "        # 当url中以/image/开头时，nginx会在/data/目录下寻找/image/目录，调用其中对应的资源\n",
    "        root /data/;  \n",
    "    }\n",
    "    \n",
    "    location /www/ {\n",
    "        # 当url中以/www/开头时，nginx会在/data/目录下寻找/www/目录，调用其中对应的资源\n",
    "        root /data/;\n",
    "    }"
   ]
  }
 ],
 "metadata": {
  "kernelspec": {
   "display_name": "Python 3",
   "language": "python",
   "name": "python3"
  },
  "language_info": {
   "codemirror_mode": {
    "name": "ipython",
    "version": 3
   },
   "file_extension": ".py",
   "mimetype": "text/x-python",
   "name": "python",
   "nbconvert_exporter": "python",
   "pygments_lexer": "ipython3",
   "version": "3.7.0"
  }
 },
 "nbformat": 4,
 "nbformat_minor": 2
}
