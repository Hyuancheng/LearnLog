{
 "cells": [
  {
   "cell_type": "markdown",
   "metadata": {},
   "source": [
    "### nginx匹配规则\n",
    "\n",
    "#### location块\n",
    "    location [= | ~ | ^~ | ~*] uri {\n",
    "        something\n",
    "    }\n",
    "    \n",
    "    =：表示严格匹配，不含正则表达式\n",
    "    \n",
    "    ~：表示利用正则表达式匹配，且区分大小写。只要请求的url中包含~后的uri,则匹配成功。\n",
    "    \n",
    "    ~*：与~相似，只是不区分大小写\n",
    "    \n",
    "    ^~：表示匹配以uri开头的url请求\n",
    "    \n",
    "    /：通配符，任何请求均能匹配成功\n",
    "    \n",
    "    ！~：区分大小写，不与uri正则表达式匹配的请求。其实就是not ~\n",
    "    \n",
    "    !~*: 表示~*的取反，not ~*"
   ]
  },
  {
   "cell_type": "markdown",
   "metadata": {},
   "source": [
    "### 反向代理实例一\n",
    "\n",
    "    下面的配置表示，当请求发送至 http://192.168.183.131 时，nginx会将请求转发至 http://127.0.0.1:8000\n",
    "\n",
    "    server {\n",
    "        listen       80;\n",
    "        # 这里设置外界访问nginx的入口，默认是localhost，此处改为对外ip地址\n",
    "        server_name  192.168.183.131;\n",
    "\n",
    "        #charset koi8-r;\n",
    "\n",
    "        #access_log  logs/host.access.log  main;\n",
    "\n",
    "        location / {\n",
    "            # root   html;\n",
    "            # 这里添加设置nginx服务器收到请求后，转发到哪个地址\n",
    "            proxy_pass http://127.0.0.1:8000\n",
    "            # index  index.html index.htm;\n",
    "        }\n",
    "\n",
    "\n",
    "### 反向代理实例二\n",
    "    \n",
    "    下面的例子展示了，nginx面对不同url请求时，会对请求进行分发处理\n",
    "    \n",
    "    server {\n",
    "        # nginx监听的端口\n",
    "        listen       80;\n",
    "        \n",
    "        # 这里设置外界访问nginx的入口，默认是localhost，此处改为对外ip地址\n",
    "        server_name  192.168.183.131;\n",
    "        \n",
    "        # 只要请求url中包含/dev/,则会匹配成功\n",
    "        location ~ /dev/ {\n",
    "            # 这里添加设置nginx服务器收到请求后，转发到8001端口\n",
    "            proxy_pass http://127.0.0.1:8001\n",
    "        }\n",
    "        \n",
    "        # 只要请求url中包含/abc/,则会匹配成功\n",
    "        location ~ /abc/ {\n",
    "            # 这里添加设置nginx服务器收到请求后，转发到8002端口\n",
    "            proxy_pass http://127.0.0.1:8002\n",
    "        }"
   ]
  }
 ],
 "metadata": {
  "kernelspec": {
   "display_name": "Python 3",
   "language": "python",
   "name": "python3"
  },
  "language_info": {
   "codemirror_mode": {
    "name": "ipython",
    "version": 3
   },
   "file_extension": ".py",
   "mimetype": "text/x-python",
   "name": "python",
   "nbconvert_exporter": "python",
   "pygments_lexer": "ipython3",
   "version": "3.7.0"
  }
 },
 "nbformat": 4,
 "nbformat_minor": 2
}
