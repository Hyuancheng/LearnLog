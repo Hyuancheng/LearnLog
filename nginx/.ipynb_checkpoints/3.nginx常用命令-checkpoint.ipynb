{
 "cells": [
  {
   "cell_type": "markdown",
   "metadata": {},
   "source": [
    "### 执行命令的前提\n",
    "    \n",
    "    进入nginx的目录：\n",
    "    /usr/local/nginx/sbin\n",
    "    \n",
    "\n",
    "#### 查看版本\n",
    "\n",
    "    ./nginx -v\n",
    "    \n",
    "    \n",
    "#### 启动\n",
    "\n",
    "    ./nginx\n",
    "    \n",
    "#### 关闭\n",
    "\n",
    "    ./nginx -s stop\n",
    "    \n",
    "    \n",
    "#### 重新加载配置文件\n",
    "\n",
    "    ./nginx -s reload\n",
    "    "
   ]
  }
 ],
 "metadata": {
  "kernelspec": {
   "display_name": "Python 3",
   "language": "python",
   "name": "python3"
  },
  "language_info": {
   "codemirror_mode": {
    "name": "ipython",
    "version": 3
   },
   "file_extension": ".py",
   "mimetype": "text/x-python",
   "name": "python",
   "nbconvert_exporter": "python",
   "pygments_lexer": "ipython3",
   "version": "3.7.0"
  }
 },
 "nbformat": 4,
 "nbformat_minor": 2
}
