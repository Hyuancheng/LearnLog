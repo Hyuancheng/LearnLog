{
 "cells": [
  {
   "cell_type": "markdown",
   "metadata": {},
   "source": [
    "### 负载均衡实例\n",
    "\n",
    "    编辑/usr/local/nginx/conf/nginx.conf文件\n",
    "    \n",
    "    与server同级处添加负载均衡列表，此处取名为myserver\n",
    "    \n",
    "    upstream myserver {\n",
    "        # 倘若采取ip_hash方式，则需添加下面这行配置\n",
    "        # ip_hash; \n",
    "        server 192.168.183.131:8080 weight=1;\n",
    "        server 192.168.183.131:8081 weight=1;\n",
    "    }\n",
    "    \n",
    "    配置server内的location块\n",
    "    location ~ /edu/ {\n",
    "        # myserver 即负载均衡列表的名字\n",
    "        proxy_pass http://myserver;\n",
    "    }"
   ]
  },
  {
   "cell_type": "markdown",
   "metadata": {},
   "source": [
    "### 分配策略\n",
    "    \n",
    "    1.轮询\n",
    "        即按顺序将请求轮流发送到不同服务器中，如果其中有服务器崩溃，则会自动剔除；\n",
    "        \n",
    "    2.权重\n",
    "        weight参数，数字越大，比重越高，接收的转发请求越多\n",
    "        \n",
    "    3.ip_hash\n",
    "        即根据请求的ip地址hash值确定访问的客户端，一个ip地址固定访问某个服务器，该方法可以解决session共享问题。\n",
    "        该方法的使用方式为在upstream的第一项添加ip_hash。（见示例）\n",
    "        \n",
    "    4.fair(第三方)\n",
    "        即根据响应时间分配，响应时间越短，分配次数越多。\n",
    "        \n",
    "        配置方法为在upstream中添加fair选项\n",
    "        \n",
    "        upstream myserver {\n",
    "        fair;\n",
    "        server 192.168.183.131:8080 weight=1;\n",
    "        server 192.168.183.131:8081 weight=1;\n",
    "        \n",
    "        "
   ]
  }
 ],
 "metadata": {
  "kernelspec": {
   "display_name": "Python 3",
   "language": "python",
   "name": "python3"
  },
  "language_info": {
   "codemirror_mode": {
    "name": "ipython",
    "version": 3
   },
   "file_extension": ".py",
   "mimetype": "text/x-python",
   "name": "python",
   "nbconvert_exporter": "python",
   "pygments_lexer": "ipython3",
   "version": "3.7.0"
  }
 },
 "nbformat": 4,
 "nbformat_minor": 2
}
