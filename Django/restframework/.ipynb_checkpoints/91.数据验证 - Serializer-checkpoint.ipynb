{
 "cells": [
  {
   "cell_type": "markdown",
   "metadata": {},
   "source": [
    "## 反向序列化\n",
    "\n",
    "    将前台提交的数据传入Serializer的data参数中，进行实例化，可以得到一个反向序列化的实例对象。\n",
    "    \n",
    "    但是，要将该对象保存到数据库中，还必须调用.is_valid()方法进行数据验证。"
   ]
  },
  {
   "cell_type": "markdown",
   "metadata": {},
   "source": [
    "## 数据验证\n",
    "    \n",
    "    Serializer的数据验证功能与django的form表单极其相似。\n",
    "    \n",
    "    Serializer中每个字段都有默认的验证器，当调用instance.is_valid()方法时，会根据每个字段的验证器对字段进行验证：\n",
    "        倘若通过，返回True，所有通过验证的数据都将保存在instance.validated_data字典中。（instance.validated_data是一个property属性，其等于instance._validated_data）\n",
    "        倘若失败，返回False，错误信息将保存到instance.errors字典中。\n",
    "        \n",
    "    以官方文档中的例子如下："
   ]
  },
  {
   "cell_type": "code",
   "execution_count": null,
   "metadata": {},
   "outputs": [],
   "source": [
    "serializer = CommentSerializer(data={'email': 'foobar', 'content': 'baz'})\n",
    "serializer.is_valid()\n",
    "# False\n",
    "serializer.errors\n",
    "# {'email': ['Enter a valid e-mail address.'], 'created': ['This field is required.']}"
   ]
  },
  {
   "cell_type": "markdown",
   "metadata": {},
   "source": [
    "#### 验证单个字段\n",
    "\n",
    "    倘若需要对某个字段进行额外的验证，则可以自定义验证方法，其方式与django的form表单类似。方法名称为：validate_<field_name>，该方法接收一个value参数，当原始的值通过字段默认验证之后，会被传入自定义验证方法中，验证结果应当如下：\n",
    "    如果通过验证，则返回value值；\n",
    "    如果未通过验证，则抛出异常serializers.ValidationError。\n",
    "    \n",
    "    官方文档示例如下："
   ]
  },
  {
   "cell_type": "code",
   "execution_count": null,
   "metadata": {},
   "outputs": [],
   "source": [
    "from rest_framework import serializers\n",
    "\n",
    "class BlogPostSerializer(serializers.Serializer):\n",
    "    title = serializers.CharField(max_length=100)\n",
    "    content = serializers.CharField()\n",
    "\n",
    "    def validate_title(self, value):\n",
    "        \"\"\"\n",
    "        Check that the blog post is about Django.\n",
    "        \"\"\"\n",
    "        if 'django' not in value.lower():\n",
    "            raise serializers.ValidationError(\"Blog post is not about Django\")\n",
    "        return value"
   ]
  },
  {
   "cell_type": "markdown",
   "metadata": {},
   "source": [
    "#### 验证多个字段\n",
    "\n",
    "    倘若需要多个字段，比如需要确定用户输入的两次密码是否一致。此时可以自定义validate方法，该方法接收一个data参数，instance.validated_data会作为参数被传入该方法中。执行结果为：\n",
    "    如果验证成功，则返回验证后的值，即传入的字典（可以对其中的值进行加工修改后返回）。\n",
    "    如果验证失败，则抛出Serializers.ValidationError异常。\n",
    "    \n",
    "    官方文档示例："
   ]
  },
  {
   "cell_type": "code",
   "execution_count": null,
   "metadata": {},
   "outputs": [],
   "source": [
    "from rest_framework import serializers\n",
    "\n",
    "class EventSerializer(serializers.Serializer):\n",
    "    description = serializers.CharField(max_length=100)\n",
    "    start = serializers.DateTimeField()\n",
    "    finish = serializers.DateTimeField()\n",
    "\n",
    "    def validate(self, data):\n",
    "        \"\"\"\n",
    "        Check that start is before finish.\n",
    "        \"\"\"\n",
    "        if data['start'] > data['finish']:\n",
    "            raise serializers.ValidationError(\"finish must occur after start\")\n",
    "        return data"
   ]
  },
  {
   "cell_type": "markdown",
   "metadata": {},
   "source": [
    "### 验证器\n",
    "    \n",
    "    单个除了上述方法对数据进行验证外，还可以定义一个单独的函数或者类，这种方式显得更加灵活，与Serializer解耦，有更强的复用性。\n",
    "    \n",
    "    与验证方法不同的地方在于，无论是字段中定义的validators还是Meta类中定义的validators，验证成功后均无需返回验证的值。而验证方法则需要返回验证成功后的值。"
   ]
  },
  {
   "cell_type": "markdown",
   "metadata": {},
   "source": [
    "#### 字段级验证器 - 验证单个字段\n",
    "\n",
    "    函数含一个value参数，用于接收对应字段的值。将该函数对象添加到字段的validators选项中。当执行验证时，会先执行字段的默认验证，再调用validators中的验证器。处理结果：\n",
    "        如果验证成功，则无需返回验证的值\n",
    "        如果验证失败，则引发serializers.ValidationError\n",
    "\n",
    "    官方文档示例："
   ]
  },
  {
   "cell_type": "code",
   "execution_count": null,
   "metadata": {},
   "outputs": [],
   "source": [
    "def multiple_of_ten(value):\n",
    "    if value % 10 != 0:\n",
    "        raise serializers.ValidationError('Not a multiple of ten')\n",
    "\n",
    "class GameRecord(serializers.Serializer):\n",
    "    score = IntegerField(validators=[multiple_of_ten])\n",
    "    ..."
   ]
  },
  {
   "cell_type": "markdown",
   "metadata": {},
   "source": [
    "#### 对象级验证器 - 验证多个字段\n",
    "    \n",
    "    drf内置了很多可以在Meta类中配置的验证器（详情可参考官方文档）。这些验证器可以对多个字段进行依赖验证。\n",
    "    \n",
    "    官方文档示例如下："
   ]
  },
  {
   "cell_type": "code",
   "execution_count": null,
   "metadata": {},
   "outputs": [],
   "source": [
    "class EventSerializer(serializers.Serializer):\n",
    "    name = serializers.CharField()\n",
    "    room_number = serializers.IntegerField(choices=[101, 102, 103, 201])\n",
    "    date = serializers.DateField()\n",
    "\n",
    "    class Meta:\n",
    "        # Each room only has one event per day.\n",
    "        validators = [\n",
    "            UniqueTogetherValidator(\n",
    "                queryset=Event.objects.all(),\n",
    "                fields=['room_number', 'date']\n",
    "            )\n",
    "        ]"
   ]
  },
  {
   "cell_type": "markdown",
   "metadata": {},
   "source": [
    "\n",
    "#### 关联字段验证\n",
    "\n",
    "    与序列化时的方式相同，将Serializer实例作为字段即可。倘若该字段允许为空，则required=False，字段可能关联多个对象时，设置many=True\n",
    "    \n",
    "    官方文档示例： "
   ]
  },
  {
   "cell_type": "code",
   "execution_count": 2,
   "metadata": {},
   "outputs": [],
   "source": [
    "class CommentSerializer(serializers.Serializer):\n",
    "    user = UserSerializer(required=False)\n",
    "    edits = EditItemSerializer(many=True)  # A nested list of 'edit' items.\n",
    "    content = serializers.CharField(max_length=200)\n",
    "    created = serializers.DateTimeField()"
   ]
  },
  {
   "cell_type": "markdown",
   "metadata": {},
   "source": [
    "## Serializer数据验证核心方法源码"
   ]
  },
  {
   "cell_type": "code",
   "execution_count": null,
   "metadata": {},
   "outputs": [],
   "source": [
    "    # serializer.is_valid  -->  serializer.run_validation\n",
    "    def run_validation(self, data=empty):\n",
    "        \"\"\"\n",
    "        We override the default `run_validation`, because the validation\n",
    "        performed by validators and the `.validate()` method should\n",
    "        be coerced into an error dictionary with a 'non_fields_error' key.\n",
    "        \"\"\"\n",
    "        (is_empty_value, data) = self.validate_empty_values(data)\n",
    "        if is_empty_value:\n",
    "            return data\n",
    "        # 执行字段默认验证，再执行字段validators, 再执行validate_<field_name>\n",
    "        value = self.to_internal_value(data)\n",
    "        try:\n",
    "            # 执行meta类中的validators\n",
    "            self.run_validators(value)\n",
    "            value = self.validate(value)\n",
    "            assert value is not None, '.validate() should return the validated data'\n",
    "        except (ValidationError, DjangoValidationError) as exc:\n",
    "            raise ValidationError(detail=as_serializer_error(exc))\n",
    "        \n",
    "        # 此处的value即self.validated_data字典\n",
    "        return value"
   ]
  }
 ],
 "metadata": {
  "kernelspec": {
   "display_name": "Python 3",
   "language": "python",
   "name": "python3"
  },
  "language_info": {
   "codemirror_mode": {
    "name": "ipython",
    "version": 3
   },
   "file_extension": ".py",
   "mimetype": "text/x-python",
   "name": "python",
   "nbconvert_exporter": "python",
   "pygments_lexer": "ipython3",
   "version": "3.7.0"
  }
 },
 "nbformat": 4,
 "nbformat_minor": 2
}
