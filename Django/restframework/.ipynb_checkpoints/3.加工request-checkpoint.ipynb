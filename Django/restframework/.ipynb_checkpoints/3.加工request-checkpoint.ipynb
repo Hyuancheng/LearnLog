{
 "cells": [
  {
   "cell_type": "markdown",
   "metadata": {},
   "source": [
    "#### 加工request\n",
    "    \n",
    "    在dispatch方法中,通过调用self.initialize_request方法对request进行进一步封装"
   ]
  },
  {
   "cell_type": "markdown",
   "metadata": {},
   "source": [
    "#### self.initialize_request源码"
   ]
  },
  {
   "cell_type": "code",
   "execution_count": null,
   "metadata": {},
   "outputs": [],
   "source": [
    "    def initialize_request(self, request, *args, **kwargs):\n",
    "        \"\"\"\n",
    "        Returns the initial request object.\n",
    "        \"\"\"\n",
    "        parser_context = self.get_parser_context(request)\n",
    "\n",
    "        return Request(\n",
    "            request,\n",
    "            parsers=self.get_parsers(),               #  获取用于解析request.body的解析器，并保存到request对象中，获取request.data时被调用\n",
    "            authenticators=self.get_authenticators(), # 获取当前类中配置的验证类\n",
    "            negotiator=self.get_content_negotiator(), # 获取一个默认的过滤类，用于选择正确的解析器parser解析request.body\n",
    "            parser_context=parser_context             # 包含视图对象本身self以及传入视图的参数args, kwargs。解析时会被传入解析器的parse方法中\n",
    "        )\n",
    "    \n",
    "    \n",
    "    \n",
    "    def get_parser_context(self, http_request):\n",
    "        \"\"\"\n",
    "        Returns a dict that is passed through to Parser.parse(),\n",
    "        as the `parser_context` keyword argument.\n",
    "        \"\"\"\n",
    "        # Note: Additionally `request` and `encoding` will also be added\n",
    "        #       to the context by the Request object.\n",
    "        return {\n",
    "            'view': self,\n",
    "            'args': getattr(self, 'args', ()),\n",
    "            'kwargs': getattr(self, 'kwargs', {})\n",
    "        }"
   ]
  },
  {
   "cell_type": "markdown",
   "metadata": {},
   "source": [
    "#### self.get_parsers源码"
   ]
  },
  {
   "cell_type": "code",
   "execution_count": null,
   "metadata": {},
   "outputs": [],
   "source": [
    "def get_parsers(self):\n",
    "    \"\"\"\n",
    "    Instantiates and returns the list of parsers that this view can use.\n",
    "    \"\"\"\n",
    "    return [parser() for parser in self.parser_classes]"
   ]
  },
  {
   "cell_type": "markdown",
   "metadata": {},
   "source": [
    "#### self.get_authenticators源码"
   ]
  },
  {
   "cell_type": "code",
   "execution_count": null,
   "metadata": {},
   "outputs": [],
   "source": [
    "    def get_authenticators(self):\n",
    "        \"\"\"\n",
    "        Instantiates and returns the list of authenticators that this view can use.\n",
    "        \"\"\"\n",
    "        # 其返回一个由用户认证类对象组成的列表\n",
    "        return [auth() for auth in self.authentication_classes]"
   ]
  },
  {
   "cell_type": "code",
   "execution_count": null,
   "metadata": {},
   "outputs": [],
   "source": []
  },
  {
   "cell_type": "code",
   "execution_count": null,
   "metadata": {},
   "outputs": [],
   "source": []
  }
 ],
 "metadata": {
  "kernelspec": {
   "display_name": "Python 3",
   "language": "python",
   "name": "python3"
  },
  "language_info": {
   "codemirror_mode": {
    "name": "ipython",
    "version": 3
   },
   "file_extension": ".py",
   "mimetype": "text/x-python",
   "name": "python",
   "nbconvert_exporter": "python",
   "pygments_lexer": "ipython3",
   "version": "3.7.0"
  }
 },
 "nbformat": 4,
 "nbformat_minor": 2
}
