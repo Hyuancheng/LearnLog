{
 "cells": [
  {
   "cell_type": "markdown",
   "metadata": {},
   "source": [
    "## 用户认证 - 由self.perform_authentication实现\n",
    "    \n",
    "    1.遍历当前视图配置的用户认证类所组成列表\n",
    "    2.遍历时执行认证类的authenticate方法。其原理为：\n",
    "        倘若验证不通过，则引发异常，框架会直接返回response，自动跳过后续认证类及视图函数\n",
    "        倘若验证通过，列表最后一个验证类的authenticate方法应返回一个由用户对象、认证凭证组成的二元组(self.user, selff.auth)，其他验证类返回None，继续往后执行其他验证类。"
   ]
  },
  {
   "cell_type": "markdown",
   "metadata": {},
   "source": [
    "#### 1. 获取用户认证类组成的列表\n",
    "\n",
    "    要完成遍历用户认证列表的操作，则必须先了解drf如何获取到该列表：\n",
    "    在对request做进一步加工时(实例化Request)，调用self.get_authenticator方法（此处的self指向classView），并保存在Request.authenticators属性中\n",
    "\n",
    "#### self.get_authenticator源码"
   ]
  },
  {
   "cell_type": "code",
   "execution_count": null,
   "metadata": {},
   "outputs": [],
   "source": [
    "    def get_authenticators(self):\n",
    "        \"\"\"\n",
    "        Instantiates and returns the list of authenticators that this view can use.\n",
    "        \"\"\"\n",
    "        return [auth() for auth in self.authentication_classes]\n",
    "    \n",
    "    \n",
    "    # APIView中含有self.authentication_classes属性\n",
    "    self.authentication_classes = api_settings.DEFAULT_AUTHENTICATION_CLASSES"
   ]
  },
  {
   "cell_type": "markdown",
   "metadata": {},
   "source": [
    "#### 2.遍历用户认证类\n",
    "    "
   ]
  },
  {
   "cell_type": "code",
   "execution_count": null,
   "metadata": {},
   "outputs": [],
   "source": [
    "    def perform_authentication(self, request):\n",
    "        \"\"\"\n",
    "        Perform authentication on the incoming request.\n",
    "\n",
    "        Note that if you override this and simply 'pass', then authentication\n",
    "        will instead be performed lazily, the first time either\n",
    "        `request.user` or `request.auth` is accessed.\n",
    "        \"\"\"\n",
    "        request.user\n",
    "        \n",
    "    # request.user 是property属性\n",
    "    \n",
    "    @property\n",
    "    def user(self):\n",
    "        \"\"\"\n",
    "        Returns the user associated with the current request, as authenticated\n",
    "        by the authentication classes provided to the request.\n",
    "        \"\"\"\n",
    "        if not hasattr(self, '_user'):\n",
    "            with wrap_attributeerrors():\n",
    "                self._authenticate()\n",
    "        return self._user   # 目前来看，这个返回值似乎没用\n",
    "    \n",
    "    \n",
    "    # 在该方法中完成遍历\n",
    "    def _authenticate(self):\n",
    "    \"\"\"\n",
    "    Attempt to authenticate the request using each authentication instance\n",
    "    in turn.\n",
    "    \"\"\"\n",
    "    for authenticator in self.authenticators:\n",
    "        try:\n",
    "            user_auth_tuple = authenticator.authenticate(self)\n",
    "        except exceptions.APIException:\n",
    "            self._not_authenticated()\n",
    "            raise\n",
    "\n",
    "        if user_auth_tuple is not None:\n",
    "            self._authenticator = authenticator\n",
    "            self.user, self.auth = user_auth_tuple\n",
    "            return\n",
    "\n",
    "    self._not_authenticated()\n",
    "    \n",
    "    "
   ]
  },
  {
   "cell_type": "markdown",
   "metadata": {},
   "source": [
    "### 3.认证demo"
   ]
  },
  {
   "cell_type": "markdown",
   "metadata": {},
   "source": [
    "#### 3.1局部配置\n",
    "    \n",
    "    在获取认证列表时，通过self.authentication_classes属性进行获取，则可以在类视图中定义一个authentication_classes属性，该属性为列表，在其中添加自定义的认证类。"
   ]
  },
  {
   "cell_type": "code",
   "execution_count": null,
   "metadata": {},
   "outputs": [],
   "source": [
    "from rest_framework.authentication import BaseAuthentication\n",
    "from rest_framework.exceptions import AuthenticationFailed\n",
    "from rest_framework.view import APIView\n",
    "\n",
    "class UserAuthentication(BaseAuthentication):\n",
    "    \"\"\"验证用户登录\"\"\"\n",
    "    \n",
    "    def authenticator(self, request):\n",
    "        \n",
    "        user = getattr(request._request, 'user', None)\n",
    "        \n",
    "        if not user and not user.is_active:\n",
    "            raise AuthenticationFailed(\"未通过验证！\")\n",
    "        # 返回二元组，最终赋值情况为：request.user = user, self.auth = None\n",
    "        return user, None\n",
    "    \n",
    "    \n",
    "class MyView(APIView):\n",
    "    \n",
    "    authentication_classes = [UserAuthentication]\n",
    "    \n",
    "    def get(self, request):\n",
    "        pass"
   ]
  },
  {
   "cell_type": "markdown",
   "metadata": {},
   "source": [
    "#### 3.2 全局配置\n",
    "    \n",
    "    倘若需要对所有类视图进行验证，则可以在settings.py中进行全局验证。\n",
    "    \n",
    "##### 值得一提的是，drf会先在视图中寻找认证列表，然后再从配置文件中加载。\n",
    "    基于这一点，可以对个别不需要进行全局认证的视图进行更加精细的控制\n",
    "    "
   ]
  },
  {
   "cell_type": "code",
   "execution_count": null,
   "metadata": {},
   "outputs": [],
   "source": [
    "# settings.py\n",
    "\n",
    "REST_FRAMEWORK = {\n",
    "    'DEFAULT_AUTHENTICATION_CLASSES': ['api.utils.auth.UserAuthentication',]\n",
    "}"
   ]
  },
  {
   "cell_type": "markdown",
   "metadata": {},
   "source": [
    "### 自定义认证类\n",
    "    \n",
    "    主要为两点：\n",
    "    1.继承rest_framework.authentication.BaseAuthentication\n",
    "    2.重写authenticate(self, request)方法。\n",
    "        如果有多个认证类，认证成功时，列表前面的认证类应返回None,最后一个认证类返回一个二元组（用户对象，认证凭证）。认证凭证可以为token, session_id，也可以直接为None。\n",
    "        如果认证失败，则抛出rest_framework.exceptions.AuthenticationFailed异常"
   ]
  }
 ],
 "metadata": {
  "kernelspec": {
   "display_name": "Python 3",
   "language": "python",
   "name": "python3"
  },
  "language_info": {
   "codemirror_mode": {
    "name": "ipython",
    "version": 3
   },
   "file_extension": ".py",
   "mimetype": "text/x-python",
   "name": "python",
   "nbconvert_exporter": "python",
   "pygments_lexer": "ipython3",
   "version": "3.7.0"
  }
 },
 "nbformat": 4,
 "nbformat_minor": 2
}
