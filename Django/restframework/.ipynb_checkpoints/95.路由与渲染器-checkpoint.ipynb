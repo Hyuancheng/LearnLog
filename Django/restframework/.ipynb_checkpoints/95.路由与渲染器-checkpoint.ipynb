{
 "cells": [
  {
   "cell_type": "markdown",
   "metadata": {},
   "source": [
    "## 路由\n",
    "\n",
    "    ViewSetMixin重写了dispatch方法，改变了视图函数与http请求方法的映射关系。因此当视图继承ViewSetMixin后，就需要在路由模块中指定映射关系的具体实现，即什么请求方法，要调用哪个视图方法。\n",
    "    \n",
    "    其配置方式为："
   ]
  },
  {
   "cell_type": "code",
   "execution_count": null,
   "metadata": {},
   "outputs": [],
   "source": [
    "# 只需构建两条路由就能实现增删改查四种操作，在as_view中传入一个表示映射关系的字典，请求名为键，方法名为值\n",
    "urlpatterns = [\n",
    "    path('/user/', views.UserView.as_view({'get': 'list'})),\n",
    "    path('/user/<int:pk>/', views.UserView.as_view({'get': 'retrive', \n",
    "                                              'post': 'create', \n",
    "                                              'put': 'update', \n",
    "                                              'patch': 'partial_update', \n",
    "                                              'delete': 'destroy'}))   \n",
    "]\n",
    "\n",
    "\n",
    "# 另外，在路由中可以告知后台应返回什么格式的数据，drf的渲染器会根据路由中的参数进行处理。比如json，只需这样配置\n",
    "\n",
    "urlpatterns = [\n",
    "    path('/user/.json', views.UserView({'get': 'list'})),\n",
    "    path('/user/<int:pk>/.json', views.UserView.as_view({'get': 'retrive', \n",
    "                                              'post': 'create', \n",
    "                                              'put': 'update', \n",
    "                                              'patch': 'partial_update', \n",
    "                                              'delete': 'destroy'}))   \n",
    "]"
   ]
  },
  {
   "cell_type": "markdown",
   "metadata": {},
   "source": [
    "#### 自动生成路由\n",
    "    \n",
    "    上面的四条路由是我们自己设计的，不难发现，普通的增删改查路由的设计规则实际上是一致的，意味着可以批量生成。drf提供了routers组件帮我们自动生成这些常规的路由。"
   ]
  },
  {
   "cell_type": "code",
   "execution_count": null,
   "metadata": {},
   "outputs": [],
   "source": [
    "from rest_framework import routers\n",
    "\n",
    "router = routers.SimpleRouter()\n",
    "router.register(r'users', UserViewSet)\n",
    "urlpatterns = router.urls\n",
    "\n",
    "# 也可以通过include方法合并路由\n",
    "urlpatterns = [\n",
    "    '', include(router.urls)\n",
    "]\n",
    "\n",
    "# 此时会自动生成与上面四条路由一致的匹配规则\n",
    "path('/user/', views.UserView({'get': 'list'})),\n",
    "path('/user/<int:pk>/', views.UserView.as_view({'get': 'retrive', \n",
    "                                              'post': 'create', \n",
    "                                              'put': 'update', \n",
    "                                              'patch': 'partial_update', \n",
    "                                              'delete': 'destroy'}))\n",
    "path('/user/.json', views.UserView({'get': 'list'})),\n",
    "path('/user/<int:pk>/.json', views.UserView.as_view({'get': 'retrive', \n",
    "                                              'post': 'create', \n",
    "                                              'put': 'update', \n",
    "                                              'patch': 'partial_update', \n",
    "                                              'delete': 'destroy'}))\n"
   ]
  },
  {
   "cell_type": "markdown",
   "metadata": {},
   "source": [
    "#### 路由器的使用\n",
    "    \n",
    "    路由器的自动生成适合增删改查功能都是默认实现的情况。？？？？？？？？？？？？？？？？？？？？？？？？？？？？？"
   ]
  },
  {
   "cell_type": "markdown",
   "metadata": {},
   "source": [
    "## 渲染器 - renderers\n",
    "    \n",
    "    渲染器决定了后台返回数据时的格式（是json，还是html页面），drf内置了许多渲染器。渲染器默认按请求头Accept字段中指定的格式返回数据。另外也可以通过url显示指定返回的数据格式：\n",
    "        1.通过get参数，?format='json'\n",
    "        2.在url路径中添加后缀，如：/users/1.json/ ，路由设计为：/users/<int:pk>\\.<str:format>/\n",
    "    \n",
    "    \n",
    "    dfr内置了很多渲染器，但最常用的渲染器为JsonRenderer, BrowsableAPIRenderer"
   ]
  },
  {
   "cell_type": "markdown",
   "metadata": {},
   "source": [
    "#### JsonRenderer\n",
    "    \n",
    "    顾名思义，该渲染器用于返回json数据。参数详情如下：\n",
    "    .media_type: application/json  （Accept字段值）\n",
    "    .format: 'json'\n",
    "    .charset: None"
   ]
  },
  {
   "cell_type": "markdown",
   "metadata": {},
   "source": [
    "#### BrowsableAPIRenderer\n",
    "\n",
    "    该渲染器将数据与drf内置的模板渲染后再返回，前台得到的是一个可直接用于展示的html文档。参数为：\n",
    "    .media_type: text/html\n",
    "    .format: 'api'\n",
    "    .charset: utf-8\n",
    "    .template: 'rest_framework/api.html'\n",
    "    "
   ]
  },
  {
   "cell_type": "markdown",
   "metadata": {},
   "source": [
    "### 渲染器的配置方法"
   ]
  },
  {
   "cell_type": "markdown",
   "metadata": {},
   "source": [
    "#### 1.全局配置\n",
    "    \n",
    "    官方文档示例："
   ]
  },
  {
   "cell_type": "code",
   "execution_count": null,
   "metadata": {},
   "outputs": [],
   "source": [
    "REST_FRAMEWORK = {\n",
    "    'DEFAULT_RENDERER_CLASSES': [\n",
    "        'rest_framework.renderers.JSONRenderer',\n",
    "        'rest_framework.renderers.BrowsableAPIRenderer',\n",
    "    ]\n",
    "}"
   ]
  },
  {
   "cell_type": "markdown",
   "metadata": {},
   "source": [
    "#### 2.局部配置\n",
    "    \n",
    "    官方文档示例："
   ]
  },
  {
   "cell_type": "code",
   "execution_count": null,
   "metadata": {},
   "outputs": [],
   "source": [
    "class UserCountView(APIView):\n",
    "    \"\"\"\n",
    "    A view that returns the count of active users in JSON.\n",
    "    \"\"\"\n",
    "    renderer_classes = [JSONRenderer]\n",
    "\n",
    "    def get(self, request, format=None):\n",
    "        user_count = User.objects.filter(active=True).count()\n",
    "        content = {'user_count': user_count}\n",
    "        return Response(content)"
   ]
  }
 ],
 "metadata": {
  "kernelspec": {
   "display_name": "Python 3",
   "language": "python",
   "name": "python3"
  },
  "language_info": {
   "codemirror_mode": {
    "name": "ipython",
    "version": 3
   },
   "file_extension": ".py",
   "mimetype": "text/x-python",
   "name": "python",
   "nbconvert_exporter": "python",
   "pygments_lexer": "ipython3",
   "version": "3.7.0"
  }
 },
 "nbformat": 4,
 "nbformat_minor": 2
}
