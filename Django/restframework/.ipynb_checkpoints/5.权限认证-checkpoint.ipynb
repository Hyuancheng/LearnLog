{
 "cells": [
  {
   "cell_type": "markdown",
   "metadata": {},
   "source": [
    "## 权限认证 - self.check_permissions\n",
    "    \n",
    "    权限认证的实现原理与用户认证一致，只是核心方法接收的参数以及认证的返回值不同，其流程为：\n",
    "    1.由self.get_permissions()（该方法为需要自定义的核心方法）获取权限认证类列表\n",
    "    2.遍历该列表，调用认证类的has_permission方法，有两种可能的返回值：\n",
    "        倘若通过认证，则返回True\n",
    "        倘若未通过认证，则返回False/None\n",
    "    "
   ]
  },
  {
   "cell_type": "markdown",
   "metadata": {},
   "source": [
    "#### 1.获取权限类列表"
   ]
  },
  {
   "cell_type": "code",
   "execution_count": null,
   "metadata": {},
   "outputs": [],
   "source": [
    "    def get_permissions(self):\n",
    "        \"\"\"\n",
    "        Instantiates and returns the list of permissions that this view requires.\n",
    "        \"\"\"\n",
    "        return [permission() for permission in self.permission_classes]"
   ]
  },
  {
   "cell_type": "markdown",
   "metadata": {},
   "source": [
    "#### 2.遍历权限类\n",
    "    \n",
    "    可在类视图中定义self.message属性，定制权限认证失败时返回的提示信息"
   ]
  },
  {
   "cell_type": "code",
   "execution_count": null,
   "metadata": {},
   "outputs": [],
   "source": [
    "    def check_permissions(self, request):\n",
    "        \"\"\"\n",
    "        Check if the request should be permitted.\n",
    "        Raises an appropriate exception if the request is not permitted.\n",
    "        \"\"\"\n",
    "        for permission in self.get_permissions():\n",
    "            if not permission.has_permission(request, self):\n",
    "                # 引发异常\n",
    "                self.permission_denied(\n",
    "                    request, message=getattr(permission, 'message', None)\n",
    "                )"
   ]
  },
  {
   "cell_type": "markdown",
   "metadata": {},
   "source": [
    "##### has_object_permission方法\n",
    "\n",
    "    权限验证类中还含有一个has_object_permission方法，该方法用于检验当前用户是否具有访问待查询对象的权限。\n",
    "    \n",
    "    如果我们的视图函数继承了ViewSet，那么在查询单条数据时，会调用ViewSet的retrieve方法，进而调用该视图权限验证类的has_obj_permission方法。\n",
    "    如果通过验证，返回True\n",
    "    如果未通过，返回False"
   ]
  },
  {
   "cell_type": "code",
   "execution_count": null,
   "metadata": {},
   "outputs": [],
   "source": [
    "def has_obj_permission(self, request, view, obj):\n",
    "        if request.user.is_authenticated:\n",
    "            return request.user.svip\n",
    "        return False "
   ]
  },
  {
   "cell_type": "markdown",
   "metadata": {},
   "source": [
    "### 3.权限认证demo"
   ]
  },
  {
   "cell_type": "markdown",
   "metadata": {},
   "source": [
    "#### 3.1局部配置"
   ]
  },
  {
   "cell_type": "code",
   "execution_count": null,
   "metadata": {},
   "outputs": [],
   "source": [
    "# models.py\n",
    "# 假设有下方user模型\n",
    "class MyUser(models.Model):\n",
    "\n",
    "    USER_GRADE = [\n",
    "        (1, '普通用户'),\n",
    "        (2, 'vip'),\n",
    "        (3, 'svip')\n",
    "    ]\n",
    "\n",
    "    username = models.CharField(max_length=20, unique=True)\n",
    "    is_active = models.BooleanField(default=True)\n",
    "    password = models.CharField(max_length=10)\n",
    "    user_type = models.IntegerField(choices=USER_GRADE)\n",
    "\n",
    "    \n",
    "    \n",
    "    \n",
    "# views.py\n",
    "from rest_framework.permissions import BasePermission\n",
    "\n",
    "class UserPermission(BasePermission):\n",
    "    \n",
    "    # 认证失败后的提示信息\n",
    "    message = \"您的权限不足！\"\n",
    "    \n",
    "    def has_permission(self, request, view):\n",
    "        \n",
    "        if request.user.is_authenticated and request.user.user_grade >= 2:\n",
    "            return True\n",
    "        else:\n",
    "            return False\n",
    "        \n",
    "    def has_obj_permission(self, request, view, obj):\n",
    "        if request.user.is_authenticated:\n",
    "            return request.user.svip\n",
    "        return False     \n",
    "\n",
    "    \n",
    "class ShowInfo(APIView):\n",
    "    \n",
    "    # 优先从自身寻找permission_classes属性，倘若没有，再寻找全局属性\n",
    "    permission_classes = [UserPermission]\n",
    "    \n",
    "    def get(self, request):\n",
    "        \n",
    "        return HttpResponse(\"有权查看\")"
   ]
  },
  {
   "cell_type": "markdown",
   "metadata": {},
   "source": [
    "#### 3.2全局配置\n"
   ]
  },
  {
   "cell_type": "code",
   "execution_count": null,
   "metadata": {},
   "outputs": [],
   "source": [
    "# settings.py\n",
    "# api.utils.auth.UserPermission为权限认证类的路径举例\n",
    "REST_FRAMEWORK = {\n",
    "    'DEFAULT_AUTHENTICATION_CLASSES': ['api.utils.auth.UserAuthentication',]，\n",
    "    'DEFAULT_PERMISSION_CLASSES': ['api.utils.auth.UserPermission']\n",
    "}"
   ]
  }
 ],
 "metadata": {
  "kernelspec": {
   "display_name": "Python 3",
   "language": "python",
   "name": "python3"
  },
  "language_info": {
   "codemirror_mode": {
    "name": "ipython",
    "version": 3
   },
   "file_extension": ".py",
   "mimetype": "text/x-python",
   "name": "python",
   "nbconvert_exporter": "python",
   "pygments_lexer": "ipython3",
   "version": "3.7.0"
  }
 },
 "nbformat": 4,
 "nbformat_minor": 2
}
