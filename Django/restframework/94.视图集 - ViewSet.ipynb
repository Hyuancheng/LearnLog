{
 "cells": [
  {
   "cell_type": "markdown",
   "metadata": {},
   "source": [
    "### GenericAPIView\n",
    "\n",
    "    GenericAPIView继承了APIView，它新增了几个方法分别用于获取视图内需要用到的Serializer, 用于序列化的查询集query_set, Serializer对应的模型实例对象。这使得上述的对象能以视图属性的方式被进行配置（与用户认证、权限、节流、版本等类似），视图进一步工程化。GenericAPIView为后续更高级的功能打下了基础。"
   ]
  },
  {
   "cell_type": "markdown",
   "metadata": {},
   "source": [
    "### GenericViewSet\n",
    "    \n",
    "    GenericViewSet继承了ViewSetMixin, GenericAPIView两个类。ViewSetMixin重写了方法，将http请求方法与视图函数名称进行了映射（映射关系在路由中配置）。根据不同的请求方法调用对应的视图方法，对应关系如下：\n",
    "    请求：方法\n",
    "    get： list 或者 retrieve\n",
    "    \n",
    "    post：create\n",
    "    \n",
    "    put： update\n",
    "    \n",
    "    patch：partial_update\n",
    "    \n",
    "    delete：destroy\n",
    "    \n",
    "    与以http方法名命名视图方法相比，这种方式加强了视图方法名称的可读性。"
   ]
  },
  {
   "cell_type": "markdown",
   "metadata": {},
   "source": [
    "#### 为每种操作生成一个通用类\n",
    "\n",
    "    因为可以使用GenericAPIView提供的通用API接口获取所需的对象，实现了操作对象与视图逻辑的解耦，所以我们就能为每一种操作（增删改查）生成一个通用的类。在类中定义操作方法，通过继承的形式在视图类中实现复用。drf内置了这些方法，他们的类名与方法名分别为：\n",
    "        (CreateModelMixin,  create)\n",
    "        (RetrieveModelMixin, retrieve)\n",
    "        (UpdateModelMixin,  update)\n",
    "        (DestroyModelMixin, destroy)\n",
    "        \n",
    "        \n",
    "##### get_object()\n",
    "    \n",
    "    当对某个对象进行查看或更新时，会调用get_object方法，进而调用权限类的has_obj_permission方法，检查当前用户是否拥有访问及修改该对象的权限。因此，权限类种除了定义has_permission方法外，还应当根据实际情况定义has_obj_permission方法。"
   ]
  },
  {
   "cell_type": "markdown",
   "metadata": {},
   "source": [
    "### ModelViewSet\n",
    "\n",
    "    ModelViewSet继承了GenericViewSet以及上面的四个通用操作类，实现了增删改查的基本功能。它是drf中视图组件中集成度最高的类。"
   ]
  },
  {
   "cell_type": "markdown",
   "metadata": {},
   "source": [
    "### ViewSet\n",
    "    \n",
    "    尽管通用功能类实现了对模型的基本操作，但是当面对稍微复杂的需求时（比如更新对象的同时，还要对其他信息进行缓存操作），便需要重写视图方法。我们知道，GenericAPIView降低了视图代码的耦合度，而ViewSetMixin改变了视图方法的命名方式。此时，我们可以通过继承ViewSetMixin以及APIView的方式，在对视图逻辑定制的同时，又保留了语义更加明确的视图命名方法。ViewSet便是继承了ViewSetMixin以及APIView的类，其本身并未做任何操作。"
   ]
  },
  {
   "cell_type": "markdown",
   "metadata": {},
   "source": [
    "### 自由组合通用功能类\n",
    "    \n",
    "    ModelViewSet作为集成度最高的视图类，继承了所有通用类，使用便捷，但丧失了灵活性。实际上，我们可以根据实际需要对四个功能类进行自由组合。drf也内置了一个组合类，为ReadOnlyModelViewSet，其代码如下："
   ]
  },
  {
   "cell_type": "code",
   "execution_count": null,
   "metadata": {},
   "outputs": [],
   "source": [
    "class ReadOnlyModelViewSet(mixins.RetrieveModelMixin,\n",
    "                           mixins.ListModelMixin,\n",
    "                           GenericViewSet):\n",
    "    \"\"\"\n",
    "    A viewset that provides default `list()` and `retrieve()` actions.\n",
    "    \"\"\"\n",
    "    pass"
   ]
  }
 ],
 "metadata": {
  "kernelspec": {
   "display_name": "Python 3",
   "language": "python",
   "name": "python3"
  },
  "language_info": {
   "codemirror_mode": {
    "name": "ipython",
    "version": 3
   },
   "file_extension": ".py",
   "mimetype": "text/x-python",
   "name": "python",
   "nbconvert_exporter": "python",
   "pygments_lexer": "ipython3",
   "version": "3.7.0"
  }
 },
 "nbformat": 4,
 "nbformat_minor": 2
}
