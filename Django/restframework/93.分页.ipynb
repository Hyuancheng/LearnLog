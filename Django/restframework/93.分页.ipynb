{
 "cells": [
  {
   "cell_type": "markdown",
   "metadata": {},
   "source": [
    "# issue 分页器在视图中的使用示例"
   ]
  },
  {
   "cell_type": "markdown",
   "metadata": {},
   "source": [
    "### 分页器\n",
    "    \n",
    "    drf内置了三种分页器，分别为PageNumberPagination，LimitOffsetPagination，CursorPagination"
   ]
  },
  {
   "cell_type": "markdown",
   "metadata": {},
   "source": [
    "### 设置分页器格式\n",
    "\n",
    "    我们可以根据需要，对分页的参数参数进行设置。例如，每页显示多少内容以及该参数的名称、页码的参数名称、客户端能否控制分页。在这种情况下，就可以继承内置的分页器，然后重写分页参数。"
   ]
  },
  {
   "cell_type": "markdown",
   "metadata": {},
   "source": [
    "#### PageNumberPagination\n",
    "    \n",
    "    该方法为通用分页方法，采用django.paginator实现。"
   ]
  },
  {
   "cell_type": "code",
   "execution_count": null,
   "metadata": {},
   "outputs": [],
   "source": [
    "\n",
    "class StandardResultsSetPagination(PageNumberPagination):\n",
    "    \n",
    "    # 控制每页的内容数量\n",
    "    page_size = 1000\n",
    "    \n",
    "    # get请求中页码参数的名称\n",
    "     page_query_param = 'page'\n",
    "    \n",
    "    # get请求中控制每页显示数量的参数名称，设置该参数即允许前台自定义每页显示的数量。默认为None，即关闭\n",
    "    page_size_query_param = 'page_size'\n",
    "    \n",
    "    # 每页显示内容的最大数量\n",
    "    max_page_size = 1000"
   ]
  },
  {
   "cell_type": "markdown",
   "metadata": {},
   "source": [
    "#### LimitOffsetPagination\n",
    "\n",
    "    该方法为从查询集（query_set）第n个位置开始，选取指定个数内容。"
   ]
  },
  {
   "cell_type": "code",
   "execution_count": null,
   "metadata": {},
   "outputs": [],
   "source": [
    "class MyLimitPagination(LimitOffsetPagination):\n",
    "    \n",
    "    # 这时LimitOffsetPagination源码中的配置，默认以全局配置的page_size为节选长度（limit）\n",
    "    default_limit = api_settings.PAGE_SIZE\n",
    "    \n",
    "    # get请求中指定取值长度的参数名称，默认为limit，赋予前台控制返回内容数量的权限\n",
    "    limit_query_param = 'limit' \n",
    "    \n",
    "    # get请求中指定起始位置的参数名称\n",
    "    offset_query_param = 'offset'\n",
    "\n",
    "    # 每次请求可节选的最大长度\n",
    "    max_limit = None"
   ]
  },
  {
   "cell_type": "markdown",
   "metadata": {},
   "source": [
    "#### CursorPagination\n",
    "    \n",
    "    该方式不允许前台进行任意跳转，只能进行上一页或下一页操作，页码是加密的，前台只能使用后端生成的页码进行跳转。使用这种分页器时，需要指定排序字段，且需要满足一定条件：\n",
    "        1.该字段的内容必须是不可变的（例如创建时间）\n",
    "        2.该字段的内容是独一无二的。\n",
    "        3.该字段内容不能为空。\n",
    "        4.该字段在数据库中需要含有索引。\n",
    "        5.字段内容不能为float，因为存在精度误差，影响排序，可以使用decimal。\n",
    "        "
   ]
  },
  {
   "cell_type": "code",
   "execution_count": null,
   "metadata": {},
   "outputs": [],
   "source": [
    "class MyCursorPagination(CursorPagination):\n",
    "    \n",
    "    # 指定每页的内容\n",
    "    page_size = 10\n",
    "    \n",
    "    # get参数中锚点的参数名称，指定了即将从何处开始获取内容\n",
    "    cursor_query_param = 'cursor'\n",
    "    \n",
    "    # 指定排序字段，默认为'-created'\n",
    "    ordering = '-created'"
   ]
  }
 ],
 "metadata": {
  "kernelspec": {
   "display_name": "Python 3",
   "language": "python",
   "name": "python3"
  },
  "language_info": {
   "codemirror_mode": {
    "name": "ipython",
    "version": 3
   },
   "file_extension": ".py",
   "mimetype": "text/x-python",
   "name": "python",
   "nbconvert_exporter": "python",
   "pygments_lexer": "ipython3",
   "version": "3.7.0"
  }
 },
 "nbformat": 4,
 "nbformat_minor": 2
}
