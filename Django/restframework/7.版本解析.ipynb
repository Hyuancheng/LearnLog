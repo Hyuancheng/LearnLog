{
 "cells": [
  {
   "cell_type": "markdown",
   "metadata": {},
   "source": [
    "## 版本\n",
    "    \n",
    "    不同的版本可能需要不同的处理方式，这时需要请求中包含版本信息，以便视图函数对请求进行正确处理。版本信息可以包含在多个地方，如请求url、get参数形式、请求头的version、请求头的Host，甚至可以通过路由分发的namespace参数值进行确定。对于这些方式，drf均提供了相应的处理类\n",
    "    \n",
    "    版本信息一般会包含在请求url中。含两种方式：\n",
    "    1.以get参数形式传入，如：/api/...?version=v1\n",
    "    2.包含在url路径中，如：/api/v1/....\n",
    "    \n",
    "    更多的是采用包含在url路径的方式。\n",
    "    \n",
    "### 1.流程 - self.determine_version\n",
    "\n",
    "    发生节点：对request进一步封装后，进行用户、权限、节流认证前。\n",
    "    \n",
    "    流程：\n",
    "    1.获取视图类中设定的版本解析器，如果视图类中未配置，则会从settings中加载\n",
    "    2.实例化解析器，调用实例的determine_version方法获取版本号，并赋值给request.version, 将解析器对象赋值给request.versioning_scheme\n",
    "    \n",
    "#### self.determine_version(request, *args, **kwargs)源码"
   ]
  },
  {
   "cell_type": "code",
   "execution_count": 2,
   "metadata": {},
   "outputs": [],
   "source": [
    "def determine_version(self, request, *args, **kwargs):\n",
    "    \"\"\"\n",
    "    If versioning is being used, then determine any API version for the\n",
    "    incoming request. Returns a two-tuple of (version, versioning_scheme)\n",
    "    \"\"\"\n",
    "    if self.versioning_class is None:\n",
    "        return (None, None)\n",
    "    scheme = self.versioning_class()\n",
    "    return (scheme.determine_version(request, *args, **kwargs), scheme)\n",
    "\n",
    "# request.version, request.versioning_scheme = self.determine_version(...)   \n",
    "\n",
    "# versioning_class = api_settings.DEFAULT_VERSIONING_CLASS"
   ]
  },
  {
   "cell_type": "markdown",
   "metadata": {},
   "source": [
    "### 2.demo配置实例 - 以URLPathVersioning为例\n",
    "\n",
    "#### URLPathVersioning.determine_version()"
   ]
  },
  {
   "cell_type": "code",
   "execution_count": 3,
   "metadata": {},
   "outputs": [],
   "source": [
    "# 从url解析器传入的kwargs中获取self.version_param的值,倘若没有，则设置默认值self.default_version\n",
    "# 检查获取到的版本号是否合法，即是否位于self.allowed_versions列表中\n",
    "\n",
    "def determine_version(self, request, *args, **kwargs):\n",
    "    version = kwargs.get(self.version_param, self.default_version)\n",
    "    if version is None:\n",
    "        version = self.default_version\n",
    "\n",
    "    if not self.is_allowed_version(version):\n",
    "        raise exceptions.NotFound(self.invalid_version_message)\n",
    "    return version\n",
    "\n",
    "\n",
    "# BaseVersioning.is_allowed_version()\n",
    "def is_allowed_version(self, version):\n",
    "    if not self.allowed_versions:\n",
    "        return True\n",
    "    return ((version is not None and version == self.default_version) or\n",
    "            (version in self.allowed_versions))"
   ]
  },
  {
   "cell_type": "markdown",
   "metadata": {},
   "source": [
    "#### url中的命名组\n",
    "\n",
    "    无论是局部配置还是全局配置，通过URLPathVersioning获取版本号，则需要设计正则表达式进行匹配。其命名组表达式为：(?P<version>[v1|v2]+)\n",
    "     \n",
    "    举例如下：\n",
    "    ￥代表美元符号，直接使用美元符号会导致jupyter格式错乱\n",
    "    urlpatterns = [\n",
    "        url(r'^(?P<version>[v1|v2]+)/users/￥', users_list, name='users-list'),\n",
    "        url(r'^(?P<version>[v1|v2]+)/users/(?P<pk>[0-9]+)/￥', users_detail, name='users-detail')\n",
    "    ]"
   ]
  },
  {
   "cell_type": "markdown",
   "metadata": {},
   "source": [
    "#### 2.1局部配置\n"
   ]
  },
  {
   "cell_type": "code",
   "execution_count": null,
   "metadata": {},
   "outputs": [],
   "source": [
    "from rest_framework.versioning import URLPathVersioning\n",
    "\n",
    "class MyView(APIView):\n",
    "    \n",
    "    versioning_class = UrlPathVersioning   # 版本解析类\n",
    "    version_param = 'version'              # url中版本参数的名称，用于获取url中匹配到的版本号\n",
    "    default_version = 'v1'                 # 默认版本\n",
    "    allowed_version = ['v1', 'v2']         # 合法的版本\n",
    "    \n",
    "    def get(self, request):\n",
    "        pass\n",
    "    "
   ]
  },
  {
   "cell_type": "markdown",
   "metadata": {},
   "source": [
    "#### 2.2 全局配置\n"
   ]
  },
  {
   "cell_type": "code",
   "execution_count": 5,
   "metadata": {},
   "outputs": [],
   "source": [
    "# settings.py\n",
    "\n",
    "REST_FRAMEWORK = {\n",
    "    # 版本配置\n",
    "    'DEFAULT_VERSION': 'v1',\n",
    "    'ALLOWED_VERSIONS': ['v1', 'v2'],\n",
    "    'VERSION_PARAM': 'version',\n",
    "    'DEFAULT_VERSIONING_CLASS': 'rest_framework.versioning.URLPathVersioning',\n",
    "    \n",
    "    # 认证配置\n",
    "    'DEFAULT_AUTHENTICATION_CLASSES': ['api.utils.auth.UserAuthentication']，\n",
    "    \n",
    "    # 权限配置\n",
    "    'DEFAULT_PERMISSION_CLASSES': ['api.utils.auth.UserPermission'],\n",
    "    \n",
    "    # 节流配置\n",
    "    'DEFAULT_THROTTLE_RATES': {\n",
    "        'user_throttle': '1/s'\n",
    "    }\n",
    "}"
   ]
  }
 ],
 "metadata": {
  "kernelspec": {
   "display_name": "Python 3",
   "language": "python",
   "name": "python3"
  },
  "language_info": {
   "codemirror_mode": {
    "name": "ipython",
    "version": 3
   },
   "file_extension": ".py",
   "mimetype": "text/x-python",
   "name": "python",
   "nbconvert_exporter": "python",
   "pygments_lexer": "ipython3",
   "version": "3.7.0"
  }
 },
 "nbformat": 4,
 "nbformat_minor": 2
}
