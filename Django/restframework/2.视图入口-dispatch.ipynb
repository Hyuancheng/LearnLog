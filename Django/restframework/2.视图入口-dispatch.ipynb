{
 "cells": [
  {
   "cell_type": "markdown",
   "metadata": {},
   "source": [
    "#### 重写dispatch方法\n",
    "    \n",
    "    drf重写了django的dispatch方法，新增了以下操作：\n",
    "    1.对request进行进一步封装；\n",
    "    2.执行视图函数前，对request依次进行用户认证、权限认证、以及节流限制；（核心步骤）\n",
    "    3.添加了异常处理（次要）"
   ]
  },
  {
   "cell_type": "markdown",
   "metadata": {},
   "source": [
    "#### dispatch源码如下"
   ]
  },
  {
   "cell_type": "code",
   "execution_count": 1,
   "metadata": {},
   "outputs": [],
   "source": [
    "    def dispatch(self, request, *args, **kwargs):\n",
    "        \"\"\"\n",
    "        `.dispatch()` is pretty much the same as Django's regular dispatch,\n",
    "        but with extra hooks for startup, finalize, and exception handling.\n",
    "        \"\"\"\n",
    "        self.args = args\n",
    "        self.kwargs = kwargs\n",
    "        # 对原生的request进行了加工\n",
    "        # Request(\n",
    "        #     request,\n",
    "        #     parsers=self.get_parsers(),\n",
    "        #     authenticators=self.get_authenticators(),\n",
    "                #   self.get_authenticators()返回类实例组成的列表\n",
    "                #   return [auth() for auth in self.authentication_classes]\n",
    "                    #   authentication_classes = api_settings.DEFAULT_AUTHENTICATION_CLASSES 来自于配置文件\n",
    "\n",
    "        #     negotiator=self.get_content_negotiator(),\n",
    "        #     parser_context=parser_context\n",
    "        # )\n",
    "        request = self.initialize_request(request, *args, **kwargs)\n",
    "        self.request = request\n",
    "        self.headers = self.default_response_headers  # deprecate?\n",
    "\n",
    "        try:\n",
    "            # self.initial方法内部实现用户认证、权限认证、节流限制\n",
    "            self.initial(request, *args, **kwargs)\n",
    "\n",
    "            # Get the appropriate handler method\n",
    "            if request.method.lower() in self.http_method_names:\n",
    "                handler = getattr(self, request.method.lower(),\n",
    "                                  self.http_method_not_allowed)\n",
    "            else:\n",
    "                handler = self.http_method_not_allowed\n",
    "\n",
    "            response = handler(request, *args, **kwargs)\n",
    "\n",
    "        except Exception as exc:\n",
    "            response = self.handle_exception(exc)\n",
    "\n",
    "        self.response = self.finalize_response(request, response, *args, **kwargs)\n",
    "        return self.response"
   ]
  },
  {
   "cell_type": "markdown",
   "metadata": {},
   "source": [
    "#### self.initial()源码"
   ]
  },
  {
   "cell_type": "code",
   "execution_count": null,
   "metadata": {},
   "outputs": [],
   "source": [
    "    def initial(self, request, *args, **kwargs):\n",
    "        \"\"\"\n",
    "        Runs anything that needs to occur prior to calling the method handler.\n",
    "        \"\"\"\n",
    "        self.format_kwarg = self.get_format_suffix(**kwargs)\n",
    "\n",
    "        # Perform content negotiation and store the accepted info on the request\n",
    "        neg = self.perform_content_negotiation(request)\n",
    "        request.accepted_renderer, request.accepted_media_type = neg\n",
    "\n",
    "        # Determine the API version, if versioning is in use.\n",
    "        version, scheme = self.determine_version(request, *args, **kwargs)  # 获取版本\n",
    "        request.version, request.versioning_scheme = version, scheme\n",
    "\n",
    "        \"\"\"\n",
    "            在此依次实现\n",
    "            用户认证、\n",
    "            权限认证、\n",
    "            节流（访问频率）\n",
    "        \"\"\"\n",
    "        self.perform_authentication(request)\n",
    "        self.check_permissions(request)\n",
    "        self.check_throttles(request)"
   ]
  }
 ],
 "metadata": {
  "kernelspec": {
   "display_name": "Python 3",
   "language": "python",
   "name": "python3"
  },
  "language_info": {
   "codemirror_mode": {
    "name": "ipython",
    "version": 3
   },
   "file_extension": ".py",
   "mimetype": "text/x-python",
   "name": "python",
   "nbconvert_exporter": "python",
   "pygments_lexer": "ipython3",
   "version": "3.7.0"
  }
 },
 "nbformat": 4,
 "nbformat_minor": 2
}
