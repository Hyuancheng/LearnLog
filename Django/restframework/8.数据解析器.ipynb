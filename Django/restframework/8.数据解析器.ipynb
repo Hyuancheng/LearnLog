{
 "cells": [
  {
   "cell_type": "markdown",
   "metadata": {},
   "source": [
    "### 前言 - request.POST\n",
    "\n",
    "    django在处理post请求时，会将请求体中的数据封装到request.POST中，这样在视图中就可以直接通过request.POST获取客户端上传的数据，并进行处理。然而，django将post请求中的数据封装到request.POST中有两个前提：\n",
    "    1.请求头的Content-Type选项必须为'application/x-www-form-urlencoded'\n",
    "    2.请求体中的参数必须以'&'符号相连，如：name='xiaoming'&age=18。倘若数据格式为json,则django不会对其进行解析封装，由此可见，django本身的数据解析功能有较大的局限性。\n",
    "   "
   ]
  },
  {
   "cell_type": "markdown",
   "metadata": {},
   "source": [
    "## drf中的解析器\n",
    "    \n",
    "    drf框架准备了多种解析器以应付不同的情况。比如：\n",
    "    JSONParser：处理json格式数据\n",
    "    FormParser：处理表单数据\n",
    "    MultiPartParser：处理文本及文件数据\n",
    "    FileUploadParser：处理文件上传数据\n",
    "    \n",
    "    MultiPartParser与FileUploadParser的区别在于，FileUploadParser假定请求体中仅包含一个文件对象。而MultiPartParser则假设请求体中即包含文本数据，也可能包含文件数据。因此MultiPartParser的功能更加强大。\n",
    "    \n",
    "    在drf的settings.py中，其默认指定了JSONParser、FormParser、MultiPartParser这三种解析器。开发者可以在django的settings.py中进行全局配置，覆盖drf的默认配置。"
   ]
  },
  {
   "cell_type": "markdown",
   "metadata": {},
   "source": [
    "### 1 运行流程\n",
    "\n",
    "    1.在加工request时，会调用APIView的get_parsers方法获取解析器，并将解析器对象保存在request.parsers属性中。\n",
    "    2.当在视图中调用request.data时，会从配置的解析器列表中选择匹配的解析器parser。\n",
    "    3.调用解析器的parse方法进行解析。\n",
    "    \n",
    "#### APIView.get_parsers源码"
   ]
  },
  {
   "cell_type": "code",
   "execution_count": null,
   "metadata": {},
   "outputs": [],
   "source": [
    "def get_parsers(self):\n",
    "    \"\"\"\n",
    "    Instantiates and returns the list of parsers that this view can use.\n",
    "    \"\"\"\n",
    "    return [parser() for parser in self.parser_classes]\n",
    "\n",
    "# self.parser_classes = api_settings.DEFAULT_AUTHENTICATION_CLASSES"
   ]
  },
  {
   "cell_type": "markdown",
   "metadata": {},
   "source": [
    "#### Request.data源码"
   ]
  },
  {
   "cell_type": "code",
   "execution_count": null,
   "metadata": {},
   "outputs": [],
   "source": [
    "\"\"\"\n",
    "    倘若没有request中没有'_full_data'属性，则从请求中加载数据和文件\n",
    "    倘若已经有该属性，则直接返回即可，避免重复加载。\n",
    "\"\"\"\n",
    "@property\n",
    "def data(self):\n",
    "    if not _hasattr(self, '_full_data'):\n",
    "        self._load_data_and_files()\n",
    "    return self._full_data\n",
    "\n",
    "\n",
    "\n",
    "\n",
    "def _load_data_and_files(self):\n",
    "    \"\"\"\n",
    "    Parses the request content into `self.data`.\n",
    "    \"\"\"\n",
    "    if not _hasattr(self, '_data'):\n",
    "        \n",
    "        # 调用APIView的_parse()方法\n",
    "        self._data, self._files = self._parse()\n",
    "        if self._files:\n",
    "            self._full_data = self._data.copy()\n",
    "            self._full_data.update(self._files)\n",
    "        else:\n",
    "            self._full_data = self._data\n",
    "\n",
    "        # if a form media type, copy data & files refs to the underlying\n",
    "        # http request so that closable objects are handled appropriately.\n",
    "        if is_form_media_type(self.content_type):\n",
    "            self._request._post = self.POST\n",
    "            self._request._files = self.FILES\n",
    "            \n",
    "\n",
    "            \n",
    "\"\"\"\n",
    "    _parse()方法的核心为：\n",
    "    1.根据请求头中的Content-Type属性确定解析器\n",
    "        parser = self.negotiator.select_parser(self, self.parsers)\n",
    "    2.解析数据并返回赋值给request._data, request._files。这两个属性最终会通过字典的update方法合并为request.data\n",
    "        parsed = parser.parse(stream, media_type, self.parser_context)\n",
    "\"\"\"            \n",
    "def _parse(self):\n",
    "    \"\"\"\n",
    "    Parse the request content, returning a two-tuple of (data, files)\n",
    "\n",
    "    May raise an `UnsupportedMediaType`, or `ParseError` exception.\n",
    "    \"\"\"\n",
    "    media_type = self.content_type\n",
    "    try:\n",
    "        stream = self.stream\n",
    "    except RawPostDataException:\n",
    "        if not hasattr(self._request, '_post'):\n",
    "            raise\n",
    "        # If request.POST has been accessed in middleware, and a method='POST'\n",
    "        # request was made with 'multipart/form-data', then the request stream\n",
    "        # will already have been exhausted.\n",
    "        if self._supports_form_parsing():\n",
    "            return (self._request.POST, self._request.FILES)\n",
    "        stream = None\n",
    "\n",
    "    if stream is None or media_type is None:\n",
    "        if media_type and is_form_media_type(media_type):\n",
    "            empty_data = QueryDict('', encoding=self._request._encoding)\n",
    "        else:\n",
    "            empty_data = {}\n",
    "        empty_files = MultiValueDict()\n",
    "        return (empty_data, empty_files)\n",
    "\n",
    "    parser = self.negotiator.select_parser(self, self.parsers)\n",
    "\n",
    "    if not parser:\n",
    "        raise exceptions.UnsupportedMediaType(media_type)\n",
    "\n",
    "    try:\n",
    "        parsed = parser.parse(stream, media_type, self.parser_context)\n",
    "    except Exception:\n",
    "        # If we get an exception during parsing, fill in empty data and\n",
    "        # re-raise.  Ensures we don't simply repeat the error when\n",
    "        # attempting to render the browsable renderer response, or when\n",
    "        # logging the request or similar.\n",
    "        self._data = QueryDict('', encoding=self._request._encoding)\n",
    "        self._files = MultiValueDict()\n",
    "        self._full_data = self._data\n",
    "        raise\n",
    "\n",
    "    # Parser classes may return the raw data, or a\n",
    "    # DataAndFiles object.  Unpack the result as required.\n",
    "    try:\n",
    "        return (parsed.data, parsed.files)\n",
    "    except AttributeError:\n",
    "        empty_files = MultiValueDict()\n",
    "        return (parsed, empty_files)"
   ]
  },
  {
   "cell_type": "markdown",
   "metadata": {},
   "source": [
    "#### MultiPartParser源码\n",
    "\n",
    "    以MultiPartParser为例，了解其解析过程。\n",
    "    每一个解析类都显式定义了一个media_type属性，声名自身解析的类型。"
   ]
  },
  {
   "cell_type": "code",
   "execution_count": null,
   "metadata": {},
   "outputs": [],
   "source": [
    "class MultiPartParser(BaseParser):\n",
    "    \"\"\"\n",
    "    Parser for multipart form data, which may include file data.\n",
    "    \"\"\"\n",
    "    media_type = 'multipart/form-data'\n",
    "\n",
    "    def parse(self, stream, media_type=None, parser_context=None):\n",
    "        \"\"\"\n",
    "        Parses the incoming bytestream as a multipart encoded form,\n",
    "        and returns a DataAndFiles object.\n",
    "\n",
    "        `.data` will be a `QueryDict` containing all the form parameters.\n",
    "        `.files` will be a `QueryDict` containing all the form files.\n",
    "        \"\"\"\n",
    "        parser_context = parser_context or {}\n",
    "        request = parser_context['request']\n",
    "        encoding = parser_context.get('encoding', settings.DEFAULT_CHARSET)\n",
    "        meta = request.META.copy()\n",
    "        meta['CONTENT_TYPE'] = media_type\n",
    "        upload_handlers = request.upload_handlers\n",
    "\n",
    "        try:\n",
    "            parser = DjangoMultiPartParser(meta, stream, upload_handlers, encoding)\n",
    "            data, files = parser.parse()\n",
    "            return DataAndFiles(data, files)\n",
    "        except MultiPartParserError as exc:\n",
    "            raise ParseError('Multipart form parse error - %s' % str(exc))"
   ]
  },
  {
   "cell_type": "markdown",
   "metadata": {},
   "source": [
    "## 2 demo实例"
   ]
  },
  {
   "cell_type": "markdown",
   "metadata": {},
   "source": [
    "### 2.1 局部配置\n",
    "    "
   ]
  },
  {
   "cell_type": "code",
   "execution_count": null,
   "metadata": {},
   "outputs": [],
   "source": [
    "from rest_framework.parsers import JSONParser, FormParser, MultiPartParser\n",
    "\n",
    "class ShowInfo(APIView):\n",
    "\n",
    "#     authentication_classes = [UserAuthentication]\n",
    "#     permission_classes = [UserPermission]\n",
    "#     throttle_classes = [UserThrottles]\n",
    "    parser_classes = [JSONParser, FormParser, MultiPartParser]\n",
    "\n",
    "    def post(self, request):\n",
    "        username = request.user.username\n",
    "        print(request.data)\n",
    "        return JsonResponse({\"name\": username,\n",
    "                             \"info\": '有权查看'})"
   ]
  },
  {
   "cell_type": "markdown",
   "metadata": {},
   "source": [
    "### 2.2 全局配置\n"
   ]
  },
  {
   "cell_type": "code",
   "execution_count": null,
   "metadata": {},
   "outputs": [],
   "source": [
    "# settings.py\n",
    "\n",
    "REST_FRAMEWORK = {\n",
    "    # 版本配置\n",
    "    'DEFAULT_VERSION': 'v1',\n",
    "    'ALLOWED_VERSIONS': ['v1', 'v2'],\n",
    "    'VERSION_PARAM': 'version',\n",
    "    'DEFAULT_VERSIONING_CLASS': 'rest_framework.versioning.URLPathVersioning',\n",
    "    \n",
    "    # 认证配置\n",
    "    'DEFAULT_AUTHENTICATION_CLASSES': ['api.utils.auth.UserAuthentication']，\n",
    "    \n",
    "    # 权限配置\n",
    "    'DEFAULT_PERMISSION_CLASSES': ['api.utils.auth.UserPermission'],\n",
    "    \n",
    "    # 节流配置\n",
    "    'DEFAULT_THROTTLE_RATES': {\n",
    "        'user_throttle': '1/s'\n",
    "    },\n",
    "    \n",
    "    # 数据解析\n",
    "    'DEFAULT_PARSER_CLASSES': [\n",
    "        'rest_framework.parsers.JSONParser',\n",
    "        'rest_framework.parsers.FormParser',\n",
    "        'rest_framework.parsers.MultiPartParser'\n",
    "    ]\n",
    "}"
   ]
  }
 ],
 "metadata": {
  "kernelspec": {
   "display_name": "Python 3",
   "language": "python",
   "name": "python3"
  },
  "language_info": {
   "codemirror_mode": {
    "name": "ipython",
    "version": 3
   },
   "file_extension": ".py",
   "mimetype": "text/x-python",
   "name": "python",
   "nbconvert_exporter": "python",
   "pygments_lexer": "ipython3",
   "version": "3.7.0"
  }
 },
 "nbformat": 4,
 "nbformat_minor": 2
}
