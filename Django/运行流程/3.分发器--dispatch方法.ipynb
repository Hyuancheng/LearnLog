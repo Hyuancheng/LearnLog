{
 "cells": [
  {
   "cell_type": "markdown",
   "metadata": {},
   "source": [
    "### dispatch源码"
   ]
  },
  {
   "cell_type": "code",
   "execution_count": null,
   "metadata": {},
   "outputs": [],
   "source": [
    "    def dispatch(self, request, *args, **kwargs):\n",
    "        # Try to dispatch to the right method; if a method doesn't exist,\n",
    "        # defer to the error handler. Also defer to the error handler if the\n",
    "        # request method isn't on the approved list.\n",
    "        if request.method.lower() in self.http_method_names:\n",
    "            handler = getattr(self, request.method.lower(), self.http_method_not_allowed)\n",
    "        else:\n",
    "            handler = self.http_method_not_allowed\n",
    "        return handler(request, *args, **kwargs)"
   ]
  },
  {
   "cell_type": "markdown",
   "metadata": {},
   "source": [
    "#### 分析\n",
    "    dispatch所做工作如下：\n",
    "    1.将http请求方法名称转换为小写，然后判断该方法是否合法，即该方法是否存在于self.http_method_names列表中。倘若不合法，则返回消息提示请求不合法 return self.http_method_not_allowed(request, *args, **kwargs)。\n",
    "     http_method_names是View的类属性，其定义如下：\n",
    "        http_method_names = ['get', 'post', 'put', 'patch', 'delete', 'head', 'options', 'trace']\n",
    "    2.通过python内置方法getattr(),获取到相应视图函数的对象。比如，倘若请求方法为get，则 handler = self.get，随后在函数结尾处调用\n",
    "     self.get(request, *args, **kwargs)。因此，dispatch函数返回的其实是视图函数执行的结果。"
   ]
  }
 ],
 "metadata": {
  "kernelspec": {
   "display_name": "Python 3",
   "language": "python",
   "name": "python3"
  },
  "language_info": {
   "codemirror_mode": {
    "name": "ipython",
    "version": 3
   },
   "file_extension": ".py",
   "mimetype": "text/x-python",
   "name": "python",
   "nbconvert_exporter": "python",
   "pygments_lexer": "ipython3",
   "version": "3.7.0"
  }
 },
 "nbformat": 4,
 "nbformat_minor": 2
}
