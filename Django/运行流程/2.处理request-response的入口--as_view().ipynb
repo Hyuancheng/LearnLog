{
 "cells": [
  {
   "cell_type": "markdown",
   "metadata": {},
   "source": [
    "#### as_view()源码"
   ]
  },
  {
   "cell_type": "code",
   "execution_count": null,
   "metadata": {},
   "outputs": [],
   "source": [
    "@classonlymethod\n",
    "def as_view(cls, **initkwargs):\n",
    "    \"\"\"Main entry point for a request-response process.\"\"\"\n",
    "    # **initkwargs一般为None\n",
    "    for key in initkwargs:\n",
    "        if key in cls.http_method_names:\n",
    "            raise TypeError(\"You tried to pass in the %s method name as a \"\n",
    "                            \"keyword argument to %s(). Don't do that.\"\n",
    "                            % (key, cls.__name__))\n",
    "        if not hasattr(cls, key):\n",
    "            raise TypeError(\"%s() received an invalid keyword %r. as_view \"\n",
    "                            \"only accepts arguments that are already \"\n",
    "                            \"attributes of the class.\" % (cls.__name__, key))\n",
    "\n",
    "    def view(request, *args, **kwargs):\n",
    "        self = cls(**initkwargs)\n",
    "        if hasattr(self, 'get') and not hasattr(self, 'head'):\n",
    "            self.head = self.get\n",
    "        self.setup(request, *args, **kwargs)\n",
    "        if not hasattr(self, 'request'):\n",
    "            raise AttributeError(\n",
    "                \"%s instance has no 'request' attribute. Did you override \"\n",
    "                \"setup() and forget to call super()?\" % cls.__name__\n",
    "            )\n",
    "        return self.dispatch(request, *args, **kwargs) # self.dispatch的调用保证了服务器能根据请求方法调用相应的类视图函数\n",
    "    view.view_class = cls\n",
    "    view.view_initkwargs = initkwargs\n",
    "\n",
    "    # take name and docstring from class\n",
    "    update_wrapper(view, cls, updated=())\n",
    "\n",
    "    # and possible attributes set by decorators\n",
    "    # like csrf_exempt from dispatch\n",
    "    # 将dispatch中可能存在的装饰器属性赋予给view函数\n",
    "    update_wrapper(view, cls.dispatch, assigned=())\n",
    "    return view"
   ]
  },
  {
   "cell_type": "markdown",
   "metadata": {},
   "source": [
    "#### 分析\n",
    "    \n",
    "    当django服务器启动时，as_view函数会被立即执行，返回内部的嵌套函数view。之后处理http请求时，运行的始终是view函数。也就是说，从服务器启动，再到关闭，as_view()只运行一次。\n",
    "    as_view()所执行的内容如下：\n",
    "    从源码来看，在开头部分首先对initkwargs的内容进行了限制：\n",
    "        1.不允许将http方法名字传入as_view中；\n",
    "        2.传入的关键字参数必须是调用as_view的类的属性。比如传入name,则在改类中必须具有name属性。\n",
    "    实际上在配置路由时，一般不会向as_view传递额外的参数，因此大多数情况下initkwargs == None\n",
    "    \n",
    "    中间部分定义了view函数，并且在最后返回了该函数对象（不是返回view的执行结果）。\n",
    "    \n",
    "    在后半部分：\n",
    "    as_view将当前类对象动态赋予给view的view_class属性。\n",
    "    将initkwargs赋予给view_initkwargs。实际就是为view函数对象新增了两个属性。\n",
    "    \n",
    "    \n",
    "#### 嵌套函数view\n",
    "    \n",
    "    view主要做了三件事：\n",
    "    1.实例化调用as_view的类，并保存到self中。\n",
    "    2.调用self.setup()方法，将request请求参数，以及args,kwargs赋值给实例属性。self.setup源码只有如下三行：\n",
    "        def setup(self, request, *args, **kwargs):\n",
    "            self.request = request\n",
    "            self.args = args\n",
    "            self.kwargs = kwargs\n",
    "    3.调用分发器self.dispatch(),采用映射的方式根据http请求方法的不同，调用不同的处理函数。"
   ]
  }
 ],
 "metadata": {
  "kernelspec": {
   "display_name": "Python 3",
   "language": "python",
   "name": "python3"
  },
  "language_info": {
   "codemirror_mode": {
    "name": "ipython",
    "version": 3
   },
   "file_extension": ".py",
   "mimetype": "text/x-python",
   "name": "python",
   "nbconvert_exporter": "python",
   "pygments_lexer": "ipython3",
   "version": "3.7.0"
  }
 },
 "nbformat": 4,
 "nbformat_minor": 2
}
