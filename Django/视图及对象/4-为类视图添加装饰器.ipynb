{
 "cells": [
  {
   "cell_type": "markdown",
   "metadata": {},
   "source": [
    "### 使用method_decorator装饰器\n",
    "    method_decorator有两个参数，第一个为装饰器本身，倘若有多个装饰器，则可放在一个列表内，而无需多次调用method_decorator。第二个参数为需要装饰的函数。"
   ]
  },
  {
   "cell_type": "code",
   "execution_count": null,
   "metadata": {},
   "outputs": [],
   "source": [
    "from django.utils.decorators import method_decorator\n",
    "from django.contrib.auth.decorators import login_required\n",
    "from django.views import View\n",
    "\n",
    "@method_decorator(login_required, name='dispatch')\n",
    "class BookView(View):\n",
    "    pass"
   ]
  }
 ],
 "metadata": {
  "kernelspec": {
   "display_name": "Python 3",
   "language": "python",
   "name": "python3"
  },
  "language_info": {
   "codemirror_mode": {
    "name": "ipython",
    "version": 3
   },
   "file_extension": ".py",
   "mimetype": "text/x-python",
   "name": "python",
   "nbconvert_exporter": "python",
   "pygments_lexer": "ipython3",
   "version": "3.7.0"
  }
 },
 "nbformat": 4,
 "nbformat_minor": 2
}
