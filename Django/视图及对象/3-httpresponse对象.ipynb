{
 "cells": [
  {
   "cell_type": "markdown",
   "metadata": {},
   "source": [
    "### httpresponse\n",
    "    视图处理完数据后返回的对象。\n",
    "    属性：\n",
    "    content: 返回的内容\n",
    "    status_code: 状态码。\n",
    "    content_type:返回数据的类型，默认为text/html。其他常用类型还有：\n",
    "        text/plain 纯文本\n",
    "        text/css\n",
    "        text/javascript\n",
    "        multipart/form-data 文件提交\n",
    "        application/json   json传输\n",
    "        application/xml    xml传输\n",
    "    还可通过访问字典的方式设置请求头，如：\n",
    "        response['X-Access-Token'] = 'xxx'\n",
    "        \n",
    "    常用方法：\n",
    "    set_cookie()\n",
    "    delete_cookie()"
   ]
  },
  {
   "cell_type": "markdown",
   "metadata": {},
   "source": [
    "### JsonResponse\n",
    "    返回json格式的数据需要先用json.dumps将数据转成json格式。然后通过httpresponse返回，并且将content_type设置成application/json。\n",
    "    出于方便，django提供了JsonResponse。"
   ]
  }
 ],
 "metadata": {
  "kernelspec": {
   "display_name": "Python 3",
   "language": "python",
   "name": "python3"
  },
  "language_info": {
   "codemirror_mode": {
    "name": "ipython",
    "version": 3
   },
   "file_extension": ".py",
   "mimetype": "text/x-python",
   "name": "python",
   "nbconvert_exporter": "python",
   "pygments_lexer": "ipython3",
   "version": "3.7.0"
  }
 },
 "nbformat": 4,
 "nbformat_minor": 2
}
