{
 "cells": [
  {
   "cell_type": "markdown",
   "metadata": {},
   "source": [
    "### queryDict\n",
    "    request.POST以及request.GET均为queryDict对象\n",
    "    其具有两个主要方法：\n",
    "    get(key): 用于获取request中保存的值，当值不存在时，会返回None，可以设置default参数指定默认值。\n",
    "    getlist(key): 当key对应多个值时，可将他们全部提出并保存为列表。"
   ]
  }
 ],
 "metadata": {
  "kernelspec": {
   "display_name": "Python 3",
   "language": "python",
   "name": "python3"
  },
  "language_info": {
   "codemirror_mode": {
    "name": "ipython",
    "version": 3
   },
   "file_extension": ".py",
   "mimetype": "text/x-python",
   "name": "python",
   "nbconvert_exporter": "python",
   "pygments_lexer": "ipython3",
   "version": "3.7.0"
  }
 },
 "nbformat": 4,
 "nbformat_minor": 2
}
