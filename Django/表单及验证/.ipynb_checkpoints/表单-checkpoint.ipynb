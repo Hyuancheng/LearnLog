{
 "cells": [
  {
   "cell_type": "markdown",
   "metadata": {},
   "source": [
    "### 前端表单\n",
    "    实际开发过程中，前端表单一般不会由django的表单直接展开渲染，而是自行定义。\n",
    "    为了使用表单的验证系统，需要保证<input>的name属性的值等于django表单中对应字段的名称，以上面表单为例，则为\n",
    "    <input name='name' type='text'>"
   ]
  },
  {
   "cell_type": "markdown",
   "metadata": {},
   "source": [
    "### 表单的验证"
   ]
  },
  {
   "cell_type": "code",
   "execution_count": null,
   "metadata": {},
   "outputs": [],
   "source": [
    "class BookForm(forms.Form):\n",
    "    name = forms.CharField(min_length=1, error_message={'min_length': '至少要有两个字符'})\n",
    "\n",
    "\n",
    "form = BookForm(request.POST)\n",
    "if form.is_valid():\n",
    "    pass\n",
    "else:\n",
    "    # 该方法可以字典的形式返回错误信息\n",
    "    print(forms.errors.get_json_data())\n"
   ]
  },
  {
   "cell_type": "markdown",
   "metadata": {},
   "source": [
    "### 表单验证流程\n",
    "    主要分为以下几步：\n",
    "    1.调用to_python()方法，将接收到的原始数据转换成特定格式。如IntegerField会将数据转换成python的Int类型，如果期间发生错误，将引发异常ValidationError\n",
    "    2.调用validate()方法，用于验证不适合在通用验证器中进行验证的内容。\n",
    "    3.调用run_validators()，该方法会调用该字段所有的验证器进行验证，并且会将所有错误信息聚合到ValidationError中。不应重写该方法。\n",
    "    \n",
    "    4.clean()方法是对上述三个方法的集成，它确保上述方法按顺序执行，一旦发生问题，验证将终止，异常将被向上传递。该方法会将通过验证的所有数据保存到cleaned_data字典中，并将该字典返回。\n",
    "    5.clean_<fieldname>()方法被最后调用，可用于自定义验证。该方法无需传入任何参数，所有数据将通过self.cleaned_data.get()进行访问。该方法需要将验证后的数据返回，其会替换cleaned_data中对应的<fieldname>数据。"
   ]
  },
  {
   "cell_type": "markdown",
   "metadata": {},
   "source": [
    "### 自定义验证多个字段 --- 重写clean方法\n",
    "    当clean()方法被调用后，即表明所有字段的验证均已完成，验证后的数据已被保存在cleaned_data字典中。\n",
    "    倘若要进行额外的验证，且该验证涉及不止一个字段（例如判断密码与确认密码是否一致），则可以通过重写并继承clean()方法完成，具体示例如下："
   ]
  },
  {
   "cell_type": "code",
   "execution_count": null,
   "metadata": {},
   "outputs": [],
   "source": [
    "from django import forms\n",
    "\n",
    "class RegisterForm(forms.Form):\n",
    "    # Everything as before.\n",
    "    ...\n",
    "\n",
    "    def clean(self):\n",
    "        cleaned_data = super().clean()\n",
    "        psw1 = cleaned_data.get(\"psw1\")\n",
    "        psw2 = cleaned_data.get(\"psw2\")\n",
    "\n",
    "        if psw1 != psw2:\n",
    "            raise forms.ValidationError('密码不一致')\n",
    "        return cleaned_data\n",
    "    \n",
    "    \"\"\"\n",
    "    此处由于验证的不是某一个单独的字段，因此其错误信息forms.error的键不是某个字段名，而是'__all__'\n",
    "    \"\"\""
   ]
  },
  {
   "cell_type": "markdown",
   "metadata": {},
   "source": [
    "### 自定义验证单个字段 --- 新增clean_《field_name》方法\n",
    "    在forms.py中，所属表单下面再定义一个方法，名称为clean_<验证字段>，在该方法下要返回验证后的值。\n",
    "    对于模型表单，同样可以通过这种方式对指定字段进行额外验证。"
   ]
  },
  {
   "cell_type": "code",
   "execution_count": 2,
   "metadata": {},
   "outputs": [],
   "source": [
    "class RegisterForm(forms.Form):\n",
    "    name = forms.CharField(max_length=20)\n",
    "    phone = forms.CharField(max_length=20)\n",
    "    \n",
    "    def clean_phone(self):\n",
    "        phone = self.cleaned_data.get('phone')\n",
    "        user = User.objects.get(phone=phone)\n",
    "        if user:\n",
    "            raise forms.ValidationError(message='该手机号码已注册')\n",
    "        return phone            "
   ]
  },
  {
   "cell_type": "markdown",
   "metadata": {},
   "source": [
    "### 自定义错误提示信息\n",
    "#### forms.Form\n",
    "    在上面的自定义验证中，可通过ValidationError定制向用户展示的错误提示信息\n",
    "    对于内置表单字段，可以通过error_messages参数进行定制。官方文档关于forms表单字段的说明中包含该字段拥有的错误类型(Error message keys)。"
   ]
  },
  {
   "cell_type": "code",
   "execution_count": null,
   "metadata": {},
   "outputs": [],
   "source": [
    "class RegisterForm(forms.Form):\n",
    "    name = forms.CharField(max_length=20, error_messages={'required': '请输入你的名字'})\n",
    "    phone = forms.CharField(max_length=20, error_messages={'invalid': '该手机号码无效'})"
   ]
  },
  {
   "cell_type": "markdown",
   "metadata": {},
   "source": [
    "#### forms.ModelForm\n",
    "    对于模型表单，可在Meta类中指定error_messages属性定义错误提示信息。"
   ]
  },
  {
   "cell_type": "code",
   "execution_count": null,
   "metadata": {},
   "outputs": [],
   "source": [
    "# 假设有一个书籍模型，具有名称及价格字段\n",
    "class Book(models.Model):\n",
    "    name = models.CharField(max_length=20)\n",
    "    price = models.FloatField(validators=[MaxValueValidator(1000)])\n",
    "\n",
    "class BookForm(forms.ModelForm):\n",
    "    class Meta:\n",
    "        ...\n",
    "        ...\n",
    "        error_messages = {\n",
    "            'name':{'required': '请输入书籍名称'}\n",
    "            'price': {'invalid': '价格不能超过10000元'}\n",
    "        }"
   ]
  }
 ],
 "metadata": {
  "kernelspec": {
   "display_name": "Python 3",
   "language": "python",
   "name": "python3"
  },
  "language_info": {
   "codemirror_mode": {
    "name": "ipython",
    "version": 3
   },
   "file_extension": ".py",
   "mimetype": "text/x-python",
   "name": "python",
   "nbconvert_exporter": "python",
   "pygments_lexer": "ipython3",
   "version": "3.7.0"
  }
 },
 "nbformat": 4,
 "nbformat_minor": 2
}
