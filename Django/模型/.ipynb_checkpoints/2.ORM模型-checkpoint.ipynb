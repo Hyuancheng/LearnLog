{
 "cells": [
  {
   "cell_type": "markdown",
   "metadata": {},
   "source": [
    "# 数据库\n",
    "###  在django中操作数据库有两种方式：\n",
    "    1.使用原生sql语句对数据库进行操作，这些操作需要依赖第三方库，如pymysql, mysqlclient等，这些第三方的实现都遵循了python db api协议。也就是说，这是python提供的原始接口，django并未进行相关处理。\n",
    "    2.使用django的模型进行数据库操作，该方式将数据库表与模型类互为映射关系，类名经一定转换可映射为表名，类中的属性对应数据库表的字段。表中数据的添加转换为类的实例化。该种方式避免了代码中的出现大量的sql语句，通过封装，提升了安全性以及代码可读性。"
   ]
  },
  {
   "cell_type": "code",
   "execution_count": 1,
   "metadata": {
    "scrolled": true
   },
   "outputs": [],
   "source": [
    "from django.db import models\n",
    "\n",
    "# 创建模型——创建表\n",
    "class Book(models.Model):\n",
    "    \n",
    "    # 定义模型字段——定义表字段\n",
    "    name = models.CharFeild(max_length=100)\n",
    "    author = models.CharFeild(max_length=30)\n",
    "    "
   ]
  },
  {
   "cell_type": "markdown",
   "metadata": {},
   "source": [
    "### 创建数据\n",
    "    分两种方式：\n",
    "    1.直接实例化模型类，并调用save()方法；\n",
    "    2.通过模型管理器创建。django定义了一个模型管理类，可以对模型类进行便捷的操作。"
   ]
  },
  {
   "cell_type": "code",
   "execution_count": null,
   "metadata": {},
   "outputs": [],
   "source": [
    "# 1.直接实例化\n",
    "book = Book(name='活着', author='余华')\n",
    "book.save()\n",
    "\n",
    "# 2.模型管理器创建,create方法内部自动调用save方法保存，无需再手动调用\n",
    "book = Book.objects.create(name='活着', author='余华')"
   ]
  },
  {
   "cell_type": "markdown",
   "metadata": {},
   "source": [
    "### 查询数据\n",
    "    从数据库中查询数据需要借助django的模型管理器(默认为objects)进行操作。\n",
    "    django实现了多种便捷的查询方法，具体可参见官方文档。"
   ]
  },
  {
   "cell_type": "code",
   "execution_count": null,
   "metadata": {},
   "outputs": [],
   "source": [
    "# 查询名字为活着的书籍\n",
    "book = Book.objects.get(name='活着')"
   ]
  },
  {
   "cell_type": "markdown",
   "metadata": {},
   "source": [
    "### 修改数据\n",
    "    分未两个步骤：\n",
    "    1.先从数据库中查找到要修改的数据。\n",
    "    2.以修改类属性的方式，修改数据并保存。"
   ]
  },
  {
   "cell_type": "code",
   "execution_count": 3,
   "metadata": {},
   "outputs": [],
   "source": [
    "# 1.查询\n",
    "book = Book.objects.get(name='活着')\n",
    "\n",
    "# 2.修改\n",
    "book.name = '平凡的世界'\n",
    "book.author = '路遥'\n",
    "# 保存\n",
    "book.save()"
   ]
  },
  {
   "cell_type": "markdown",
   "metadata": {},
   "source": [
    "### 删除数据\n",
    "    "
   ]
  },
  {
   "cell_type": "code",
   "execution_count": null,
   "metadata": {},
   "outputs": [],
   "source": [
    "# 1.查找出要删除的数据\n",
    "book = Book.objects.get(name='活着')\n",
    "\n",
    "# 2.删除\n",
    "book.delete()"
   ]
  }
 ],
 "metadata": {
  "kernelspec": {
   "display_name": "Python 3",
   "language": "python",
   "name": "python3"
  },
  "language_info": {
   "codemirror_mode": {
    "name": "ipython",
    "version": 3
   },
   "file_extension": ".py",
   "mimetype": "text/x-python",
   "name": "python",
   "nbconvert_exporter": "python",
   "pygments_lexer": "ipython3",
   "version": "3.7.0"
  }
 },
 "nbformat": 4,
 "nbformat_minor": 2
}
