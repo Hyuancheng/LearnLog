{
 "cells": [
  {
   "cell_type": "markdown",
   "metadata": {},
   "source": [
    "### 聚合方法\n",
    "##### aggregate:\n",
    "    返回一个字典。这是queryset的一个终端子句，从返回值为字典可知，其不能进一步执行过滤或查询操作。aggregate是对多个query对象中的某一个值进行计算汇总，得到一个值。\n",
    "##### annotate：\n",
    "     返回的是一个queryset，因此可以进一步执行查询或过滤操作。在一对多或多对多的关系中，一个模型对象关联着多个对象，倘若需要对关联的对象某些信息进行汇总，则可以使用annotate，其相当于为每一个query对象都添加一个动态属性，用于记录该汇总值。\n",
    "    \n"
   ]
  },
  {
   "cell_type": "code",
   "execution_count": null,
   "metadata": {},
   "outputs": [],
   "source": [
    "from django.db import models\n",
    "\n",
    "class Author(models.Model):\n",
    "    name = models.CharField(max_length=100)\n",
    "    age = models.IntegerField()\n",
    "\n",
    "class Publisher(models.Model):\n",
    "    name = models.CharField(max_length=300)\n",
    "\n",
    "class Book(models.Model):\n",
    "    name = models.CharField(max_length=300)\n",
    "    pages = models.IntegerField()\n",
    "    price = models.DecimalField(max_digits=10, decimal_places=2)\n",
    "    rating = models.FloatField()\n",
    "    authors = models.ManyToManyField(Author)\n",
    "    publisher = models.ForeignKey(Publisher, on_delete=models.CASCADE)\n",
    "    pubdate = models.DateField()\n",
    "\n",
    "class Store(models.Model):\n",
    "    name = models.CharField(max_length=300)\n",
    "    books = models.ManyToManyField(Book)"
   ]
  },
  {
   "cell_type": "markdown",
   "metadata": {},
   "source": [
    "#### 聚合函数\n",
    "    聚合函数需要作为聚合方法的参数才能发挥作用。例如 Author.objects.annotate(Avg('age'))，该属性的键默认为字段名+双下划线+方法的组合，即age__avg, 若想自定义名称，则可写为：authors = Author.objects.annotate(avg_age=Avg('age')),此时该注解属性的名称为avg_age。通过author.avg_age访问。\n",
    "    查询的连接可以尽可能的深，例如要查询作者写的书的价格区间。则:\n",
    "        Author.objects.annotate(min_price=Min('books__price'),max_price=Max('books__price'))\n",
    "    Avg：求平均值\n",
    "    Min：求最小值\n",
    "    Max：求最大值\n",
    "    Sum：求和\n",
    "    Count：统计数量\n",
    "    "
   ]
  },
  {
   "cell_type": "markdown",
   "metadata": {},
   "source": [
    "#### 注意\n",
    "    应避免使用同一聚合函数组合多个聚合查询，否则可能会产生错误的结果。"
   ]
  },
  {
   "cell_type": "code",
   "execution_count": null,
   "metadata": {},
   "outputs": [],
   "source": [
    "# 以下查询会导致authors__count和store__count得出错误的结果。 \n",
    "q = Book.objects.annotate(Count('authors'), Count('store'))"
   ]
  },
  {
   "cell_type": "markdown",
   "metadata": {},
   "source": [
    "#### annotate() 和 filter() 子句的顺序"
   ]
  },
  {
   "cell_type": "code",
   "execution_count": null,
   "metadata": {},
   "outputs": [],
   "source": [
    "# 先进行注解，所有书的数量都被计算在内。\n",
    "a, b = Publisher.objects.annotate(num_books=Count('book', distinct=True)).filter(book__rating__gt=3.0)\n",
    "\n",
    "print(a, a.num_books)\n",
    "(<Publisher: A>, 2)\n",
    "\n",
    "print(b, b.num_books)   \n",
    "(<Publisher: B>, 2)\n",
    "\n",
    "# 先进行过滤，b中评分为3分以下的书并未参与注解的计算\n",
    "a, b = Publisher.objects.filter(book__rating__gt=3.0).annotate(num_books=Count('book'))\n",
    "\n",
    "print(a, a.num_books)\n",
    "(<Publisher: A>, 2)\n",
    "\n",
    "print(b, b.num_books) \n",
    "(<Publisher: B>, 1)"
   ]
  },
  {
   "cell_type": "markdown",
   "metadata": {},
   "source": [
    "#### Q对象\n",
    "    Q对象可用于‘或’的查询\n",
    "    例如，filter可以进行并列过滤，即filter(name='xiaoming', age='23')。但是无法进行‘或‘的操作。"
   ]
  },
  {
   "cell_type": "code",
   "execution_count": null,
   "metadata": {},
   "outputs": [],
   "source": [
    "# 相当于以‘Who’开头，并且满足date(2005, 5, 2)或者date(2005, 5, 6)中的一个。\n",
    "Poll.objects.get(\n",
    "    Q(question__startswith='Who'),\n",
    "    Q(pub_date=date(2005, 5, 2)) | Q(pub_date=date(2005, 5, 6))\n",
    ")"
   ]
  },
  {
   "cell_type": "markdown",
   "metadata": {},
   "source": [
    "#### 通过~Q取反"
   ]
  },
  {
   "cell_type": "code",
   "execution_count": null,
   "metadata": {},
   "outputs": [],
   "source": [
    "# 以‘Who’开头,并且不能为pub_date__year=2005\n",
    "Poll.objects.get(\n",
    "    Q(question__startswith='Who'), ~Q(pub_date__year=2005)\n",
    ")\n"
   ]
  },
  {
   "cell_type": "markdown",
   "metadata": {},
   "source": [
    "### F表达式\n",
    "    F表达式是对数据库使用的一种优化，可以理解为其是定义好对数据库的一系列操作，并一次性执行完毕。\n",
    "    \n",
    "    一般情况下，倘若修改数据库中的某条数据，需要分两步进行：读取数据到内存中；重新赋值后再写入数据库。如此便执行了两次数据库操作。"
   ]
  },
  {
   "cell_type": "code",
   "execution_count": null,
   "metadata": {},
   "outputs": [],
   "source": []
  }
 ],
 "metadata": {
  "kernelspec": {
   "display_name": "Python 3",
   "language": "python",
   "name": "python3"
  },
  "language_info": {
   "codemirror_mode": {
    "name": "ipython",
    "version": 3
   },
   "file_extension": ".py",
   "mimetype": "text/x-python",
   "name": "python",
   "nbconvert_exporter": "python",
   "pygments_lexer": "ipython3",
   "version": "3.7.0"
  }
 },
 "nbformat": 4,
 "nbformat_minor": 2
}
