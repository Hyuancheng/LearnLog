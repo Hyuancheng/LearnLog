{
 "cells": [
  {
   "cell_type": "markdown",
   "metadata": {},
   "source": [
    "### 模型的null, blank字段属性说明\n",
    "    null属性规定了该字段能否为空，默认为False，若设置为True，内容为空时则为Null。对于字符串类型的字段（如CharField, EmailField），若不填写内容，django默认会填入空字符串。\n",
    "    blank属性是表单级别的验证，规定了表单提交时，该内容能否为空。"
   ]
  }
 ],
 "metadata": {
  "kernelspec": {
   "display_name": "Python 3",
   "language": "python",
   "name": "python3"
  },
  "language_info": {
   "codemirror_mode": {
    "name": "ipython",
    "version": 3
   },
   "file_extension": ".py",
   "mimetype": "text/x-python",
   "name": "python",
   "nbconvert_exporter": "python",
   "pygments_lexer": "ipython3",
   "version": "3.7.0"
  }
 },
 "nbformat": 4,
 "nbformat_minor": 2
}
