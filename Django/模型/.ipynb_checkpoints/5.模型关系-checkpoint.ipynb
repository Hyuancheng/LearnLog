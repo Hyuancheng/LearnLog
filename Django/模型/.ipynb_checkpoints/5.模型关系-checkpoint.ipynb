{
 "cells": [
  {
   "cell_type": "markdown",
   "metadata": {},
   "source": [
    "### 分为三种：\n",
    "    一对一关系：OneToOneField\n",
    "    一对多关系: ForeinKey\n",
    "    多对多关系：ManyToManyField\n",
    "        多对多关系的实现是借助一个中间模型，在这个中间模型中定义两个一对多字段，将两个要建立多对多关系的模型联系起来。倘若在建立多对多关系时需要记录额外的信息，则可以自定义中间模型。下面将列出简单的多对多关系的添加，删除示例。详细示例以及自定义中间模型可参见官方文档，其中有充分的说明与示例。搜索关键词model即可。\n",
    "\n",
    "### 多对多关系    "
   ]
  },
  {
   "cell_type": "code",
   "execution_count": null,
   "metadata": {},
   "outputs": [],
   "source": [
    "from django.db import models\n",
    "\n",
    "class People(models.Model):\n",
    "    name = models.CharField(max_length=30)\n",
    "    groups = models.ManyToManyField(Group, related_name='members')\n",
    "    \n",
    "# 多对多关系只需在其中一端指定即可，一般而言，可将该字段定义在经常编辑的一端，例如此处的逻辑是，某个人属于哪些团体。而不是某团体都有哪些人。\n",
    "class Group(models.Model):\n",
    "    name = models.CharField(max_length=30)"
   ]
  },
  {
   "cell_type": "markdown",
   "metadata": {},
   "source": [
    "#### 实例化模型"
   ]
  },
  {
   "cell_type": "code",
   "execution_count": null,
   "metadata": {},
   "outputs": [],
   "source": [
    "# 创建游戏社\n",
    "game = Group.objects.create(name='game')\n",
    "\n",
    "# 创建人物jack, mike\n",
    "jack = People.objects.create(name='jack')\n",
    "mike = People.objects.create(name='mike')"
   ]
  },
  {
   "cell_type": "markdown",
   "metadata": {},
   "source": [
    "#### 建立联系"
   ]
  },
  {
   "cell_type": "code",
   "execution_count": null,
   "metadata": {},
   "outputs": [],
   "source": [
    "# 添加\n",
    "jack.groups.add(game)\n",
    "mike.groups.add(game)\n",
    "# 反向或者\n",
    "game.members.add(jack)"
   ]
  },
  {
   "cell_type": "markdown",
   "metadata": {},
   "source": [
    "#### 取消联系"
   ]
  },
  {
   "cell_type": "code",
   "execution_count": 2,
   "metadata": {
    "scrolled": true
   },
   "outputs": [],
   "source": [
    "# 取消关联\n",
    "jack.groups.remove(game)\n",
    "\n",
    "# 反向取消\n",
    "game.members.remove(jack)"
   ]
  },
  {
   "cell_type": "markdown",
   "metadata": {},
   "source": [
    "#### 访问关联对象\n"
   ]
  },
  {
   "cell_type": "code",
   "execution_count": null,
   "metadata": {},
   "outputs": [],
   "source": [
    "# 正向访问\n",
    "jack.groups.all()\n",
    "\n",
    "# 反向访问, 此处定义了related_name='members', 否则默认为game.people_set.all()\n",
    "game.members.all()"
   ]
  }
 ],
 "metadata": {
  "kernelspec": {
   "display_name": "Python 3",
   "language": "python",
   "name": "python3"
  },
  "language_info": {
   "codemirror_mode": {
    "name": "ipython",
    "version": 3
   },
   "file_extension": ".py",
   "mimetype": "text/x-python",
   "name": "python",
   "nbconvert_exporter": "python",
   "pygments_lexer": "ipython3",
   "version": "3.7.0"
  }
 },
 "nbformat": 4,
 "nbformat_minor": 2
}
