{
 "cells": [
  {
   "cell_type": "markdown",
   "metadata": {},
   "source": [
    "## queryset对象\n",
    "    可进行切片操作"
   ]
  },
  {
   "cell_type": "markdown",
   "metadata": {},
   "source": [
    "### filter\n",
    "    返回符合条件的模型组成的queryset\n",
    "    \n",
    "    \n",
    "### exclude\n",
    "    与filter相反，其会排除掉符合条件的对象\n",
    "    \n",
    "    \n",
    "### get\n",
    "    返回符合条件的单个模型对象，匹配到多个或没有匹配均会引发异常\n",
    "    \n",
    "    \n",
    "    \n",
    "### create\n",
    "    实例化一个模型对象，并保存到数据库，调用此方法后无需再手动调用save()方法\n",
    "\n",
    "\n",
    "### get_or create\n",
    "    尝试获取一个对象，若不存在，则直接创建并保存到数据库中\n",
    "    其返回值是一个二元组，0为模型对象，1为是否新创建对象True/False\n",
    "    \n",
    "    \n",
    "### bulk_create\n",
    "    一次性创建多个对象"
   ]
  },
  {
   "cell_type": "code",
   "execution_count": null,
   "metadata": {},
   "outputs": [],
   "source": [
    "# 假设Book模型仅含有一个name这个字段\n",
    "Book.objects.bulk_create(\n",
    "    Book(name='三国')，\n",
    "    Book(name='水浒')，\n",
    ")"
   ]
  },
  {
   "cell_type": "markdown",
   "metadata": {},
   "source": [
    "### values\n",
    "    model.objects.values(field, field..)\n",
    "    返回值仍为queryset, 但是其中存储的不再是模型实例对象，而是包含所选字段的字典。如：\n",
    "        ({'name': 'xiao', 'age':13}, {'name': 'jack', 'age': 12}....)\n",
    "    如果需要提取的字段为关联模型的字段，则可通过'__'形式进行关联查找，如：\n",
    "        Book.objects.values('book__author')\n",
    "    倘若不提供field参数，则默认会将模型上所有的字段信息提取出来，并以字典形式返回。\n",
    "\n",
    "\n",
    "### values_list\n",
    "    类似values, 但是返回的queryset是由字段值组成的元组，因此不包含字段名。\n",
    "    \n",
    "    \n",
    "### select_related\n",
    "    用于优化数据库查询。\n",
    "    在一对一，一对多关系中，一般会先查询出当前模型的数据，然后通过外键关系引用关联数据。由于第一次查询时，并未获取关联模型，因此引用外键数据时，需要再对数据库进行查询。\n",
    "    使用该字段可以在第一次查询时将关联模型一并获取，进而避免后续的数据库查询操作。\n",
    "#### 注意\n",
    "    该字段只能用于确定唯一的外键关系中，因此无法用于多对多关系的查询，这一点从原理上很好理解，假设有多个关联对象，则无法确定关联目标。\n",
    "    多对多关系的一次性查询可用prefetch_related"
   ]
  },
  {
   "cell_type": "code",
   "execution_count": null,
   "metadata": {},
   "outputs": [],
   "source": [
    "# 获取模型数据\n",
    "books = Book.objects.all()\n",
    "for book in books:\n",
    "    # 对作者名称的访问会再次引发查询\n",
    "    print(book.author.name)\n",
    "    \n",
    "\n",
    "# 使用select_related字段\n",
    "books = book.objects.select_related('author')\n",
    "for book in books:\n",
    "    # author已在内存中，不会再进行查询\n",
    "    print(book.author.name)"
   ]
  },
  {
   "cell_type": "markdown",
   "metadata": {},
   "source": [
    "### prefetch_related\n",
    "    类似select_related，但用于多对多关系的快速获取。此时会将多对多关系中的所有关联数据获取出来。如：\n",
    "        books = book.objects.select_related('tag_set')\n",
    "        \n",
    "    在多对多关系中，我们可能会想对查询的数据集进行进一步过滤。倘若在进行上面的快捷查询后，对结果调用filter等方法，则会重新进行数据库查询。\n",
    "    为应对上述情况，则需要借助django.db.models中的Preftch类。"
   ]
  },
  {
   "cell_type": "code",
   "execution_count": null,
   "metadata": {},
   "outputs": [],
   "source": [
    "books = book.objects.select_related('tag_set')\n",
    "for book in books:\n",
    "    # 这会使得前面的tag_set数据被弃用\n",
    "    book.tag_set.filter(name__in=['励志', '财经'])\n",
    "    \n",
    "from django.db.models import Prefetch\n",
    "\n",
    "# 相当于将过滤后的queryset作为tag_set的查询整体\n",
    "prefetch = Prefetch('tag_set', queryset=Tag.objects.filter(name__in=['励志', '财经']))\n",
    "books = book.objects.select_related(prefetch)"
   ]
  },
  {
   "cell_type": "markdown",
   "metadata": {},
   "source": [
    "### defer\n",
    "    查询时过滤掉不需要的字段。其返回的仍然是模型，而不是像values一样返回字典。如过滤掉书籍的内容：\n",
    "        books.objects.defer('content')\n",
    "    倘若后面访问被过滤的字段，则会重新查询数据库。\n",
    "    \n",
    "### only\n",
    "    于defer相反，其仅查询only指定的字段。若访问未指定的字段，则会重新查询数据库。\n",
    "    \n",
    "    \n",
    "    \n",
    "### count\n",
    "    计算查询集中数据的数量，该操作在数据库中直接执行，无需将数据先保存到python内存中，因此比len方法更高效\n",
    "        Book.objects.filter().count()\n",
    "        \n",
    "  \n",
    "### first\n",
    "    返回queryset中的第一个对象\n",
    "    \n",
    "\n",
    "### last\n",
    "    返回queryset中的最后一个对象\n",
    "    \n",
    "    \n",
    "### aggregate\n",
    "    使用聚合函数\n",
    "    \n",
    "    \n",
    "### exists\n",
    "    用于判断符合某个条件的数据是否存在。该方法比通过count或者queryset判断拥有更高的效率。\n",
    "    Book.objects.filter(title__contains='如何').exists()"
   ]
  },
  {
   "cell_type": "markdown",
   "metadata": {},
   "source": [
    "### distinct\n",
    "    删除重复的数据\n",
    "    Book.objects.filter(bookorder__price__gt=80).distinct()\n",
    "    Book和bookorder是一对多关系，由于同一本书极可能存在多张订单，因此查询结果会包含同一本书的多个重复对象。此时可以清除重复对象。\n",
    "    \n",
    "    \n",
    "    \n",
    "### update\n",
    "    更新符合条件的指定字段\n",
    "    Book.objects.filter(price__lt=50).update(price=F('price')+10)\n",
    "    价格低于50元的图书全部在原价上涨价10元。F表达式实现在各自原有价格涨价，而无需遍历过滤结果再进行价格修改。\n",
    "    \n",
    "    \n",
    "### delete\n",
    "    删除选定的对象，使用该方法式必须慎重，因为根据on_delete属性的设置情况不同，可能会引发关联数据的删除。\n",
    "   "
   ]
  },
  {
   "cell_type": "code",
   "execution_count": null,
   "metadata": {},
   "outputs": [],
   "source": []
  },
  {
   "cell_type": "code",
   "execution_count": null,
   "metadata": {},
   "outputs": [],
   "source": []
  }
 ],
 "metadata": {
  "kernelspec": {
   "display_name": "Python 3",
   "language": "python",
   "name": "python3"
  },
  "language_info": {
   "codemirror_mode": {
    "name": "ipython",
    "version": 3
   },
   "file_extension": ".py",
   "mimetype": "text/x-python",
   "name": "python",
   "nbconvert_exporter": "python",
   "pygments_lexer": "ipython3",
   "version": "3.7.0"
  }
 },
 "nbformat": 4,
 "nbformat_minor": 2
}
