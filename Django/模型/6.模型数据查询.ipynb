{
 "cells": [
  {
   "cell_type": "markdown",
   "metadata": {},
   "source": [
    "### 查找类型\n",
    "    filter：返回符合条件的querySet\n",
    "    exclude：返回已排除符合条件对象的querySet\n",
    "    get：返回符合条件的一个对象\n",
    "   \n",
    "    \n",
    "### 查找选项\n",
    "    符号的使用方式: 以filter为例, filter(name__contains='清华')\n",
    "    exact:等于\n",
    "    iexact:等于（忽略大小写）\n",
    "    \n",
    "    gt: 大于\n",
    "    gte: 大于等于\n",
    "    \n",
    "    lt: 小于\n",
    "    lte: 小于等于\n",
    "    \n",
    "    startswith: 以。。开头\n",
    "    istartswith: 以。。开头，忽略大小写\n",
    "    \n",
    "    endswith: 以。。结尾\n",
    "    iendswith: 以。。结尾，忽略大小写\n",
    "    \n",
    "    range: 指定范围。filter(pub_date__range(start_date, end_date)\n",
    "    \n",
    "    contains: 包含\n",
    "    icontains: 大小写不敏感的包含\n",
    "    \n",
    "    in: 含于，可传递list,tuple及其他可迭代的对象如queryset。filter(id__in=[1, 2, 3])\n",
    "    \n",
    "    isnull: return True/False\n",
    "    \n",
    "    regex: 正则表达式，filter(title__regex=r'^(An?|The) +')\n",
    "    \n",
    "    iregex: 忽略大小写\n",
    "   \n",
    "#### 对于时间字段，还有一下查询选项：\n",
    "\n",
    "    data: filter(pub_date__date=datetime.date(2020, 3, 23))\n",
    "    \n",
    "    year:\n",
    "    month:\n",
    "    day:\n",
    "    week: 按一年计算，1-52/53之间\n",
    "    week_day: 1-7，1代表周日，7代表周六\n",
    "    \n",
    "    time: filter(pub_date__time=(14, 30))\n",
    "    hour:\n",
    "    minute:\n",
    "    second:\n",
    " "
   ]
  },
  {
   "cell_type": "markdown",
   "metadata": {},
   "source": [
    "### related_query_name\n",
    "    该字段选项用于指定外键关系中反向过滤的关联名称，倘若未指定该选项，默认值未related_name/default_related_name\n",
    "    \n",
    "### related_name\n",
    "    指定外键关系中反向引用的名称"
   ]
  },
  {
   "cell_type": "code",
   "execution_count": null,
   "metadata": {},
   "outputs": [],
   "source": [
    "from django.db import models\n",
    "\n",
    "class Student(models.Model):\n",
    "    name = CharField(max_langth=30)\n",
    "    school = CharField(max_langth=30)\n",
    "\n",
    "class Book(models.Model):\n",
    "    name = CharField(max_langth=30)\n",
    "    student = models.ForeignKey(Student, related_name='books', related_query_name='book')\n",
    "    \n",
    "xiaoming = Student.objects.create(name='小明', school='清华大学')\n",
    "book = Book.objects.create(name='马克思主义原理', student=xiaoming)\n",
    "\n",
    "# 要通过小明使用Book中的对象,此时使用related_name\n",
    "xiaoming.books\n",
    "\n",
    "# 要通过Book进行过滤查询,使用related_query_name\n",
    "Student.objects.filter(book__name='马克思主义原理')"
   ]
  }
 ],
 "metadata": {
  "kernelspec": {
   "display_name": "Python 3",
   "language": "python",
   "name": "python3"
  },
  "language_info": {
   "codemirror_mode": {
    "name": "ipython",
    "version": 3
   },
   "file_extension": ".py",
   "mimetype": "text/x-python",
   "name": "python",
   "nbconvert_exporter": "python",
   "pygments_lexer": "ipython3",
   "version": "3.7.0"
  }
 },
 "nbformat": 4,
 "nbformat_minor": 2
}
