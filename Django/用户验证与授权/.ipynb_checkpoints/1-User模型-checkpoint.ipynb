{
 "cells": [
  {
   "cell_type": "markdown",
   "metadata": {},
   "source": [
    "#### 创建用户\n",
    "    最简单的方式为借助其用户管理器的create_user方法。\n",
    "    由于密码的设置需要散列处理，因此不能使用create()方法直接存储密码。可以先使用create()方法存储其他字段，然后调用user.set_password(password)方法存储密码。实际上，在create_user内部也是通过调用set_password方法进行密码的存储。"
   ]
  },
  {
   "cell_type": "code",
   "execution_count": null,
   "metadata": {},
   "outputs": [],
   "source": [
    "User.objects.create_user()"
   ]
  },
  {
   "cell_type": "markdown",
   "metadata": {},
   "source": [
    "#### 创建超级用户\n",
    "     create_superuser()"
   ]
  },
  {
   "cell_type": "code",
   "execution_count": null,
   "metadata": {},
   "outputs": [],
   "source": [
    "User.objects.createsuper_user()"
   ]
  },
  {
   "cell_type": "markdown",
   "metadata": {},
   "source": [
    "#### 修改密码\n",
    "    由于用户密码是经过加密后再存储，因此不能通过修改普通字段的方式去修改密码。\n",
    "    调用set_password()修改用户密码。\n",
    "    密码修改后当前会话将失效。"
   ]
  },
  {
   "cell_type": "code",
   "execution_count": null,
   "metadata": {},
   "outputs": [],
   "source": [
    "user = User.objects.get(username=name, password=pwd)\n",
    "user.set_password(new_pasword)"
   ]
  },
  {
   "cell_type": "markdown",
   "metadata": {},
   "source": [
    "#### 验证用户\n",
    "    使用authenticate(request=None, **credentials)方法验证用户。\n",
    "    倘若用户存在，则返回一个user对象，否则，返回None\n",
    "    该方法是较底层的验证方法，编写自己的验证系统需要用到。例如，通过手机号码验证用户而不是通过用户名，则应为：\n",
    "    user = authenticate(telephone=phone, password=psw)"
   ]
  },
  {
   "cell_type": "code",
   "execution_count": null,
   "metadata": {},
   "outputs": [],
   "source": [
    "from django.contrib.auth import authenticate\n",
    "user = authenticate(telephone=phone, password=psw)"
   ]
  },
  {
   "cell_type": "markdown",
   "metadata": {},
   "source": [
    "## 扩展用户模型\n",
    "    倘若不想自定义用户模型，直接使用内置User模型，但是又需要添加一些额外的方法或属性，则可以对内置模型进行扩展。\n",
    "    有两种方式：\n",
    "    一.设置代理模型，定义一个类，继承内置的User类，并且将Meta类设置属性proxy=True\n",
    "      代理模型可以扩展方法，但是执行迁移的时候，代理类并不会在数据库种生成新的表，而是使用原有的User表。因此，这也意味着代理模型不能添加新的字段。\n",
    "    二.设置OneToOneField外键关系，用于扩展额外信息。例如用户的生日，星座，爱好等信息便可以用该表记录。"
   ]
  },
  {
   "cell_type": "markdown",
   "metadata": {},
   "source": [
    "## 自定义用户模型\n",
    "    有两种方式，分别为继承AbstractUser，AbstractBaseUser。\n",
    "#### 方式一.继承AbstractUser\n",
    "    内置的User类只定义了一个Meta属性，相当于一个空类，其直接继承AbstractUser。因此，倘若要自定义用户模型，可直接继承AbstractUser。自定义用户模型需要完成以下三步：\n",
    "    1.创建一个用户模型MyUser，继承AbstractUser\n",
    "    2.在settings.py种设置AUTH_USER_MODEL='app_lable.MyUser'\n",
    "    3.在admin.py中注册MyUser"
   ]
  },
  {
   "cell_type": "code",
   "execution_count": null,
   "metadata": {},
   "outputs": [],
   "source": [
    "from django.contrib import admin\n",
    "from django.contrib.auth.admin import UserAdmin\n",
    "from .models import User\n",
    "\n",
    "admin.site.register(User, UserAdmin)"
   ]
  },
  {
   "cell_type": "markdown",
   "metadata": {},
   "source": [
    "#### AbstractUser与AbstractBaseUser的关系\n",
    "    AbstractBaseUser定义了用户模型的核心实现，如散列密码和密码重置等方法。\n",
    "    AbstractUser是AbstractBaseUser的子类，其在父类的基础上定义了以下额外的信息:\n",
    "    1.新增字段，如username, first_name, last_name, is_active, email, is_staff等\n",
    "    2.新增属性，如:\n",
    "      EMAIL_FIELD = 'email'      用来描述用户模型中的邮件字段，该值通过 get_email_field_name() 返回。\n",
    "      USERNAME_FIELD = 'username'  该属性定义了authenticate()验证时除密码外使用的字段，倘若要使用手机号码及密码进行验证，只需修改该属性。\n",
    "      REQUIRED_FIELDS = ['email']  当通过命令行 createsuperuser 来创建用户时提示的必填字段列表。\n",
    "    3.定义了模型管理器\n",
    "        objects = UserManager()\n",
    "    4.新增四个方法clean, get_full_name, get_short_name, email_user #该方法用于发送邮件给用户\n",
    "    5.重设Meta属性"
   ]
  },
  {
   "cell_type": "markdown",
   "metadata": {},
   "source": [
    "#### 方式二.继承AbstractBaseUser和PermissionsMixin\n",
    "    除了继承AbstractBaseUser外，还要继承PermissionsMixin(其中定义了is_superuser以及分组，权限等字段)\n",
    "    相比继承AbstractUser，继承该类显得更加灵活，可重新定制所需字段和方法。但这也意味着需要自行实现更多功能，安全性可能会有所降低。\n",
    "    根据官方文档的提示，需要定义以下属性：\n",
    "       EMAIL_FIELD\n",
    "       USERNAME_FIELD\n",
    "       REQUIRED_FIELDS\n",
    "       is_active，可定义为一个布尔字段BooleanField，该属性在AbstractBaseUser中被设定为is_active=True\n",
    "    \n",
    "    由前面两者的关系对比可知，需要重新定义：\n",
    "       UserManager，可继承其父类BaseUserManager，重写笔记参见<User模型管理器>\n",
    "    另外，倘若需要与内置后台管理系统一同使用，则也需要完成以下工作：\n",
    "       用户模型需定义is_staff字段(BooleanField),该字段决定用户能否访问admin页面\n",
    "       重写UserAdmin，参见<User模型管理器>"
   ]
  },
  {
   "cell_type": "markdown",
   "metadata": {},
   "source": [
    "#### USERNAME_FIELD内部运行原理\n",
    "    验证用户时，需要调用authenticate()函数，该函数内部会调用验证后端（默认为ModelBackend）的同名方法authenticate()，源代码如下：\n",
    "    从以下代码可知，该方法默认接收username, password两个参数。当username未被传入时，其会从收集参数中以USERNAME_FIELD指定的值为key，获取对应的值value。而在方法get_by_natural_key中，同样会通过USERNAME_FIELD获取到对应的key。这样，便可以通过key:value获取到user对象。"
   ]
  },
  {
   "cell_type": "code",
   "execution_count": 2,
   "metadata": {},
   "outputs": [],
   "source": [
    "# 源代码\n",
    "\n",
    "UserModel = get_user_model()\n",
    "\n",
    "class ModelBackend:\n",
    "    \"\"\"\n",
    "    Authenticates against settings.AUTH_USER_MODEL.\n",
    "    \"\"\"\n",
    "\n",
    "    def authenticate(self, request, username=None, password=None, **kwargs):\n",
    "        if username is None:\n",
    "            username = kwargs.get(UserModel.USERNAME_FIELD)\n",
    "        try:\n",
    "            user = UserModel._default_manager.get_by_natural_key(username)\n",
    "        except UserModel.DoesNotExist:\n",
    "            # Run the default password hasher once to reduce the timing\n",
    "            # difference between an existing and a nonexistent user (#20760).\n",
    "            UserModel().set_password(password)\n",
    "        else:\n",
    "            if user.check_password(password) and self.user_can_authenticate(user):\n",
    "                return user\n",
    "            \n",
    "            \n",
    "class BaseUserManager(models.Manager):\n",
    "    \n",
    "    def get_by_natural_key(self, username):\n",
    "        return self.get(**{self.model.USERNAME_FIELD: username})"
   ]
  },
  {
   "cell_type": "markdown",
   "metadata": {},
   "source": [
    "### 自定义用户模型与admin\n",
    "     无论是继承AbstractUser还是AbstractBaseUser，倘若自定义模型中的字段与内置User模型的字段不一致，均要重写UserAdmin，否则无法在后台系统中对自定义用户进行管理。"
   ]
  }
 ],
 "metadata": {
  "kernelspec": {
   "display_name": "Python 3",
   "language": "python",
   "name": "python3"
  },
  "language_info": {
   "codemirror_mode": {
    "name": "ipython",
    "version": 3
   },
   "file_extension": ".py",
   "mimetype": "text/x-python",
   "name": "python",
   "nbconvert_exporter": "python",
   "pygments_lexer": "ipython3",
   "version": "3.7.0"
  }
 },
 "nbformat": 4,
 "nbformat_minor": 2
}
