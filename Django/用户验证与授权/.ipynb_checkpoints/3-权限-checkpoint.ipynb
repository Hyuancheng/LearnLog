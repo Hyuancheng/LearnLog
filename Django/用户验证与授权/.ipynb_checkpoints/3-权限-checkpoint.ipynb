{
 "cells": [
  {
   "cell_type": "markdown",
   "metadata": {},
   "source": [
    "## 权限\n",
    "\n",
    "### ContentType\n",
    "    ContentType是一个普通模型，其包含两个字段，应用名称(app_lable)以及模型名称(model)，二者均为字符串类型(CharField)，权限模型有一个指向该模型的一对多(ForiengKey)外键。该模型的作用是为了避免权限与对应模型产生直接的外键关联。"
   ]
  },
  {
   "cell_type": "code",
   "execution_count": null,
   "metadata": {},
   "outputs": [],
   "source": [
    "# 源码\n",
    "class ContentType(models.Model):\n",
    "    app_label = models.CharField(max_length=100)\n",
    "    model = models.CharField(_('python model class name'), max_length=100)\n",
    "    objects = ContentTypeManager()\n",
    "\n",
    "    class Meta:\n",
    "        verbose_name = _('content type')\n",
    "        verbose_name_plural = _('content types')\n",
    "        db_table = 'django_content_type'\n",
    "        unique_together = (('app_label', 'model'),)\n",
    "\n",
    "    def __str__(self):\n",
    "        return self.name"
   ]
  },
  {
   "cell_type": "markdown",
   "metadata": {},
   "source": [
    "### 权限的定义    \n",
    "    权限（Permission）是一个继承models.Model的普通模型，其与用户模型(User)，组(Group)是多对多关系，与ContentType是外键关系。包含三个字段：\n",
    "       name         描述权限的功能\n",
    "       content_type   指定权限属于哪个模型\n",
    "       codename      权限的名称\n",
    "    \n",
    "    要理解权限，必须明确几点：\n",
    "    1.创建的权限均有所属的模型，比如Article模型的增、删、改、查为四项权限，这些权限被分配给用户，用于规定哪些用户能查看文章，哪些用户能新增或者删除文章。这也意味着权限的限制是对于整个Article模型而言的，而不是对某篇或者某些文章的限制。一旦某个用户具有了某个权限，则其便可对所有模型实例进行该权限赋予的操作。(从代码层面可进一步限制，但这已不属于权限的功能范围)。\n",
    "    2.权限仅仅是一种标记，根据这个标记，用代码判断能否进行相应的操作。\n",
    "    3.权限的使用者是用户，使用权限的目的是限制用户对各个模型的访问或其他操作。\n",
    "##### 权限的默认使用场景为后台管理系统，管理员用户默认拥有所有模型的权限，普通用户默认不具备任何权限，即无法使用后台管理系统。\n",
    "    "
   ]
  },
  {
   "cell_type": "code",
   "execution_count": null,
   "metadata": {},
   "outputs": [],
   "source": [
    "# 源码\n",
    "class Permission(models.Model):\n",
    "    name = models.CharField(_('name'), max_length=255)\n",
    "    content_type = models.ForeignKey(\n",
    "        ContentType,\n",
    "        models.CASCADE,\n",
    "        verbose_name=_('content type'),\n",
    "    )\n",
    "    codename = models.CharField(_('codename'), max_length=100)\n",
    "\n",
    "    objects = PermissionManager()"
   ]
  },
  {
   "cell_type": "markdown",
   "metadata": {},
   "source": [
    "### 权限的创建\n",
    "    每个模型执行迁移时，均会自动创建增、删、改、查四项权限。假设模型名称为Bar, 权限命名格式如下：\n",
    "       添加：add_bar\n",
    "       修改：change_bar\n",
    "       删除：delete_bar\n",
    "       查看：view_bar\n",
    "    创建的权限均有所属模型，二者的关系通过ContentType建立。有两种方式可创建权限：\n",
    "    一.在模型的Meta类中创建\n",
    "    二.以编程方式创建"
   ]
  },
  {
   "cell_type": "code",
   "execution_count": 3,
   "metadata": {},
   "outputs": [],
   "source": [
    "# 在模型的Meta类中创建\n",
    "class Task(models.Model):\n",
    "    ...\n",
    "    class Meta:\n",
    "        permissions = [\n",
    "            (\"change_task_status\", \"Can change the status of tasks\"),\n",
    "            (\"close_task\", \"Can remove a task by setting its status as closed\"),\n",
    "        ]\n",
    "        \n",
    "# 以编程方式创建        \n",
    "from myapp.models import BlogPost\n",
    "from django.contrib.auth.models import Permission\n",
    "from django.contrib.contenttypes.models import ContentType\n",
    "\n",
    "content_type = ContentType.objects.get_for_model(BlogPost)\n",
    "permission = Permission.objects.create(\n",
    "    codename='can_publish',\n",
    "    name='Can Publish Posts',\n",
    "    content_type=content_type,\n",
    ")"
   ]
  },
  {
   "cell_type": "markdown",
   "metadata": {},
   "source": [
    "### 权限分组\n",
    "    组是一个基本模型，其包含两个字段name, permissions。与Permission, User互为多对多关系。\n",
    "    即意味着，属于某个组的用户，即拥有该组的所有权限。"
   ]
  },
  {
   "cell_type": "code",
   "execution_count": null,
   "metadata": {},
   "outputs": [],
   "source": [
    "# 源码\n",
    "class Group(models.Model):\n",
    "    name = models.CharField(_('name'), max_length=150, unique=True)\n",
    "    permissions = models.ManyToManyField(\n",
    "        Permission,\n",
    "        verbose_name=_('permissions'),\n",
    "        blank=True,\n",
    "    )\n",
    "    \n",
    "    objects = GroupManager()"
   ]
  },
  {
   "cell_type": "markdown",
   "metadata": {},
   "source": [
    "### 权限分配\n",
    "    即多对多关系的操作\n",
    "\n",
    "#### 分配到组\n",
    "    group.permissions.set([permission_list])\n",
    "    group.permissions.add(permission, permission, ...)\n",
    "    group.permissions.remove(permission, permission, ...)\n",
    "    group.permissions.clear()\n",
    "    \n",
    "#### 分配到用户\n",
    "    myuser.user_permissions.set([permission_list])\n",
    "    myuser.user_permissions.add(permission, permission, ...)\n",
    "    myuser.user_permissions.remove(permission, permission, ...)\n",
    "    myuser.user_permissions.clear()\n",
    "    \n",
    "#### 用户与组\n",
    "    myuser.groups.set([group_list])\n",
    "    myuser.groups.add(group, group, ...)\n",
    "    myuser.groups.remove(group, group, ...)\n",
    "    myuser.groups.clear()"
   ]
  },
  {
   "cell_type": "markdown",
   "metadata": {},
   "source": [
    "### 用户使用权限\n",
    "    权限的默认使用场景为后台管理系统，但也可根据需求在其他位置使用。\n",
    "    \n",
    "#### 检测权限的方法\n",
    "    User模型的父类PermissionMixin实现了两个方法用于验证用户是否拥有某项/些权限。\n",
    "       has_perm(self, perm, obj=None)\n",
    "       has_perms(self, perm_list, obj=None)\n",
    "       perm的格式必须为 'app_label.codename', 如果传入参数 obj  ，则这个方法不会检查指定的权限列表，只检查调用对象是否具有obj的权限。\n",
    "    假设有一个名为 foo 应用程序和一个名为 Bar 的模型，要测试基础权限，应该使用：\n",
    "       添加：user.has_perm('foo.add_bar')\n",
    "       修改：user.has_perm('foo.change_bar')\n",
    "       删除：user.has_perm('foo.delete_bar')\n",
    "       查看：user.has_perm('foo.view_bar')\n",
    "       \n",
    "#### permission_required 装饰器\n",
    "    permission_required(perm, login_url=None, raise_exception=False)\n",
    "    如果raise_exception=False, 当用户未登录时，会跳转到登录页面\n",
    "    如果raise_exception=True，当用户未登录或用户不具备权限时，会引发403错误，不会跳转到登录页面。可以在permission_required装饰器上方放一个login_required装饰器，给未登录的用户一个先登录的机会。\n",
    "    \n",
    "#### PermissionRequiredMixin\n",
    "    类视图继承该类，相当于应用permission_required"
   ]
  },
  {
   "cell_type": "code",
   "execution_count": null,
   "metadata": {},
   "outputs": [],
   "source": [
    "# 官方文档示例\n",
    "from django.contrib.auth.mixins import PermissionRequiredMixin\n",
    "\n",
    "class MyView(PermissionRequiredMixin, View):\n",
    "    permission_required = 'polls.can_vote'\n",
    "    # Or multiple of permissions:\n",
    "    permission_required = ('polls.can_open', 'polls.can_edit')"
   ]
  }
 ],
 "metadata": {
  "kernelspec": {
   "display_name": "Python 3",
   "language": "python",
   "name": "python3"
  },
  "language_info": {
   "codemirror_mode": {
    "name": "ipython",
    "version": 3
   },
   "file_extension": ".py",
   "mimetype": "text/x-python",
   "name": "python",
   "nbconvert_exporter": "python",
   "pygments_lexer": "ipython3",
   "version": "3.7.0"
  }
 },
 "nbformat": 4,
 "nbformat_minor": 2
}
