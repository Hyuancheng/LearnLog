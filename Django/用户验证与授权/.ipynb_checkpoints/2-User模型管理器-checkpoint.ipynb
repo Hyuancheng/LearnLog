{
 "cells": [
  {
   "cell_type": "markdown",
   "metadata": {},
   "source": [
    "### UserManager\n",
    "    内置User模型引用模型管理器UserManager，其继承关系为：\n",
    "       UserManager -> BaseUserManager -> models.Manager ...\n",
    "    \n",
    "    在UserManager中，定义了create_user以及create_superuser两种方法。从源代码中可以发现，其使用了username, email, is_staff, is_superuser，password等字段，is_superuser字段由PermissionsMixin定义, password字段由AbstractBaseUser定义。其余字段均在AbstractUser中定义。"
   ]
  },
  {
   "cell_type": "code",
   "execution_count": null,
   "metadata": {},
   "outputs": [],
   "source": [
    "# 源代码\n",
    "class UserManager(BaseUserManager):\n",
    "    use_in_migrations = True\n",
    "\n",
    "    def _create_user(self, username, email, password, **extra_fields):\n",
    "        \"\"\"\n",
    "        Create and save a user with the given username, email, and password.\n",
    "        \"\"\"\n",
    "        if not username:\n",
    "            raise ValueError('The given username must be set')\n",
    "        email = self.normalize_email(email)\n",
    "        username = self.model.normalize_username(username)\n",
    "        user = self.model(username=username, email=email, **extra_fields)\n",
    "        user.set_password(password)\n",
    "        user.save(using=self._db)\n",
    "        return user\n",
    "\n",
    "    def create_user(self, username, email=None, password=None, **extra_fields):\n",
    "        extra_fields.setdefault('is_staff', False)\n",
    "        extra_fields.setdefault('is_superuser', False)\n",
    "        return self._create_user(username, email, password, **extra_fields)\n",
    "\n",
    "    def create_superuser(self, username, email, password, **extra_fields):\n",
    "        extra_fields.setdefault('is_staff', True)\n",
    "        extra_fields.setdefault('is_superuser', True)\n",
    "\n",
    "        if extra_fields.get('is_staff') is not True:\n",
    "            raise ValueError('Superuser must have is_staff=True.')\n",
    "        if extra_fields.get('is_superuser') is not True:\n",
    "            raise ValueError('Superuser must have is_superuser=True.')\n",
    "\n",
    "        return self._create_user(username, email, password, **extra_fields)"
   ]
  },
  {
   "cell_type": "markdown",
   "metadata": {},
   "source": [
    "### BaseUserManager\n",
    "    实现了三个方法。\n",
    "    normalize_email()     将@后面的域名转换为小写\n",
    "    make_random_password()  生成随机密码\n",
    "    get_by_natural_key()   根据验证字段返回一个用户对象"
   ]
  },
  {
   "cell_type": "markdown",
   "metadata": {},
   "source": [
    "### 重写UserManager\n",
    "    倘若自定义了用户模型，则某些情况下需要对上述方法进行重写,可继承BaseUserManager。例如：\n",
    "    以邮箱作为验证字段，而不是用户名，此时便需要对email的存在进行验证。\n",
    "    或者自定义模型中没有is_superuser字段。(is_staff以及is_superuer字段与admin后台系统的使用密切相关，倘若缺乏，则无法使用后台管理系统。)"
   ]
  }
 ],
 "metadata": {
  "kernelspec": {
   "display_name": "Python 3",
   "language": "python",
   "name": "python3"
  },
  "language_info": {
   "codemirror_mode": {
    "name": "ipython",
    "version": 3
   },
   "file_extension": ".py",
   "mimetype": "text/x-python",
   "name": "python",
   "nbconvert_exporter": "python",
   "pygments_lexer": "ipython3",
   "version": "3.7.0"
  }
 },
 "nbformat": 4,
 "nbformat_minor": 2
}
