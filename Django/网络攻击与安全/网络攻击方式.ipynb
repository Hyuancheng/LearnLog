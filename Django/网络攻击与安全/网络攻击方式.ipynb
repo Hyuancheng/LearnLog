{
 "cells": [
  {
   "cell_type": "markdown",
   "metadata": {},
   "source": [
    "## XSS攻击\n",
    "    提交一段js代码作为数据，提交到数据库，当这份数据被提取出来渲染到页面上时，其中的js代码便会执行。"
   ]
  },
  {
   "cell_type": "markdown",
   "metadata": {},
   "source": [
    "#### 防御XSS攻击\n",
    "\n",
    "##### 无富文本数据\n",
    "    即无需对字体颜色、大小进行更改，没有插入图片等需求。\n",
    "    方式一：\n",
    "       django的模板系统默认情况下会将数据转义后再渲染，因此，倘若使用的是django的模板系统，则无需其他操作，直接展示即可。\n",
    "    方式二：\n",
    "       将数据存入数据库之前便调用django.utils.defaultfilter.escape()进行转义，然后再存入数据库。\n",
    "       \n",
    "##### 含富文本数据\n",
    "    此时可对渲染的标签进行限制，比如不允许script标签存在，对其进行转义，但是允许如p,span,img等标签存在。\n",
    "    实现这一功能，可借助bleach第三方包，pip install bleach"
   ]
  },
  {
   "cell_type": "markdown",
   "metadata": {},
   "source": [
    "## clickjacking攻击\n",
    "    通过<iframe>标签将其他网站覆盖到当前网页上，设置极低的透明度，通过相关按钮的绑定诱骗用户。\n",
    "    \n",
    "#### 防御clickjacking攻击\n",
    "    禁止iframe标签的使用\n",
    "    Django的XframeOptionMiddleware中间件实现了对iframe标签的限制。"
   ]
  },
  {
   "cell_type": "markdown",
   "metadata": {},
   "source": [
    "## sql注入攻击\n",
    "    将sql查询条件作为数据提交到后端，这样后端进行数据库查询的时候就可能偏离原来的查询方式。"
   ]
  }
 ],
 "metadata": {
  "kernelspec": {
   "display_name": "Python 3",
   "language": "python",
   "name": "python3"
  },
  "language_info": {
   "codemirror_mode": {
    "name": "ipython",
    "version": 3
   },
   "file_extension": ".py",
   "mimetype": "text/x-python",
   "name": "python",
   "nbconvert_exporter": "python",
   "pygments_lexer": "ipython3",
   "version": "3.7.0"
  }
 },
 "nbformat": 4,
 "nbformat_minor": 2
}
