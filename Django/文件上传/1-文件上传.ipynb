{
 "cells": [
  {
   "cell_type": "markdown",
   "metadata": {},
   "source": [
    "### 前端\n",
    "    前端界面通过form表单，将enctype属性设置成multipart/form-data\n",
    "    \n",
    "\n",
    "### 后端\n",
    "    使用模型的FileField/ImageField进行保存。\n",
    "    uploade_to属性可设置文件存储位置，默认会存储在setting.MEDIA_ROOT目录下，倘若想让上传的文件按日期进行归类，则可设置upload_to为：\n",
    "        upload_to = '%Y%m%d'"
   ]
  }
 ],
 "metadata": {
  "kernelspec": {
   "display_name": "Python 3",
   "language": "python",
   "name": "python3"
  },
  "language_info": {
   "codemirror_mode": {
    "name": "ipython",
    "version": 3
   },
   "file_extension": ".py",
   "mimetype": "text/x-python",
   "name": "python",
   "nbconvert_exporter": "python",
   "pygments_lexer": "ipython3",
   "version": "3.7.0"
  }
 },
 "nbformat": 4,
 "nbformat_minor": 2
}
