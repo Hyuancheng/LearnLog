{
 "cells": [
  {
   "cell_type": "markdown",
   "metadata": {},
   "source": [
    "## path转换器原理\n",
    "    django提供了几种内置的path转换器:<int>, <slug>, <str>, <path>, <uuid>\n",
    "    以int为例，假设url模式为：\n",
    "       path('/article/<int:number>/', Artical.as_view(), name='article') \n",
    "       \n",
    "    浏览器发起请求http:127.0.0.1:8000/article/3/\n",
    "    \n",
    "    <int:number>捕获到3以后，会先将其传入IntConverter类下的to_python函数中，再将结果传入视图函数。\n",
    "    \n",
    "    当利用reverse进行反转时，number参数也会先被传入IntConverter类的to_url函数中，再将结果用于构建url模式。\n",
    "    如 reverse('article', args={'number': 3}\n",
    "       "
   ]
  },
  {
   "cell_type": "code",
   "execution_count": null,
   "metadata": {},
   "outputs": [],
   "source": [
    "# IntConverter类位于converter.py中，可由from django.urls import converters 导入\n",
    "# 源码如下\n",
    "class IntConverter:\n",
    "    \"\"\"\n",
    "    regex:用于匹配的正则number的表达式\n",
    "    value:匹配到的number值\n",
    "    to_python: 将匹配到的number值转换为int类型后传入视图函数\n",
    "    to_url：将number参数转换为str格式，再用于构建url\n",
    "    \n",
    "    \"\"\"\n",
    "    regex = '[0-9]+'\n",
    "\n",
    "    def to_python(self, value):\n",
    "        return int(value)\n",
    "\n",
    "    def to_url(self, value):\n",
    "        return str(value)\n"
   ]
  },
  {
   "cell_type": "markdown",
   "metadata": {},
   "source": [
    "## 自定义path转换器\n",
    "    假设我们要自定义一个转换器：\n",
    "    可捕获/a+b+c/,并将其转换成['a', 'b', 'c']列表后再传入视图；\n",
    "    反转时，参数也以列表形式传入。"
   ]
  },
  {
   "cell_type": "code",
   "execution_count": null,
   "metadata": {},
   "outputs": [],
   "source": [
    "# 1.自定义一个转换类，定义正则表达式，实现to_python, to_url方法\n",
    "# 该类的定义位置为url.py\n",
    "class testConverter:\n",
    "    \"\"\"\n",
    "    regex为固定变量名称，其他名称django将无法识别\n",
    "    \"\"\"\n",
    "    regex = r'\\w|(\\w\\+\\w)+'\n",
    "    \n",
    "    def to_python(self, value):\n",
    "        result = value.split('+')\n",
    "        return result\n",
    "        \n",
    "    def to_url(self, value):\n",
    "        if isinstance(value, list):\n",
    "            result = '+'.join(value)\n",
    "            return result\n",
    "        else:\n",
    "            raise RuntimeErro('转换url的参数必须为列表')\n",
    "            \n",
    "# 2.注册该自定义转换器\n",
    "from django.urls.converters import register_converter\n",
    "# 该函数含两个参数\n",
    "# converter: 转换器，即上方定义的testConverter\n",
    "# type_name: 转换器名称，此处取名为test\n",
    "register_converter(testConverter, test)\n",
    "            \n",
    "            \n",
    "# 则url模式可以设计为：\n",
    "    path('/article/<test:artical_list', Artical.as_view(), name='article')"
   ]
  }
 ],
 "metadata": {
  "kernelspec": {
   "display_name": "Python 3",
   "language": "python",
   "name": "python3"
  },
  "language_info": {
   "codemirror_mode": {
    "name": "ipython",
    "version": 3
   },
   "file_extension": ".py",
   "mimetype": "text/x-python",
   "name": "python",
   "nbconvert_exporter": "python",
   "pygments_lexer": "ipython3",
   "version": "3.7.0"
  }
 },
 "nbformat": 4,
 "nbformat_minor": 2
}
