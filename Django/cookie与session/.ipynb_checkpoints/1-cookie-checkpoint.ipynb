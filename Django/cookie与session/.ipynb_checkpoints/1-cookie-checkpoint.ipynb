{
 "cells": [
  {
   "cell_type": "markdown",
   "metadata": {},
   "source": [
    "### cookie\n",
    "    cookie与session配合使用，用于解决Http协议的无状态问题。\n",
    "    cookie是位于http报文首部的一段总量不能超过4kb的信息。\n",
    "    简单理解：\n",
    "    当客户端第一次访问服务器时，服务器会新建一个会话(session)记录该客户端的验证结果(比如是否登录，对应的是数据库中的哪一位用户对象)，会话被保存在服务器端用于管理二者的通讯。服务器把会话的编号（id）随着http响应报文发送给客户端，报文中记录会话id的这部分信息，就是cookie。之后客户端再次访问该服务器时，浏览器会自动加上服务器之前返回的cookie，以表明身份。这样，就实现了客户端与服务端的相互识别。"
   ]
  },
  {
   "cell_type": "markdown",
   "metadata": {},
   "source": [
    "### django对cookie的支持\n",
    "    对cookie的操作由httpResponse对象完成\n",
    "#### 设置cookie\n",
    "    由httpresponse.set_cookie()方法实现。参数如下：\n",
    "    key：键\n",
    "    value：值\n",
    "    max_age：最长的生命周期，单位为秒\n",
    "    expires：过期时间，即一个具体的日期时刻，优先级高于max_age。\n",
    "    path：设置该cookie对域名下的哪个路径有效（即在哪些路径下能获取cookie信息），默认为全部，即/根目录。\n",
    "    domain：针对哪个域名有效\n",
    "    secure：是否安全，若设置为True,则https才能访问\n",
    "    httponly：默认为False,如果设置为True，则无法通过javascript进行操作。"
   ]
  },
  {
   "cell_type": "markdown",
   "metadata": {},
   "source": [
    "#### 删除cookie\n",
    "    httpresponse.delete_cookie( key, path='/', domain=None)\n",
    "    该方法的原理是调用set_cookie方法，将已设cookie的生命周期设为0。因此其path和domain参数要与该cookie设置时的参数一致，否则该cookie将不会被删除。"
   ]
  },
  {
   "cell_type": "code",
   "execution_count": null,
   "metadata": {},
   "outputs": [],
   "source": [
    "# 源码\n",
    "def delete_cookie(self, key, path='/', domain=None):\n",
    "    # Most browsers ignore the Set-Cookie header if the cookie name starts\n",
    "    # with __Host- or __Secure- and the cookie doesn't use the secure flag.\n",
    "    secure = key.startswith(('__Secure-', '__Host-'))\n",
    "    self.set_cookie(\n",
    "        key, max_age=0, path=path, domain=domain, secure=secure,\n",
    "        expires='Thu, 01 Jan 1970 00:00:00 GMT',\n",
    "    )"
   ]
  },
  {
   "cell_type": "markdown",
   "metadata": {},
   "source": [
    "#### 获取cookie\n",
    "    request.COOKIES属性\n",
    "    这是一个包含了所有cookie的字典，键值对为字符串格式。"
   ]
  }
 ],
 "metadata": {
  "kernelspec": {
   "display_name": "Python 3",
   "language": "python",
   "name": "python3"
  },
  "language_info": {
   "codemirror_mode": {
    "name": "ipython",
    "version": 3
   },
   "file_extension": ".py",
   "mimetype": "text/x-python",
   "name": "python",
   "nbconvert_exporter": "python",
   "pygments_lexer": "ipython3",
   "version": "3.7.0"
  }
 },
 "nbformat": 4,
 "nbformat_minor": 2
}
