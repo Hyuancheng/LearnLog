{
 "cells": [
  {
   "cell_type": "markdown",
   "metadata": {},
   "source": [
    "### session\n",
    "    当客户端访问服务器时，服务器会创建一个会话用来管理二者的交互信息，区分不同的客户端，避免互相干扰。\n",
    "##### 当用户登录登录后\n",
    "    session的id被返回给客户端，存储在cookie中，这样客户端再次访问服务端时，带上session_id，就能识别双方身份。\n",
    "    "
   ]
  },
  {
   "cell_type": "markdown",
   "metadata": {},
   "source": [
    "### django的session\n",
    "    默认情况下，session被加密后存储在数据库中。\n",
    "    当激活 SessionMiddleware 后，每个 HttpRequest 对象（任何 Django 视图函数的第一个参数request） 将得到一个 session 属性，该属性是一个类字典对象。\n",
    "    session具有以下方法：\n",
    "    get()：获取指定键对应的值。\n",
    "    pop()：删除并返回指定键对应的值。\n",
    "    keys()：获取所有的键\n",
    "    items()：获取所有的键值对\n",
    "    clear()：删除所有的键值对\n",
    "    flush()：删除会话，并且通知浏览器将cookie中的session_id一并删除。\n",
    "    set_expiry(value)：\n",
    "        为会话设置过期时间。可以传递很多不同值：\n",
    "        如果 value 是整型，会话将在闲置数秒后过期。比如，调用 request.session.set_expiry(300) 会使得会话在5分钟后过期。\n",
    "        如果 value 是一个 datetime 或 timedelta 对象，会话将在指定的 date/time 过期。注意，如果正在使用 PickleSerializer ，那么 datetime 和 timedelta 的值只能序列化。\n",
    "        如果 value 是 0 ，则当浏览器关闭后，用户会话 cookie 将过期。\n",
    "        如果 value 是 None ，会话会恢复为全局会话过期策略。\n",
    "        出于过期目的，读取会话不被视为活动。会话过期时间会在会话最后一次*修改*后开始计算。\n",
    "    clear_expired()：从会话存储中移除过期会话。这个类方法通过 clearsessions 调用。"
   ]
  },
  {
   "cell_type": "code",
   "execution_count": null,
   "metadata": {},
   "outputs": [],
   "source": []
  }
 ],
 "metadata": {
  "kernelspec": {
   "display_name": "Python 3",
   "language": "python",
   "name": "python3"
  },
  "language_info": {
   "codemirror_mode": {
    "name": "ipython",
    "version": 3
   },
   "file_extension": ".py",
   "mimetype": "text/x-python",
   "name": "python",
   "nbconvert_exporter": "python",
   "pygments_lexer": "ipython3",
   "version": "3.7.0"
  }
 },
 "nbformat": 4,
 "nbformat_minor": 2
}
