{
 "cells": [
  {
   "cell_type": "markdown",
   "metadata": {},
   "source": [
    "以下列举部分中间件，详细信息可参考官方文档。"
   ]
  },
  {
   "cell_type": "markdown",
   "metadata": {},
   "source": [
    "### CommonMiddleware\n",
    "    1.检查并补齐请求url中最后面的斜杠/\n",
    "    倘若中间件检查到请求url的末端缺少一个斜杠，则会返回301重定向响应，将用户重定向到正确页面\n",
    "    2.设置不允许访问的user-agent\n",
    "    该功能会禁止settings.py中的DISALLOWED_USER_AGENTS规定的请求访问网站。"
   ]
  },
  {
   "cell_type": "markdown",
   "metadata": {},
   "source": [
    "### GZipMiddleware\n",
    "    将响应的数据压缩后再返回"
   ]
  },
  {
   "cell_type": "markdown",
   "metadata": {},
   "source": [
    "### SessionMiddleware\n",
    "    为request对象增添一个处理好的session属性，该属性为一个SessionStore对象"
   ]
  }
 ],
 "metadata": {
  "kernelspec": {
   "display_name": "Python 3",
   "language": "python",
   "name": "python3"
  },
  "language_info": {
   "codemirror_mode": {
    "name": "ipython",
    "version": 3
   },
   "file_extension": ".py",
   "mimetype": "text/x-python",
   "name": "python",
   "nbconvert_exporter": "python",
   "pygments_lexer": "ipython3",
   "version": "3.7.0"
  }
 },
 "nbformat": 4,
 "nbformat_minor": 2
}
