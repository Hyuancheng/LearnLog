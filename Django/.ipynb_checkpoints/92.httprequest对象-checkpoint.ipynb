{
 "cells": [
  {
   "cell_type": "markdown",
   "metadata": {},
   "source": [
    "### request\n",
    "    当请求访问服务器时，django会创建一个HttpRequest对象，其与HttpResponse对象反映了整个系统中请求的处理状态。WSGIRequest对象是HttpRequest对象的子类，它的实例request会作为第一个参数被传入视图函数，由视图函数的request参数接收。因此，视图中的request包含了HttpRequest对象所有的请求方法，属性。\n",
    "    request常用属性如下：\n",
    "        request.body\n",
    "            这是一个字节串，包含了http请求的元数据。request.GET和request.POST便是由request.body作为参数由QueryDict实例化得到，其将字节串数据转换为字符串格式。\n",
    "            \n",
    "        request.method\n",
    "            返回http请求的方法\n",
    "    \n",
    "        request.GET\n",
    "            QueryDict的实例，一个类字典对象，包含get方法传递的所有参数。\n",
    "\n",
    "        request.POST\n",
    "            QueryDict的实例，一个类字典对象，包含post方法传递的所有参数。\n",
    "            \n",
    "        COOKIES\n",
    "        FILES\n",
    "        session\n",
    "        META: 包含了报文的各种信息。\n",
    "        \n",
    "    常用方法：\n",
    "        is_secure(): 判断是否采用https协议\n",
    "        is_ajax()：判断是否为ajax请求\n",
    "        get_host(): 返回服务器的域名\n",
    "        get_full_path()：获取目录路径\n",
    "        get_raw_uri()：获取完整的url\n",
    "        "
   ]
  },
  {
   "cell_type": "markdown",
   "metadata": {},
   "source": [
    "## QueryDict\n",
    "    字典的子类，用于处理http请求上传的参数中一键多值的情况，request.GET和request.POST是由该类实例化得到。"
   ]
  }
 ],
 "metadata": {
  "kernelspec": {
   "display_name": "Python 3",
   "language": "python",
   "name": "python3"
  },
  "language_info": {
   "codemirror_mode": {
    "name": "ipython",
    "version": 3
   },
   "file_extension": ".py",
   "mimetype": "text/x-python",
   "name": "python",
   "nbconvert_exporter": "python",
   "pygments_lexer": "ipython3",
   "version": "3.7.0"
  }
 },
 "nbformat": 4,
 "nbformat_minor": 2
}
