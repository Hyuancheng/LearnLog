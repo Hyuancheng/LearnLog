{
 "cells": [
  {
   "cell_type": "markdown",
   "metadata": {},
   "source": [
    "### context_processor\n",
    "    实际开发过程中，会有一些信息在各个页面都要用到，比如用户的登录信息。\n",
    "    为了避免在各个视图中都返回这些信息，可以选用django提供的上下文管理器context processor。"
   ]
  },
  {
   "cell_type": "markdown",
   "metadata": {},
   "source": [
    "### 内置的上下文管理器\n",
    "    debug: 用于展示debug信息\n",
    "    request: 在模板中也能使用httpRequest对象\n",
    "    auth: 在模板中默认可以使用user\n",
    "    messages: 内置的消息提示管理器\n",
    "    media\n",
    "    static\n",
    "    csrf"
   ]
  },
  {
   "cell_type": "markdown",
   "metadata": {},
   "source": [
    "### 自定义\n",
    "    1.\n",
    "    定义一个函数，该函数只需要一个参数request。\n",
    "    处理结束后必须返回一个字典，其中的键则是用于解析的名称。\n",
    "    倘若没有返回的数据，也必须返回一个空字典。\n",
    "    2.\n",
    "    在settings.py的TEMPLATE设定中，于context_processor选项下添加该函数。\n",
    "    "
   ]
  },
  {
   "cell_type": "code",
   "execution_count": null,
   "metadata": {},
   "outputs": [],
   "source": [
    "# 在需要使用上下文管理器的app下新建一个文件,如context_processor.py.\n",
    "# 定义函数\n",
    "def check_user(request):\n",
    "    context = {}\n",
    "    user_id = request.session.get('user_id')\n",
    "    if user_id:\n",
    "        user = User.objects.get(id=user_id, default=None)\n",
    "        context['my_user'] = user\n",
    "    return context\n",
    "\n",
    "# 进入settings.py\n",
    "TEMPLATES = [\n",
    "    {\n",
    "        'BACKEND': 'django.template.backends.django.DjangoTemplates',\n",
    "        'DIRS': [],\n",
    "        'APP_DIRS': True,\n",
    "        'OPTIONS': {\n",
    "            'context_processors': [\n",
    "                'django.template.context_processors.debug',\n",
    "                'django.template.context_processors.request',\n",
    "                'django.contrib.auth.context_processors.auth',\n",
    "                'django.contrib.messages.context_processors.messages',\n",
    "                 # 将该函数添加到此处\n",
    "                'myapp.context_processor.check_user',\n",
    "            ],\n",
    "        },\n",
    "    },\n",
    "]\n",
    "\n",
    "# 在模板中即可通过{% my_user %}进行访问"
   ]
  }
 ],
 "metadata": {
  "kernelspec": {
   "display_name": "Python 3",
   "language": "python",
   "name": "python3"
  },
  "language_info": {
   "codemirror_mode": {
    "name": "ipython",
    "version": 3
   },
   "file_extension": ".py",
   "mimetype": "text/x-python",
   "name": "python",
   "nbconvert_exporter": "python",
   "pygments_lexer": "ipython3",
   "version": "3.7.0"
  }
 },
 "nbformat": 4,
 "nbformat_minor": 2
}
