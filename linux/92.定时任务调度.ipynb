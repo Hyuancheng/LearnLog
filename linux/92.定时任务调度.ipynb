{
 "cells": [
  {
   "cell_type": "markdown",
   "metadata": {},
   "source": [
    "### crontab指令 -- 任务调度\n",
    "    创建定时任务\n",
    "    crontab -e  打开任务调度文件\n",
    "    \n",
    "    假如每分钟将hello.txt文件的内容追加到haha.txt中：\n",
    "    */n * * * * cat hello.txt >> haha.txt\n",
    "    \n",
    "    上面指令中\n",
    "    第一个“*”号（*/n）的位置用于指定一小时中的第几分钟,“*”表示任意分钟。“/n”表示每隔n分钟执行一次\n",
    "    第二个“*”号用于指定第几时/24\n",
    "    第三个“*”号用于指定一个月中第几天/31\n",
    "    第四个“*”号用于指定一年中第几个月/12\n",
    "    第五个“*”号用于指定周几/0-7，其中0和7均代表周日。\n",
    "    \n",
    "    “*”号表示任意的意思\n",
    "    “，”逗号用于指定多个不连续的时间点，如每月的1，3，5号，这时用“，”隔开日期即可\n",
    "    “-”用于指定连续的时间段。\n",
    "    \n",
    "    \n",
    "    相关指令：\n",
    "    crontab -r: 终止任务调度\n",
    "    crontab -l: 列出当前所有的任务\n",
    "    service cron restart: 重启任务调度"
   ]
  }
 ],
 "metadata": {
  "kernelspec": {
   "display_name": "Python 3",
   "language": "python",
   "name": "python3"
  },
  "language_info": {
   "codemirror_mode": {
    "name": "ipython",
    "version": 3
   },
   "file_extension": ".py",
   "mimetype": "text/x-python",
   "name": "python",
   "nbconvert_exporter": "python",
   "pygments_lexer": "ipython3",
   "version": "3.7.0"
  }
 },
 "nbformat": 4,
 "nbformat_minor": 2
}
