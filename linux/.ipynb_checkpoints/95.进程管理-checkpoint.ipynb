{
 "cells": [
  {
   "cell_type": "markdown",
   "metadata": {},
   "source": [
    "### ps指令---显示系统执行的进程\n",
    "    ps [选项]\n",
    "    该指令可不加任何参数，查看系统当前正在执行的进程及其执行情况。\n",
    "    显示的信息如下：\n",
    "    PID：进程id\n",
    "    TTY：终端机号\n",
    "    TIME：此进程占用CPU的时间\n",
    "    CMD：正在执行的命令或进程名\n",
    "    %MEM：内存使用情况\n",
    "    VSZ：虚拟内存使用情况\n",
    "    RSS：物理内存使用情况\n",
    "    STAT：进程状态\n",
    "        S代表休眠\n",
    "        s表示该进程是会话的先导进程，即包含子进程\n",
    "        N表示低优先级\n",
    "        >表示高优先级\n",
    "        R代表运行中\n",
    "        D短期等待\n",
    "        Z已死进程，但仍占用着内存\n",
    "        X已死进程\n",
    "        T表示被跟踪或停止\n",
    "        +表示位于后台的进程\n",
    "        l表示多线程\n",
    "        L表示有些页面被锁进内存\n",
    "        \n",
    "    START：进程开始时间\n",
    "    COMMAND：启动进程执行的命令和参数，过长会部分显示\n",
    "    \n",
    "    \n",
    "    可选项如下：\n",
    "    -a：显示当前终端所有进程信息\n",
    "    -u：以用户的格式显示进程信息\n",
    "    -x：显示后台进程运行的参数\n",
    "    -aux：全面信息\n",
    "    \n",
    "#### 查看父进程\n",
    "    ps -ef \n",
    "    PPID列即代表当前进程的父进程id"
   ]
  },
  {
   "cell_type": "markdown",
   "metadata": {},
   "source": [
    "### kill --- 终止进程\n",
    "    kill 进程id\n",
    "    \n",
    "    强制终止进程\n",
    "    kill -9 进程id\n",
    "\n",
    "#### 查询某个进程的id\n",
    "    ps -aux | grep 服务名称\n",
    "    \n",
    "    \n",
    "    \n",
    "    \n",
    "### killall --- 终止进程及其子进程\n",
    "    kill 父进程名称/id\n",
    "    "
   ]
  },
  {
   "cell_type": "markdown",
   "metadata": {},
   "source": [
    "### 查看进程树\n",
    "    pstree [选项]\n",
    "    \n",
    "    可选项为：\n",
    "    -p：显示进程的pid\n",
    "    -u：显示进程的所属用户"
   ]
  },
  {
   "cell_type": "markdown",
   "metadata": {},
   "source": [
    "### top指令 -- 监控进程\n",
    "    top\n",
    "    \n",
    "#### 监视特定的用户进程\n",
    "\n",
    "    执行top指令后，输入“u”，输入“用户名”\n",
    "    \n",
    "    \n",
    "#### 监视特定的进程\n",
    "    \n",
    "    top -p pid\n",
    "    \n",
    "    \n",
    "#### 不显示任何闲置或失活进程\n",
    "    \n",
    "    top -i \n",
    "    \n",
    "    \n",
    "### 终止指定的进程\n",
    "\n",
    "    执行top指令后，输入“k”,输入进程id\n",
    "    \n",
    "    \n",
    "### 指定监控间隔\n",
    "\n",
    "    以10秒为例\n",
    "    top -d 10\n",
    "    \n",
    "    \n",
    "    "
   ]
  }
 ],
 "metadata": {
  "kernelspec": {
   "display_name": "Python 3",
   "language": "python",
   "name": "python3"
  },
  "language_info": {
   "codemirror_mode": {
    "name": "ipython",
    "version": 3
   },
   "file_extension": ".py",
   "mimetype": "text/x-python",
   "name": "python",
   "nbconvert_exporter": "python",
   "pygments_lexer": "ipython3",
   "version": "3.7.0"
  }
 },
 "nbformat": 4,
 "nbformat_minor": 2
}
