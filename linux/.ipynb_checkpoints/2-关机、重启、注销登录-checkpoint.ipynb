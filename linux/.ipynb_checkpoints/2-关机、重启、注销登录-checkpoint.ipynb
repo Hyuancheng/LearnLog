{
 "cells": [
  {
   "cell_type": "markdown",
   "metadata": {},
   "source": [
    "## 将内存数据保存到磁盘\n",
    "    \n",
    "#### sync\n",
    "    关机前执行，防止数据丢失\n",
    "\n",
    "\n",
    "\n",
    "## 关机\n",
    "\n",
    "#### 关机前执行sync\n",
    "\n",
    "#### shutdown -h now\n",
    "    立即关机\n",
    "\n",
    "#### shutdown -h 1\n",
    "    一分钟后关机\n",
    "    \n",
    "    \n",
    "## 重启\n",
    "    \n",
    "#### reboot\n",
    "    \n",
    "    \n",
    "## 注销用户\n",
    "\n",
    "#### logout\n",
    "    注销当前远程连接的用户，断开连接\n",
    "    \n",
    "    \n",
    "    "
   ]
  }
 ],
 "metadata": {
  "kernelspec": {
   "display_name": "Python 3",
   "language": "python",
   "name": "python3"
  },
  "language_info": {
   "codemirror_mode": {
    "name": "ipython",
    "version": 3
   },
   "file_extension": ".py",
   "mimetype": "text/x-python",
   "name": "python",
   "nbconvert_exporter": "python",
   "pygments_lexer": "ipython3",
   "version": "3.7.0"
  }
 },
 "nbformat": 4,
 "nbformat_minor": 2
}
