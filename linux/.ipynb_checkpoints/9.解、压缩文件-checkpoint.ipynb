{
 "cells": [
  {
   "cell_type": "markdown",
   "metadata": {},
   "source": [
    "### gzip指令 -- 压缩文件\n",
    "    gzip  文件名.gz  文件名.gz ...\n",
    "    该命令不会保留原文件\n",
    "    \n",
    "    \n",
    "### gunzip指令 -- 解压文件\n",
    "    gunzip 文件名 ...\n",
    "    该命令同样不会保留原压缩文件\n",
    "    \n",
    "    \n",
    "### zip指令 --- 压缩文件/文件夹\n",
    "    zip [可选项] 压缩后的名称.zip  文件名/文件夹路径\n",
    "    \n",
    "    可选项：\n",
    "    -r: 递归压缩，压缩文件夹时需要此参数\n",
    "    \n",
    "    该指令会保留源文件\n",
    "    \n",
    "### unzip指令 -- 解压缩文件\n",
    "    unzip [可选项] 待解压文件\n",
    "    \n",
    "    可选项：\n",
    "    -d: 此参数后面接 解压路径\n",
    "    \n",
    "    该指令会保留源文件\n",
    "    \n",
    "    \n",
    "### tar指令（打包指令） --- 解压缩文件\n",
    "    该指令压缩后的格式为.tar.gz\n",
    "    \n",
    "    tar [选项]  xxx.tar.gz  待打包内容\n",
    "    \n",
    "    可选项为：\n",
    "    -c: 产生.tar打包文件\n",
    "    -v: 显示详细信息\n",
    "    -f: 指定压缩后的文件名\n",
    "    -z: 压缩表示用gzip压缩，形成xxx.tar.gz文件。解压时表示用gunzip解压缩,解开带.gz后缀的tar文件。\n",
    "    -x: 解包.tar文件\n",
    "    \n",
    "    压缩命令：\n",
    "    tar  -zcvf  xxx.tar.gz  待压缩文件名/文件夹 \n",
    "    \n",
    "    解压命令为：\n",
    "    tar  -zxvf  xxx.tar.gz  解压目标路径"
   ]
  }
 ],
 "metadata": {
  "kernelspec": {
   "display_name": "Python 3",
   "language": "python",
   "name": "python3"
  },
  "language_info": {
   "codemirror_mode": {
    "name": "ipython",
    "version": 3
   },
   "file_extension": ".py",
   "mimetype": "text/x-python",
   "name": "python",
   "nbconvert_exporter": "python",
   "pygments_lexer": "ipython3",
   "version": "3.7.0"
  }
 },
 "nbformat": 4,
 "nbformat_minor": 2
}
