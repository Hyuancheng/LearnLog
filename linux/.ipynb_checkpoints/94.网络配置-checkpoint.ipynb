{
 "cells": [
  {
   "cell_type": "markdown",
   "metadata": {},
   "source": [
    "### 查看虚拟网络编辑器\n",
    "    虚拟机的编辑选项查看（社区版没有这个选项）\n",
    "    \n",
    "    \n",
    "### 设置自动连接网络\n",
    "\n",
    "#### 自动获取动态ip\n",
    "\n",
    "    linux-系统-首选项-网络连接-勾选自动连接\n",
    "    \n",
    "    该方法获取的ip地址是动态的，每次机器重启后ip地址可能不一致\n",
    "    \n",
    "   \n",
    "#### 手动设定静态ip\n",
    "    1.修改eth0网卡(可以有多块网卡)的配置文件\n",
    "    vim /etc/sysconfig/network-scripts/ipcfg-eth0\n",
    "    \n",
    "    ONBOOT = yes       启用boot\n",
    "    BOOTPROTO = static   以静态方式获取ip，将该选项设置为static即为静态ip\n",
    "    IPADDR = 192.168.184.125     指定ip地址\n",
    "    GATEWAY = 192.168.184.2      网关地址，网关用于局域网与因特网的连接\n",
    "    DNS1 = 192.168.184.2       dns服务器，该地址与网关地址保持一致即可\n",
    "    \n",
    "    2.重启网络服务以使更改生效\n",
    "     service network restart\n",
    "    "
   ]
  }
 ],
 "metadata": {
  "kernelspec": {
   "display_name": "Python 3",
   "language": "python",
   "name": "python3"
  },
  "language_info": {
   "codemirror_mode": {
    "name": "ipython",
    "version": 3
   },
   "file_extension": ".py",
   "mimetype": "text/x-python",
   "name": "python",
   "nbconvert_exporter": "python",
   "pygments_lexer": "ipython3",
   "version": "3.7.0"
  }
 },
 "nbformat": 4,
 "nbformat_minor": 2
}
