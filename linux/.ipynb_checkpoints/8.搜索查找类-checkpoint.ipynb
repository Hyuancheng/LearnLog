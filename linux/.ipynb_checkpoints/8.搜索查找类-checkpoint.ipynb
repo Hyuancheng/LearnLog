{
 "cells": [
  {
   "cell_type": "markdown",
   "metadata": {},
   "source": [
    "### find指令\n",
    "    find [查找范围] [选项] 文件名\n",
    "    \n",
    "    在/home目录下根据目录名称查找hello.txt\n",
    "    find /home -name hello.txt\n",
    "    \n",
    "    在/home目录下根据拥有者查找hello.txt\n",
    "    find /home -user hello.txt\n",
    "    \n",
    "    在/home目录下查找大于20M的文件\n",
    "    find /home -size +20M  \n",
    "    (-20M 小于20M)  \n",
    "    (20M  等于20M)\n",
    "    \n",
    "    也可以将M换为k查找\n",
    "\n",
    "\n",
    "### locate指令\n",
    "    locate指令根据locate数据库对文件进行快速定位。在使用前，应先使用updatedb 指令创建locate数据库。\n",
    "    \n",
    "    创建数据库：\n",
    "    updatedb\n",
    "    \n",
    "    查找文件\n",
    "    locate 文件名\n",
    "    \n",
    "\n",
    "### 管道符号 |\n",
    "    该符号表示将前面命令的结果交给后面的命令处理\n",
    "\n",
    "    \n",
    "### grep指令---过滤查找\n",
    "    grep [选项] 查找内容  源文件\n",
    "    \n",
    "    选项为：\n",
    "    -i: 忽略字母大小写\n",
    "    -n: 显示行号\n",
    "    \n",
    "    该命令可通过 | 配合其他命令使用\n",
    "    cat hello.txt | grep yes"
   ]
  }
 ],
 "metadata": {
  "kernelspec": {
   "display_name": "Python 3",
   "language": "python",
   "name": "python3"
  },
  "language_info": {
   "codemirror_mode": {
    "name": "ipython",
    "version": 3
   },
   "file_extension": ".py",
   "mimetype": "text/x-python",
   "name": "python",
   "nbconvert_exporter": "python",
   "pygments_lexer": "ipython3",
   "version": "3.7.0"
  }
 },
 "nbformat": 4,
 "nbformat_minor": 2
}
