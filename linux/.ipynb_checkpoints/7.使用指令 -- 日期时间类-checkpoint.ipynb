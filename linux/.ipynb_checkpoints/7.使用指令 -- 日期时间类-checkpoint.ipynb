{
 "cells": [
  {
   "cell_type": "markdown",
   "metadata": {},
   "source": [
    "### date指令\n",
    "\n",
    "#### 显示当前时间\n",
    "    date\n",
    "    \n",
    "#### 显示当前年份\n",
    "    date \"+%year\"\n",
    "    含双引号\n",
    "    \n",
    "#### 显示年月日\n",
    "    date \"+%Y - %m - %d\"\n",
    "    - 为分隔符，可以替换为其他符号\n",
    "    \n",
    "#### 显示年月日时分秒\n",
    "    date \"+%Y-%m-%d %H:%M:%S\"\n",
    "    \n",
    "#### 设置时间\n",
    "    date -s \"年-月-日 时:分:秒\"\n",
    "    \n",
    "    \n",
    "    \n",
    "### cal指令\n",
    "\n",
    "#### 显示当前月份日历\n",
    "    cal\n",
    "    \n",
    "#### 指定某一年的日历\n",
    "    cal [year]"
   ]
  }
 ],
 "metadata": {
  "kernelspec": {
   "display_name": "Python 3",
   "language": "python",
   "name": "python3"
  },
  "language_info": {
   "codemirror_mode": {
    "name": "ipython",
    "version": 3
   },
   "file_extension": ".py",
   "mimetype": "text/x-python",
   "name": "python",
   "nbconvert_exporter": "python",
   "pygments_lexer": "ipython3",
   "version": "3.7.0"
  }
 },
 "nbformat": 4,
 "nbformat_minor": 2
}
