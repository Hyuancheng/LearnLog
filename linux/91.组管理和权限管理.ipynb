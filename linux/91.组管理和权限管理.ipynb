{
 "cells": [
  {
   "cell_type": "markdown",
   "metadata": {},
   "source": [
    "## 组管理\n",
    "\n",
    "##### 每个文件都有所有者及所在组，一般文件的创建者即为所有者，该用户所在的组即是文件的所在组。\n",
    "\n",
    "\n",
    "### 修改文件的所有者\n",
    "    chown  用户名  文件名\n",
    "    \n",
    "    \n",
    "    \n",
    "### 递归修改文件所有者\n",
    "    chown  -R  用户名  文件名\n",
    "\n",
    "\n",
    "\n",
    "### 修改文件的所在组\n",
    "    chgrp  组名  文件名\n",
    "    \n",
    "    \n",
    "\n",
    "### 改变用户所在组\n",
    "    usermod  -g 组名  用户名\n",
    "    \n",
    "    \n",
    "### 改变用户登录的初始目录\n",
    "    usermod -d 目录  用户名\n",
    "    \n",
    "    \n",
    "    \n",
    "    "
   ]
  },
  {
   "cell_type": "markdown",
   "metadata": {},
   "source": [
    "## 权限管理\n",
    "\n",
    "\n",
    "### 权限基本介绍\n",
    "    ls -l 中显示的内容如下：\n",
    "    - rwx rw- r-- 1 root root 1213 Feb 2 09:39 abc\n",
    "    \n",
    "    r代表读权限，w代表写权限，x代表可执行（进入该目录），权限后面的1代表硬连接数/该目录下的子目录数。1213代表文件的大小（字节）/如果是目录的话，代表目录本身的大小，而不是目录下文件的总和。后接最近修改时间。\n",
    "    \n",
    "    rwx可以用数字表示\n",
    "    r: 4\n",
    "    w: 2\n",
    "    x: 1\n",
    "    rwx: 4+2+1 = 7\n",
    "    \n",
    "    0-9位位置说明\n",
    "    \n",
    "    1.第0位确定文件类型:\n",
    "        -: 普通文件\n",
    "        d: 目录\n",
    "        l: 软连接\n",
    "        c: 字符设备（如键盘、鼠标）\n",
    "        b: 块文件，硬盘\n",
    "    2.第1-3位指定所有者的权限 \n",
    "    3.第4-6位指定所在组对该文件的权限\n",
    "    4.第7-9位确定其他用户对该文件的权限"
   ]
  },
  {
   "cell_type": "markdown",
   "metadata": {},
   "source": [
    "### 修改权限 -- chmod\n",
    "    指令中用 +、-、= 表示权限操作：\n",
    "    +：新增权限\n",
    "    -：减少权限\n",
    "    =：赋予权限\n",
    "    \n",
    "    用u、g、o、a代表操作对象\n",
    "    u：用户\n",
    "    g：组\n",
    "    o：其他\n",
    "    a：所有（即u+g+o）\n",
    "    \n",
    "    指令示例：\n",
    "    \n",
    "    赋予文件的所有者读写执行权限，赋予组用户读权限，赋予其他用户执行权限\n",
    "    chmod u=rwx g=r o=x 文件名\n",
    "    \n",
    "    去掉文件所有者的执行权限\n",
    "    chmod u-x 文件名\n",
    "    \n",
    "    上条命令用数字表示则为：\n",
    "    chmod 641 文件名"
   ]
  }
 ],
 "metadata": {
  "kernelspec": {
   "display_name": "Python 3",
   "language": "python",
   "name": "python3"
  },
  "language_info": {
   "codemirror_mode": {
    "name": "ipython",
    "version": 3
   },
   "file_extension": ".py",
   "mimetype": "text/x-python",
   "name": "python",
   "nbconvert_exporter": "python",
   "pygments_lexer": "ipython3",
   "version": "3.7.0"
  }
 },
 "nbformat": 4,
 "nbformat_minor": 2
}
