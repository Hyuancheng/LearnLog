{
 "cells": [
  {
   "cell_type": "markdown",
   "metadata": {},
   "source": [
    "### rpm\n",
    "    rpm是linux系统中下载包的打包及安装工具\n",
    "    \n",
    "### rpm查询指令\n",
    "    \n",
    "    查询是否已安装火狐浏览器\n",
    "    rpm -qa | grep firefox\n",
    "    \n",
    "    或：\n",
    "    \n",
    "    rpm -q firefox\n",
    "    \n",
    "    倘若已安装，则结果可能如下：\n",
    "    firefox-45.0.1-1.el6.centos.x86_64.rpm\n",
    "    \n",
    "    版本：45.0.1-1\n",
    "    适用于系统：el6.centos.x86_64\n",
    "            表示适用于centos6.x的64位系统\n",
    "            如果是i686、i386表示适用于32位系统，noarch表示通用\n",
    "    \n",
    "    查询软件包信息：\n",
    "    rpm -qi firefox\n",
    "    \n",
    "    查询软件包中的文件：\n",
    "    rpm -ql\n",
    "    \n",
    "    根据文件查询所属软件包\n",
    "    rpm -qf 路径\n",
    "    \n",
    "    "
   ]
  },
  {
   "cell_type": "markdown",
   "metadata": {},
   "source": [
    "### 通过rpm卸载包\n",
    "\n",
    "    rpm -e rpm包名称 \n",
    "    \n",
    "    有些包含有依赖关系，倘若要强制删除，则：\n",
    "    rpm -e --nodeps rpm包名称\n",
    "    \n",
    "    \n",
    "### 通过rpm安装包\n",
    "\n",
    "    rmp [选项]  rpm包名称\n",
    "    \n",
    "    可选项：\n",
    "    -i：安装\n",
    "    -v：提示\n",
    "    -h：进度条\n",
    "\n",
    "\n",
    "\n"
   ]
  },
  {
   "cell_type": "markdown",
   "metadata": {},
   "source": [
    "### yum\n",
    "    yum是基于rpm开发的shell包管理工具，可以通过指定服务器自动下载相应软件包\n",
    "    \n",
    "    \n",
    "### 查询是否已安装某软件\n",
    "    \n",
    "    yum list | grep xx\n",
    "    \n",
    "### 下载指定软件\n",
    "\n",
    "    yum install xxx"
   ]
  }
 ],
 "metadata": {
  "kernelspec": {
   "display_name": "Python 3",
   "language": "python",
   "name": "python3"
  },
  "language_info": {
   "codemirror_mode": {
    "name": "ipython",
    "version": 3
   },
   "file_extension": ".py",
   "mimetype": "text/x-python",
   "name": "python",
   "nbconvert_exporter": "python",
   "pygments_lexer": "ipython3",
   "version": "3.7.0"
  }
 },
 "nbformat": 4,
 "nbformat_minor": 2
}
