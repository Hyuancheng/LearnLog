{
 "cells": [
  {
   "cell_type": "markdown",
   "metadata": {},
   "source": [
    "##### 服务指的是后台进程，等待其他程序的访问与请求\n",
    "\n",
    "### 管理指令\n",
    "    service 服务名称 [start|stop|restart|reload|status]\n",
    "    \n",
    "    该指令的管理是临时的，若重启系统，则服务会按默认设置运行。若想要设置永久自启动或关闭，则可以通过setup,系统服务进行指定\n",
    "    \n",
    "    centos7后，上述指令的service变为systemctl\n",
    "  \n",
    "    \n",
    "### windows下检测linux某个端口是否在运行\n",
    "\n",
    "    终端运行：\n",
    "    telnet ip 端口\n",
    "    \n",
    " \n",
    " \n",
    "### 查看linux有哪些服务\n",
    "\n",
    "#### 方式一 --- setup指令\n",
    "    setup  \n",
    "    系统服务选项可以查看所有服务\n",
    "    \n",
    "#### 方式二\n",
    "    ls -l /etc/init.d/\n",
    "    /etc/init.d/目录下含所有服务信息\n",
    "    \n",
    "\n",
    "### 运行级别与服务\n",
    "    在不同运行级别中，同一项服务可以有不同的设置。例如，是否自启动\n",
    "    其开机启动流程如下：\n",
    "    开机 -》 bios -> /boot  -> init进程1 -》 确定运行级别 -》 该运行级别对应的服务\n",
    "    \n",
    "    \n",
    "    \n",
    "### chkconfig指令 -- 为服务设定不同运行级别的相应设置\n",
    "    \n",
    "#### 查看所有服务在各个运行级别下的设置\n",
    "    chkconfig --list \n",
    "    \n",
    "#### 查看单个服务在各个运行级别下的设置\n",
    "    chkconfig --list | grep 服务名称\n",
    "    \n",
    "    或者\n",
    "    \n",
    "    chkconfig 服务名称 --list\n",
    "    \n",
    "    \n",
    "#### 设置某项服务在所有运行级别是否自启动\n",
    "\n",
    "    chkconfig  服务名称 on/off \n",
    "    \n",
    "    \n",
    "#### 设置某个服务在指定运行级别是否自启动\n",
    "    \n",
    "    chkconfig --level [num](运行级别) 服务名称 on/off \n",
    " "
   ]
  }
 ],
 "metadata": {
  "kernelspec": {
   "display_name": "Python 3",
   "language": "python",
   "name": "python3"
  },
  "language_info": {
   "codemirror_mode": {
    "name": "ipython",
    "version": 3
   },
   "file_extension": ".py",
   "mimetype": "text/x-python",
   "name": "python",
   "nbconvert_exporter": "python",
   "pygments_lexer": "ipython3",
   "version": "3.7.0"
  }
 },
 "nbformat": 4,
 "nbformat_minor": 2
}
