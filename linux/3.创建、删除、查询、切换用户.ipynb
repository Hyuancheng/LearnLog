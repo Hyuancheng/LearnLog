{
 "cells": [
  {
   "cell_type": "markdown",
   "metadata": {},
   "source": [
    "### 创建用户\n",
    "    1.直接创建用户\n",
    "    useradd <username> \n",
    "    该命令会自动在home目录下创建一个<username>文件夹，使用该用户登录时，文件系统会直接切换到该目录下。\n",
    "    \n",
    "    2.在指定目录下创建用户\n",
    "    useradd -d 指定绝对路径 <username>\n",
    "    \n",
    "    (路径最后一个目录即是该用户的家目录名称，由管理员指定，而不是与用户名一致)\n",
    "    \n",
    "    3.创建用户时指定组\n",
    "    useradd -g group_name username\n",
    "    创建用户时，倘若不指定组名，则会自动创建一个跟用户名相同的组\n",
    "    \n",
    "    \n",
    "### 设置用户密码\n",
    "    passwd <username>\n",
    "    \n",
    "\n",
    "### 删除用户\n",
    "\n",
    "    1.删除用户，但保留用户的家目录\n",
    "    userdel <username>\n",
    "    \n",
    "    2.删除用户，且一同删除家目录（即删除该目录下所有文件）\n",
    "    userdel -r <username>\n",
    "    \n",
    "### 查询用户信息\n",
    "    id <username>\n",
    "    信息如下：\n",
    "    uid: 用户id\n",
    "    gid: 组的id\n",
    "    组（组名称）：第几组\n",
    "    \n",
    "    \n",
    "### 切换用户\n",
    "    su - username\n",
    "\n",
    "#### 返回之前的用户\n",
    "    exit\n",
    "  \n",
    "#### 查看当前用户\n",
    "    who am i\n",
    "   "
   ]
  }
 ],
 "metadata": {
  "kernelspec": {
   "display_name": "Python 3",
   "language": "python",
   "name": "python3"
  },
  "language_info": {
   "codemirror_mode": {
    "name": "ipython",
    "version": 3
   },
   "file_extension": ".py",
   "mimetype": "text/x-python",
   "name": "python",
   "nbconvert_exporter": "python",
   "pygments_lexer": "ipython3",
   "version": "3.7.0"
  }
 },
 "nbformat": 4,
 "nbformat_minor": 2
}
