{
 "cells": [
  {
   "cell_type": "code",
   "execution_count": 64,
   "metadata": {},
   "outputs": [
    {
     "name": "stdout",
     "output_type": "stream",
     "text": [
      "所需天数： 59\n",
      "总会员数： 3427091\n",
      "总人数： 11423754\n",
      "总利润： 4471196284\n"
     ]
    }
   ],
   "source": [
    "import math\n",
    "\n",
    "def count_rate(n):\n",
    "    rate = n**1.5 + 1\n",
    "\n",
    "# 每加入一个人可得到2460元\n",
    "per_earn = 2460\n",
    "\n",
    "# 每天需要支出180元给会员\n",
    "super_cost = 180\n",
    "\n",
    "# 每天需要支出5.4元给草根会员\n",
    "simple_cost = 5.4\n",
    "\n",
    "# 会员办理率为\n",
    "rate = 0.3\n",
    "\n",
    "# 假设第一天使用的有50人，办理会员的为5人\n",
    "perday_user = 50\n",
    "perday_superuser = 5\n",
    "perday_normal_user = perday_user - perday_superuser\n",
    "total_user = perday_user\n",
    "\n",
    "total_superuser = perday_superuser\n",
    "total_normal_user = perday_normal_user\n",
    "\n",
    "n = 1\n",
    "\n",
    "perday_earn = per_earn * perday_superuser\n",
    "perday_cost = super_cost * total_superuser + math.floor(simple_cost * total_normal_user)\n",
    "\n",
    "perday_pro = perday_earn - perday_cost\n",
    "total_earn = perday_pro\n",
    "\n",
    "while perday_pro > 0 and total_user <= 10000000:\n",
    "    perday_user = math.floor(perday_user * 1.2)\n",
    "    perday_superuser = math.floor(perday_user * rate)\n",
    "    perday_normal_user = perday_user - perday_superuser\n",
    "    \n",
    "    total_superuser += perday_superuser\n",
    "    total_normal_user += perday_normal_user\n",
    "    total_user = total_superuser + total_normal_user\n",
    "\n",
    "    \n",
    "    perday_earn = per_earn * perday_superuser\n",
    "    perday_cost = super_cost * total_superuser + math.floor(simple_cost * total_normal_user)\n",
    "    perday_pro = perday_earn - perday_cost\n",
    "    \n",
    "    total_earn += perday_pro\n",
    "    \n",
    "    n += 1\n",
    "\n",
    "print('所需天数：',n)\n",
    "print('总会员数：', total_superuser)\n",
    "print('总人数：', total_user)\n",
    "print('总利润：', total_earn)"
   ]
  }
 ],
 "metadata": {
  "kernelspec": {
   "display_name": "Python 3",
   "language": "python",
   "name": "python3"
  },
  "language_info": {
   "codemirror_mode": {
    "name": "ipython",
    "version": 3
   },
   "file_extension": ".py",
   "mimetype": "text/x-python",
   "name": "python",
   "nbconvert_exporter": "python",
   "pygments_lexer": "ipython3",
   "version": "3.7.0"
  }
 },
 "nbformat": 4,
 "nbformat_minor": 2
}
