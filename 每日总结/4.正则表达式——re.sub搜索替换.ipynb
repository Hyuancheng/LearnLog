{
 "cells": [
  {
   "cell_type": "markdown",
   "metadata": {},
   "source": [
    "### 2019.11.22"
   ]
  },
  {
   "cell_type": "code",
   "execution_count": 71,
   "metadata": {},
   "outputs": [
    {
     "name": "stdout",
     "output_type": "stream",
     "text": [
      "第1次匹配，匹配情况:\n",
      "<re.Match object; span=(0, 0), match=''>\n",
      "    匹配子串group(0): ,位置为：(0, 0)\n",
      "第2次匹配，匹配情况:\n",
      "<re.Match object; span=(1, 2), match='x'>\n",
      "    匹配子串group(0): x,位置为：(1, 2)\n",
      "第3次匹配，匹配情况:\n",
      "<re.Match object; span=(2, 2), match=''>\n",
      "    匹配子串group(0): ,位置为：(2, 2)\n",
      "第4次匹配，匹配情况:\n",
      "<re.Match object; span=(3, 3), match=''>\n",
      "    匹配子串group(0): ,位置为：(3, 3)\n",
      "第5次匹配，匹配情况:\n",
      "<re.Match object; span=(4, 4), match=''>\n",
      "    匹配子串group(0): ,位置为：(4, 4)\n"
     ]
    }
   ],
   "source": [
    "版权声明：本文为CSDN博主「LaoYuanPython」的原创文章，遵循 CC 4.0 BY-SA 版权协议，转载请附上原文出处链接及本声明。\n",
    "原文链接：https://blog.csdn.net/LaoYuanPython/article/details/100053103\n",
    "    \n",
    "import re\n",
    "matchcount = 0\n",
    "\n",
    "def parsematch(patstr,text):\n",
    "    global matchcount\n",
    "    matchcount = 0\n",
    "    re.sub(patstr,matchrsult,text)\n",
    "    \n",
    "def matchrsult(m):\n",
    "    global matchcount\n",
    "    matchcount += 1   \n",
    "    print(f\"第{matchcount}次匹配，匹配情况:\")\n",
    "    print(m)\n",
    "    if(m.lastindex):\n",
    "        for i in range(0,m.lastindex+1):print(f\"    匹配子串group({i}): {m.group(i)},位置为：{m.span(i)}\") #正则表达式为{m.re},搜索文本为{m.string},\n",
    "    else:print(f\"    匹配子串group(0): {m.group(0)},位置为：{m.span(0)}\")\n",
    "    return m.group(0)\n",
    "\n",
    "parsematch('x*','axbc')"
   ]
  },
  {
   "cell_type": "markdown",
   "metadata": {},
   "source": [
    "正则表达式的匹配按被匹配字符串的索引序号开始，由大到小，依次增加。\n",
    "以parsematch('x*','axbc'）为例，第一次匹配由索引0开始，发现任何长度都无法与模式x* 匹配。则匹配结果为空。\n",
    "匹配引擎继续往下到达索引2（即b与x之间的位置），开始第二次匹配。匹配结果为一个x。\n",
    "以此类推，直至抵达索引4，此时已是'axbc'的末尾，匹配结果为空，匹配结束。\n",
    "\n",
    "如此便能解释下面例子："
   ]
  },
  {
   "cell_type": "code",
   "execution_count": 1,
   "metadata": {},
   "outputs": [
    {
     "data": {
      "text/plain": [
       "'-a-b--d-'"
      ]
     },
     "execution_count": 1,
     "metadata": {},
     "output_type": "execute_result"
    }
   ],
   "source": [
    "import re\n",
    "p = re.compile('x*')\n",
    "p.sub('-', 'abxd')"
   ]
  }
 ],
 "metadata": {
  "kernelspec": {
   "display_name": "Python 3",
   "language": "python",
   "name": "python3"
  },
  "language_info": {
   "codemirror_mode": {
    "name": "ipython",
    "version": 3
   },
   "file_extension": ".py",
   "mimetype": "text/x-python",
   "name": "python",
   "nbconvert_exporter": "python",
   "pygments_lexer": "ipython3",
   "version": "3.7.0"
  }
 },
 "nbformat": 4,
 "nbformat_minor": 2
}
