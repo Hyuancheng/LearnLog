{
 "cells": [
  {
   "cell_type": "markdown",
   "metadata": {},
   "source": [
    "###### 贪婪与非贪婪 "
   ]
  },
  {
   "cell_type": "code",
   "execution_count": null,
   "metadata": {},
   "outputs": [],
   "source": [
    "m = re.match(\"([abc])\", \"abc\")\n",
    "print(m.group(1)) # 这里组1的匹配是非贪婪的\n",
    "m = re.search(\"([abc])+\", \"abc\")\n",
    "print(m.group(1)) # 这里组1的匹配是贪婪的，因此匹配到c"
   ]
  },
  {
   "cell_type": "markdown",
   "metadata": {},
   "source": [
    "###### 2.2 在字符串的开头或结尾进行文本匹配 \n",
    "    str.startswith()\n",
    "    str.endswith()"
   ]
  },
  {
   "cell_type": "code",
   "execution_count": 5,
   "metadata": {},
   "outputs": [
    {
     "name": "stdout",
     "output_type": "stream",
     "text": [
      "['name.py', 'te.py']\n",
      "True\n"
     ]
    }
   ],
   "source": [
    "# str.endswith(str/tuple)\n",
    "# 当参数只有一个元素时为字符串，若有多个元素，则至于元组内。\n",
    "file = ('name.py', 'te.py', 'www.ook.com', 'www.asd.cn')\n",
    "L = list(n for n in file if n.endswith('.py'))\n",
    "print(L)\n",
    "\n",
    "r = 'ppwqheg.com'.endswith('.com')\n",
    "print(r)"
   ]
  },
  {
   "cell_type": "markdown",
   "metadata": {},
   "source": [
    "###### 2.5 查找和替换文本\n",
    "    re.sub(pattern, replacement, string)\n",
    "    正则表达式捕获分组，及捕获组的后向引用"
   ]
  },
  {
   "cell_type": "code",
   "execution_count": 17,
   "metadata": {},
   "outputs": [
    {
     "name": "stdout",
     "output_type": "stream",
     "text": [
      "Today is 2019-11-9, PyCon starts 2013-3-3.\n",
      "Today is 9 Nov 2019, PyCon starts 3 Mar 2013.\n"
     ]
    }
   ],
   "source": [
    "import re\n",
    "p = re.compile(r'(\\d+)/(\\d)+/(\\d+)')\n",
    "date = 'Today is 11/29/2019, PyCon starts 3/13/2013.'\n",
    "result = p.sub(r'\\3-\\1-\\2', date) # \\3为对3号捕获组的引用，\\2, \\1同理\n",
    "print(result)\n",
    "\n",
    "# 对于更复杂的情况， replacement可以为函数\n",
    "from calendar import month_abbr\n",
    "\n",
    "def process(m):\n",
    "    month_name = month_abbr[int(m.group(1))]\n",
    "    return '{} {} {}'.format(m.group(2), month_name, m.group(3))\n",
    "\n",
    "result = p.sub(process, date)\n",
    "print(result)"
   ]
  },
  {
   "cell_type": "code",
   "execution_count": 73,
   "metadata": {},
   "outputs": [
    {
     "name": "stdout",
     "output_type": "stream",
     "text": [
      "[' this is a\\n              multiline comment ']\n",
      "[' this is a multiline comment ']\n",
      "asd\n",
      "lkj\n"
     ]
    }
   ],
   "source": [
    "# 关于正则表达式中原始字符串的思考\n",
    "# 以r'\\\\'为例，使用原始字符串后，'\\'失去转义作用。此时将匹配python代码'\\\\'；\n",
    "# 但是由于在python代码中'\\'代表转义，因此在计算机的认知中，'\\\\'仅为字面值，打印值为'\\'.\n",
    "\n",
    "import re\n",
    "p = re.compile(r'/\\*((?:.|\\n)*?)\\*/')\n",
    "r = p.findall('''/* this is a\n",
    "              multiline comment */''')\n",
    "print(str(r))\n",
    "r = re.sub(r'(?:\\s|\\\\n)+', ' ', str(r))\n",
    "print(r)\n",
    "print('asd\\nlkj')"
   ]
  },
  {
   "cell_type": "code",
   "execution_count": 2,
   "metadata": {},
   "outputs": [
    {
     "name": "stdout",
     "output_type": "stream",
     "text": [
      "{'a': <generator object iter_v at 0x000001D8793EBC00>, 'x': <generator object iter_v at 0x000001D8793EBC00>, 'c': <generator object iter_v at 0x000001D8793EBC00>, 'd': <generator object iter_v at 0x000001D8793EBC00>}\n"
     ]
    }
   ],
   "source": [
    "key = ['a', 'x', 'c', 'd']\n",
    "value = [1, 2, 3, 4]\n",
    "def iter_v(values):\n",
    "    for v in values:\n",
    "        yield v\n",
    "d = dict.fromkeys(key, iter_v(value))\n",
    "print(d)"
   ]
  },
  {
   "cell_type": "markdown",
   "metadata": {},
   "source": [
    "###### 2.15 给字符串中的变量名做插值处理\n",
    "    str.format()\n",
    "    str.format_map() 结合 vars()"
   ]
  },
  {
   "cell_type": "code",
   "execution_count": 35,
   "metadata": {},
   "outputs": [
    {
     "name": "stdout",
     "output_type": "stream",
     "text": [
      "{'__module__': '__main__', 'a': 1, 'b': 2, '__init__': <function Dict.__init__ at 0x000001D8794AC2F0>, '__dict__': <attribute '__dict__' of 'Dict' objects>, '__weakref__': <attribute '__weakref__' of 'Dict' objects>, '__doc__': None}\n",
      "{'c': 3, 'd': 4}\n",
      "===============\n",
      "\n",
      "c equals 3.\n"
     ]
    }
   ],
   "source": [
    "# vars(x)函数返回x的__dict__属性。\n",
    "# 关于dict属性，（个人便于理解）可认为是赋值关系，即存在键值对。类、类实例有各自的__dict__属性。\n",
    "# 若vars()的参数为空，则返回\n",
    "\n",
    "class Dict:\n",
    "    a = 1\n",
    "    b = 2\n",
    "    \n",
    "    def __init__(self):\n",
    "        self.c = 3\n",
    "        self.d = 4\n",
    "        \n",
    "d = Dict()\n",
    "print(Dict.__dict__)\n",
    "print(d.__dict__)\n",
    "\n",
    "#========分割线==========\n",
    "print('='*15, end='\\n\\n')\n",
    "\n",
    "\n",
    "# str.format_map()相当于 str.format(**mapping)\n",
    "# 下例即相当于 s.format(c=3, d=4)\n",
    "s = 'c equals {c}.'\n",
    "print(s.format_map(vars(d)))"
   ]
  },
  {
   "cell_type": "code",
   "execution_count": 42,
   "metadata": {},
   "outputs": [
    {
     "name": "stdout",
     "output_type": "stream",
     "text": [
      "43\n",
      "\n",
      "sdh\n",
      "second\n",
      "third\n",
      "\n"
     ]
    }
   ],
   "source": [
    "import textwrap\n",
    "s = '''\n",
    "       sdh\n",
    "       second\n",
    "       third\n",
    "    '''\n",
    "print(len(s))\n",
    "print(textwrap.dedent(s))"
   ]
  },
  {
   "cell_type": "markdown",
   "metadata": {},
   "source": [
    "###### 2.18 文本分词\n",
    "    namedtuple()"
   ]
  },
  {
   "cell_type": "code",
   "execution_count": 79,
   "metadata": {},
   "outputs": [
    {
     "name": "stdout",
     "output_type": "stream",
     "text": [
      "foo\n",
      " \n",
      "=\n",
      " \n",
      "3\n",
      "[Store(type='Str', value='foo'),\n",
      " Store(type='Whi', value=' '),\n",
      " Store(type='Equ', value='='),\n",
      " Store(type='Whi', value=' '),\n",
      " Store(type='Num', value='3')]\n"
     ]
    }
   ],
   "source": [
    "from collections import namedtuple\n",
    "import re, pprint\n",
    "\n",
    "# 将下列字符串进行分词处理\n",
    "text = 'foo = 3'\n",
    "\n",
    "# 编译正则表达式，用于匹配字母，空白符，等号，数字\n",
    "Str = r'(?P<Str>[a-zA-Z]+)'\n",
    "Whi = r'(?P<Whi>\\s+)'\n",
    "Equ = r'(?P<Equ>\\=)'\n",
    "Num = r'(?P<Num>\\d+)'\n",
    "\n",
    "p = re.compile('|'.join([Str, Whi, Equ, Num]))\n",
    "\n",
    "Store = namedtuple('Store', ['type', 'value'])\n",
    "\n",
    "def iter_str(text):\n",
    "    for match in p.finditer(text):\n",
    "        print(match.group())\n",
    "        yield Store(match.lastgroup, match.group())\n",
    "        \n",
    "l = list(iter_str(text))\n",
    "pprint.pprint(l)"
   ]
  },
  {
   "cell_type": "code",
   "execution_count": 105,
   "metadata": {},
   "outputs": [
    {
     "name": "stdout",
     "output_type": "stream",
     "text": [
      "测试1：\n",
      "1\n",
      "ab\n",
      "{'ab': 'ab', 'a': 'a', 'b': 'b'}\n",
      "2\n",
      "b\n",
      "{'a': 'a', 'b': 'b'}\n",
      "测试2：\n",
      "3\n",
      "b\n",
      "{'A': 'a', 'a': 'a', 'b': 'b'}\n",
      "2\n",
      "B\n",
      "{'a': 'a', 'B': 'b', 'b': 'b'}\n",
      "测试3：\n",
      "1\n",
      "A\n",
      "{'A': 'a', 'a': 'a'}\n"
     ]
    }
   ],
   "source": [
    "# 拓展   正则re,match,lastindex属性解析\n",
    "    # re.match.lastindex属性返回的是最后一个完成匹配的捕获组的编号。\n",
    "    # 捕获组的编号按从左往右，由外到内的顺序编订。简单来说就是从左往右，‘（’出现的顺序就是编号的顺序。\n",
    "    # 捕获组的匹配则按从左往右，由内到外的顺序匹配。这就导致了捕获组的匹配顺序与编号不一致。\n",
    "    # 具体例子如下：\n",
    "    \n",
    "import re\n",
    "s = 'ab'\n",
    "\n",
    "print('测试1：')\n",
    "r = re.match(r'(?P<ab>(?P<a>a)(?P<b>b))', s)# 匹配顺序为{组名a（编号2）} - {组名b(编号3)} - {组名ab(编号1)}\n",
    "print(r.lastindex)                          # 按匹配顺序，最外层的捕获组ab为最后匹配，故返回组号1\n",
    "print(r.lastgroup)\n",
    "print(r.groupdict())\n",
    "r = re.match(r'(?P<a>a)(?P<b>b)', s)\n",
    "print(r.lastindex)\n",
    "print(r.lastgroup)\n",
    "print(r.groupdict())\n",
    "\n",
    "print('测试2：')\n",
    "r = re.match(r'(?P<A>(?P<a>a))(?P<b>b)', s)\n",
    "print(r.lastindex)\n",
    "print(r.lastgroup)\n",
    "print(r.groupdict())\n",
    "r = re.match(r'(?P<a>a)(?P<B>(?P<b>b))', s)\n",
    "print(r.lastindex)\n",
    "print(r.lastgroup)\n",
    "print(r.groupdict())\n",
    "\n",
    "print('测试3：')\n",
    "r = re.match(r'(?P<A>(?P<a>a))', s)\n",
    "print(r.lastindex)\n",
    "print(r.lastgroup)\n",
    "print(r.groupdict())"
   ]
  },
  {
   "cell_type": "code",
   "execution_count": 111,
   "metadata": {},
   "outputs": [
    {
     "data": {
      "text/plain": [
       "tu(x=1, y=2)"
      ]
     },
     "execution_count": 111,
     "metadata": {},
     "output_type": "execute_result"
    }
   ],
   "source": [
    "from collections import namedtuple\n",
    "n = namedtuple('tu', ['x', 'y'])\n",
    "p = n(1,2)\n",
    "p"
   ]
  },
  {
   "cell_type": "code",
   "execution_count": 14,
   "metadata": {},
   "outputs": [
    {
     "data": {
      "text/plain": [
       "3.3"
      ]
     },
     "execution_count": 14,
     "metadata": {},
     "output_type": "execute_result"
    }
   ],
   "source": [
    "round(float(3.34), 1)"
   ]
  },
  {
   "cell_type": "markdown",
   "metadata": {},
   "source": [
    "###### 2.19 编写一个简单的递归下降解析器"
   ]
  },
  {
   "cell_type": "code",
   "execution_count": 43,
   "metadata": {
    "scrolled": true
   },
   "outputs": [
    {
     "data": {
      "text/plain": [
       "8.33"
      ]
     },
     "execution_count": 43,
     "metadata": {},
     "output_type": "execute_result"
    }
   ],
   "source": [
    "from collections import namedtuple\n",
    "import re\n",
    "\n",
    "# 将 数字、加、减、乘、除、左括号、右括号、空格 加工成文本分词\n",
    "\n",
    "NUM = r'(?P<NUM>\\d+)'\n",
    "PLUS = r'(?P<PLUS>\\+)'\n",
    "MINUS = r'(?P<MINUS>-)' \n",
    "TIMES = r'(?P<TIMES>\\*)'\n",
    "DIVIDE = r'(?P<DIVIDE>/)'\n",
    "LPAREN = r'(?P<LPAREN>\\()'\n",
    "RPAREN = r'(?P<RPAREN>\\))'\n",
    "WS = r'(?P<WS>\\s+)'\n",
    "\n",
    "p = re.compile('|'.join([NUM, PLUS, MINUS, TIMES, DIVIDE, LPAREN, RPAREN, WS]))\n",
    "\n",
    "Stoken = namedtuple('Stoken', ['type', 'value'])\n",
    "\n",
    "def generator(text):\n",
    "    for match in p.finditer(text):\n",
    "        stoken = Stoken(match.lastgroup, match.group())\n",
    "        if stoken.type != 'WS':\n",
    "            yield stoken\n",
    "\n",
    "\n",
    "class Count:\n",
    "    '''\n",
    "    定义一个计算器类，用于进行可包含括号的整数四则运算；\n",
    "    算式中的小数会被四舍五入后进行运算；\n",
    "    最终结果保留两位小数。\n",
    "    '''\n",
    "    \n",
    "    def parse(self, text):\n",
    "        self.LPAREN = 0             # 记录左括号的读取数量，防止因左右括号数量不匹配而计算错误\n",
    "        self.pops = generator(text) # 创建迭代器，用于读取算式\n",
    "        self.c_pop = None           # 参与运算的值\n",
    "        self.n_pop = None          #  取出的值，尚未参与运算\n",
    "        self._get_next()           # 取出第一个值\n",
    "        r = round(self.express(), 2)\n",
    "        return r\n",
    "    \n",
    "    def _get_next(self):\n",
    "        # 让取出的值参与运算，并取出下一个值备用\n",
    "        self.c_pop, self.n_pop = self.n_pop, next(self.pops, None)\n",
    "    \n",
    "    def _accept(self, v_type):\n",
    "        # 该函数用于判断已取出的值是否为v_type类型，结果以布尔值的形式返回\n",
    "        if self.n_pop and self.n_pop.type == v_type:\n",
    "            self._get_next()  \n",
    "            return True\n",
    "        else:\n",
    "            return False\n",
    "        \n",
    "    def _check_syntax(self):\n",
    "        '''该函数暂未使用'''\n",
    "        # 防止出现右括号后面直接连接括号而得出错误结果\n",
    "        check_l = ['LPAREN', 'RPAREN']\n",
    "        if self.n_pop.type == 'LPAREN':\n",
    "            raise SyntaxError('括号使用错误')\n",
    "        elif self.LPAREN == 0 and self.n_pop.type == 'RPAREN':\n",
    "            raise SyntaxError('括号使用错误')\n",
    "        \n",
    "    def _expect(self, v_type):\n",
    "        if self.n_pop and self.n_pop.type == v_type:\n",
    "            self.LPAREN -= 1\n",
    "            self._get_next()\n",
    "        else:\n",
    "            raise SyntaxError('输入有误')\n",
    "    \n",
    "    def express(self):\n",
    "        # 进行一级加减运算， 即（运算得到的常数） +/- （运算得到的常数）\n",
    "        \n",
    "        value = self.term() # 获取常数的值\n",
    "        while self._accept('PLUS') or self._accept('MINUS'):\n",
    "            lable = self.c_pop\n",
    "            right = self.term()\n",
    "            if lable.type == 'PLUS':\n",
    "                value += right\n",
    "            else:\n",
    "                value -= right\n",
    "        return value\n",
    "    \n",
    "    def term(self):\n",
    "        # 进行二级乘除运算， 即（运算得到的因数） *\\/ （运算得到的因数）\n",
    "        \n",
    "        value = self.factor()\n",
    "        while self._accept('TIMES') or self._accept('DIVIDE'):\n",
    "            lable = self.c_pop\n",
    "            right = self.factor()\n",
    "            if lable.type == 'TIMES':\n",
    "                value *= right\n",
    "            else:\n",
    "                value /= right\n",
    "        return value\n",
    "    \n",
    "    def factor(self):\n",
    "        # 对获取的值进行判断，运算\n",
    "        if self._accept('NUM'):\n",
    "            return int(self.c_pop.value)\n",
    "        elif self._accept('LPAREN'):\n",
    "            self.LPAREN += 1\n",
    "            value = self.express()\n",
    "            self._expect('RPAREN')\n",
    "            self._check_syntax()\n",
    "            return value\n",
    "        else:\n",
    "            raise SyntaxError('输入有误')\n",
    "couter = Count()\n",
    "couter.parse('1 + (6 - 2) + (4 * 5) / 6')\n"
   ]
  }
 ],
 "metadata": {
  "kernelspec": {
   "display_name": "Python 3",
   "language": "python",
   "name": "python3"
  },
  "language_info": {
   "codemirror_mode": {
    "name": "ipython",
    "version": 3
   },
   "file_extension": ".py",
   "mimetype": "text/x-python",
   "name": "python",
   "nbconvert_exporter": "python",
   "pygments_lexer": "ipython3",
   "version": "3.7.0"
  }
 },
 "nbformat": 4,
 "nbformat_minor": 2
}
