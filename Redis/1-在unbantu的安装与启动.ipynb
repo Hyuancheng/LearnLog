{
 "cells": [
  {
   "cell_type": "markdown",
   "metadata": {},
   "source": [
    "### 准备工作\n",
    "\n",
    "#### 安装：\n",
    "    sudo apt-get install redis-server\n",
    "    \n",
    "#### 卸载\n",
    "    sudo apt-get purge --auto-remove redis-server\n",
    "    \n",
    "#### 启动\n",
    "    redis安装后会默认启动，手动启动方式为：\n",
    "    sudo service redis-server start\n",
    "    \n",
    "#### 停止\n",
    "    sudo service redis-server stop\n",
    "    \n",
    "#### 查看\n",
    "    ps aux|grep redis\n",
    " "
   ]
  }
 ],
 "metadata": {
  "kernelspec": {
   "display_name": "Python 3",
   "language": "python",
   "name": "python3"
  },
  "language_info": {
   "codemirror_mode": {
    "name": "ipython",
    "version": 3
   },
   "file_extension": ".py",
   "mimetype": "text/x-python",
   "name": "python",
   "nbconvert_exporter": "python",
   "pygments_lexer": "ipython3",
   "version": "3.7.0"
  }
 },
 "nbformat": 4,
 "nbformat_minor": 2
}
