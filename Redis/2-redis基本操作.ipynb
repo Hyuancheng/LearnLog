{
 "cells": [
  {
   "cell_type": "markdown",
   "metadata": {},
   "source": [
    "### redis基本操作\n",
    "    在菜鸟教程中有更加详细的命令说明，更全的命令查询参考redis官方文档。\n",
    "\n",
    "#### 终端连接redis\n",
    "    redis-cli -h [ip地址] -p [端口号，默认6379]\n",
    "    \n",
    "#### 切换数据库\n",
    "    redis默认有16个数据库，编号为0-15\n",
    "    上述连接默认进入第0个数据库，如需切换到别的数据库，则：select [num]\n",
    "    \n",
    "#### 获取数据库中键的总数\n",
    "    dbsize\n",
    "    \n",
    "#### 清空当前数据库的所有数据\n",
    "    flushdb\n",
    "    \n",
    "#### 1.字符串操作\n",
    "\n",
    "    设置值\n",
    "    set key value\n",
    "    \n",
    "    获取值\n",
    "    get key\n",
    "    \n",
    "    删除键值对\n",
    "    del key\n",
    "    \n",
    "    设置过期时间，默认为永不过期\n",
    "    设置值时一同设置\n",
    "    set key value EX timeout(秒)\n",
    "    另外设置\n",
    "    expire key timeout \n",
    "    \n",
    "    查看剩余过期时间(秒)\n",
    "    ttl key"
   ]
  },
  {
   "cell_type": "markdown",
   "metadata": {},
   "source": [
    "#### 2.列表操作\n",
    "    当key的值为列表时，可对该列表进行一系列操作。无法为redis对应的键创建一个空列表作为值。执行列表命令时，其会自动检测，在必要时创建列表并存入值。\n",
    "    \n",
    "    将一个或多个值插入到列表头部\n",
    "    lpush key value1 [value2] \n",
    "    \n",
    "    通过索引查询值\n",
    "    lindex key index\n",
    "    \n",
    "    获取指定范围的值\n",
    "    lrange key start stop\n",
    "    \n",
    "    获取全部值\n",
    "    lrange key 0 -1\n",
    "    \n",
    "    获取列表长度\n",
    "    llen key\n",
    "    \n",
    "    从左侧弹出并获取第一个元素\n",
    "    lpop key\n",
    "    \n",
    "    从右侧弹出并获取第一个元素\n",
    "    rpop key\n",
    "    \n",
    "    删除指定的值\n",
    "    lrem key count value (从左侧开始检索，count为删除几个与value相等的值, 0为删除全部与value相等的值)"
   ]
  },
  {
   "cell_type": "markdown",
   "metadata": {},
   "source": [
    "#### 3.字典操作\n",
    "    \n",
    "    添加键值对\n",
    "    hset key field value\n",
    "    \n",
    "    获取单个键值对\n",
    "    hget key field\n",
    "    \n",
    "    获取全部键值对\n",
    "    hgetall key\n",
    "    \n",
    "    获取所有键\n",
    "    hkeys key\n",
    "    \n",
    "    获取所有值\n",
    "    hvals key\n",
    "    \n",
    "    删除键值对\n",
    "    hdel key field1 [field2]..."
   ]
  },
  {
   "cell_type": "markdown",
   "metadata": {},
   "source": [
    "#### 4.集合操作\n",
    "    pass\n",
    "    参考菜鸟教程"
   ]
  }
 ],
 "metadata": {
  "kernelspec": {
   "display_name": "Python 3",
   "language": "python",
   "name": "python3"
  },
  "language_info": {
   "codemirror_mode": {
    "name": "ipython",
    "version": 3
   },
   "file_extension": ".py",
   "mimetype": "text/x-python",
   "name": "python",
   "nbconvert_exporter": "python",
   "pygments_lexer": "ipython3",
   "version": "3.7.0"
  }
 },
 "nbformat": 4,
 "nbformat_minor": 2
}
