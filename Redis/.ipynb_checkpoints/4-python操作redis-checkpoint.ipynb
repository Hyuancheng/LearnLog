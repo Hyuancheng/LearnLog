{
 "cells": [
  {
   "cell_type": "markdown",
   "metadata": {},
   "source": [
    "### 安装redis第三方包\n",
    "    pip install redis\n",
    "    该第三方包使得可以通过python代码操作redis\n",
    "    \n",
    "    \n",
    "### 操作redis\n",
    "    实例化Redis类，即可通过该类中定义的方法操作数据库"
   ]
  },
  {
   "cell_type": "code",
   "execution_count": null,
   "metadata": {},
   "outputs": [],
   "source": [
    "from redis import Redis\n",
    "\n",
    "# 实例化\n",
    "cache = Redis(host=127.0.0.1, post=6379, [password=...])"
   ]
  },
  {
   "cell_type": "markdown",
   "metadata": {},
   "source": [
    "### django-redis\n",
    "    conda install django-redis\n",
    "    redis第三方包（redis-py）使得可以通过python代码操作redis,则在django中也可以通过实例化Redis而操作redis数据库。\n",
    "    django支持将redis作为缓存数据库，但是django内部并未实现操作redis的接口，其内置的缓存接口是用于操作memcached的。意味着django无法自动将session等缓存数据存入redis中。而django-redis实现了相关接口，使django在redis中实现缓存功能。\n",
    "    \n",
    "    django-redis是基于redis-py实现的，dajngo-redis提供了很多redis-py中的方法。安装完django-redis，在settings.py中完成缓存配置后（配置方法见下文代码），像使用memcached一样，from django.core.cache import cache，通过cache调用django-redis中实现的方法即可。\n",
    "    某些情况下，在项目中需要使用django-redis中未暴露的redis-py方法，此时需要通过原生客户端操作redis。为了避免重复实例化Redis,django-redis提供了原生操作的接口。\n",
    "    from django_redis import get_redis_connection\n",
    "    con = get_redis_connection(\"default\")"
   ]
  },
  {
   "cell_type": "markdown",
   "metadata": {},
   "source": [
    "#### 配置settings.py"
   ]
  },
  {
   "cell_type": "code",
   "execution_count": null,
   "metadata": {},
   "outputs": [],
   "source": [
    "# 作为缓存后端使用\n",
    "CACHES = {\n",
    "    \"default\": {\n",
    "        \"BACKEND\": \"django_redis.cache.RedisCache\",\n",
    "        \"LOCATION\": \"redis://127.0.0.1:6379/1\",\n",
    "        \"OPTIONS\": {\n",
    "            \"CLIENT_CLASS\": \"django_redis.client.DefaultClient\",\n",
    "        }\n",
    "    }\n",
    "}\n",
    "\n",
    "# 缓存会话需要进行的配置\n",
    "SESSION_ENGINE = \"django.contrib.sessions.backends.cache\"\n",
    "SESSION_CACHE_ALIAS = \"default\""
   ]
  }
 ],
 "metadata": {
  "kernelspec": {
   "display_name": "Python 3",
   "language": "python",
   "name": "python3"
  },
  "language_info": {
   "codemirror_mode": {
    "name": "ipython",
    "version": 3
   },
   "file_extension": ".py",
   "mimetype": "text/x-python",
   "name": "python",
   "nbconvert_exporter": "python",
   "pygments_lexer": "ipython3",
   "version": "3.7.0"
  }
 },
 "nbformat": 4,
 "nbformat_minor": 2
}
