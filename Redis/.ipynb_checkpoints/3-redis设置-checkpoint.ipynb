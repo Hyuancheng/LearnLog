{
 "cells": [
  {
   "cell_type": "markdown",
   "metadata": {},
   "source": [
    "### 设置连接密码\n",
    "\n",
    "#### 进入redis.conf文件\n",
    "    /reqiredpass 搜索对应字段\n",
    "\n",
    "    取消注释\n",
    "    requirepass password\n",
    "    \n",
    "    将password修改为自身想设置的密码\n",
    "    \n",
    "    重启redis服务即可\n",
    " \n",
    "#### 登录\n",
    "    登陆时，直接指定密码\n",
    "    redis-cli -h 127.0.0.1 -p 6379 -a password\n",
    "    \n",
    "    或者登录redis-cli后，运行以下命令获得授权\n",
    "    auth [password]"
   ]
  },
  {
   "cell_type": "markdown",
   "metadata": {},
   "source": [
    "### 远程连接redis\n",
    "    默认情况下，redis只允许本机连接\n",
    "    若要实现远程连接，则需要对redis.conf进行更改\n",
    "    \n",
    "    vim redis.conf\n",
    "    在bind 127.0.0.1 后面加上本机的ip地址\n",
    "    表示允许通过该ip地址连接数据库"
   ]
  }
 ],
 "metadata": {
  "kernelspec": {
   "display_name": "Python 3",
   "language": "python",
   "name": "python3"
  },
  "language_info": {
   "codemirror_mode": {
    "name": "ipython",
    "version": 3
   },
   "file_extension": ".py",
   "mimetype": "text/x-python",
   "name": "python",
   "nbconvert_exporter": "python",
   "pygments_lexer": "ipython3",
   "version": "3.7.0"
  }
 },
 "nbformat": 4,
 "nbformat_minor": 2
}
