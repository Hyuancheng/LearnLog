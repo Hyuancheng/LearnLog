{
 "cells": [
  {
   "cell_type": "markdown",
   "metadata": {},
   "source": [
    "### 创建数据表\n",
    "    \n",
    "    create table [table_name] \n",
    "    (\n",
    "        field_name  type,\n",
    "        filed_name  type,\n",
    "        ...\n",
    "        [constraint 外键名称（必填）] foreign key(field_name) references table_name(主键名称) \n",
    "    )\n",
    "    \n",
    "\n",
    "#### 查看表基本结构\n",
    "\n",
    "    desc <table_name>\n",
    "    \n",
    "    或：\n",
    "    \n",
    "    describe <table_name>\n",
    "\n",
    "    \n",
    "    \n",
    "#### 修改表名\n",
    "    \n",
    "    alter table table_name rename new_name\n",
    "    \n",
    "    \n",
    "#### 修改字段类型\n",
    "\n",
    "    alter table table_name modify field_name new_type\n",
    "    \n",
    "    \n",
    "#### 修改字段名\n",
    "\n",
    "    alter table <table_name> change <field_name> new_name new_type\n",
    "    \n",
    "    \n",
    "#### 添加字段\n",
    "\n",
    "    alter table <table_name> add new_field type\n",
    "    \n",
    "    \n",
    "#### 删除字段\n",
    "    \n",
    "    alter table <table_name> drop <field_name>\n",
    "    \n",
    "    \n",
    "#### 修改字段的排列位置\n",
    "    \n",
    "    将move_field字段放到field_name的前面|后面\n",
    "    \n",
    "    alter table <table_name> modify <move_field> <move_field_type> first|after <field_name>\n",
    "    \n",
    "\n",
    "#### 删除外键关系\n",
    "    \n",
    "    alter table <table_name> drop foreign key <外键名>\n",
    "    \n",
    "\n",
    "#### 删除后再添加外键关系\n",
    "\n",
    "    alter table <table_name> add constraints <外键名> foreign key(field_name) references <table_name>(field_name)"
   ]
  },
  {
   "cell_type": "markdown",
   "metadata": {},
   "source": [
    "#### 删除数据表\n",
    "    \n",
    "    可同时删除多张表\n",
    "    drop table [if exists] table_name1 [, table_name2, ...]"
   ]
  },
  {
   "cell_type": "code",
   "execution_count": 4,
   "metadata": {},
   "outputs": [
    {
     "data": {
      "text/plain": [
       "{1, 2, 3}"
      ]
     },
     "execution_count": 4,
     "metadata": {},
     "output_type": "execute_result"
    }
   ],
   "source": [
    "a = (1, 2, 3)\n",
    "set(a)"
   ]
  }
 ],
 "metadata": {
  "kernelspec": {
   "display_name": "Python 3",
   "language": "python",
   "name": "python3"
  },
  "language_info": {
   "codemirror_mode": {
    "name": "ipython",
    "version": 3
   },
   "file_extension": ".py",
   "mimetype": "text/x-python",
   "name": "python",
   "nbconvert_exporter": "python",
   "pygments_lexer": "ipython3",
   "version": "3.7.0"
  }
 },
 "nbformat": 4,
 "nbformat_minor": 2
}
