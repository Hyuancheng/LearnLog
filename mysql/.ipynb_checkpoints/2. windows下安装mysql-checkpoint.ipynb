{
 "cells": [
  {
   "cell_type": "markdown",
   "metadata": {},
   "source": [
    "#### 1.下载zip包\n",
    "    \n",
    "    前往官网下载windows系统的zip压缩包，网址为：\n",
    "        \n",
    "        https://dev.mysql.com/downloads/mysql/\n",
    "        "
   ]
  },
  {
   "cell_type": "markdown",
   "metadata": {},
   "source": [
    "#### 2. 解压文件\n",
    "    \n",
    "    解压后的文件夹内有个bin文件夹，这里包含了mysql的可执行文件，需要指出的是：\n",
    "        mysql.exe 是客户端程序\n",
    "        mysqld.exe 是服务端程序\n",
    "    "
   ]
  },
  {
   "cell_type": "markdown",
   "metadata": {},
   "source": [
    "#### 3. 创建data目录\n",
    "    \n",
    "    在与bin同级目录下创建data目录，该文件夹是用于存储数据的地方。"
   ]
  },
  {
   "cell_type": "markdown",
   "metadata": {},
   "source": [
    "#### 4. 初始化服务端\n",
    "\n",
    "    命令行下进入mysql的bin目录，执行：\n",
    "        mysqld --initialize-insecure\n",
    "        \n",
    "    该指令有行使以下功能：\n",
    "        1.在data文件夹中生成mysql的默认数据库。\n",
    "        2.创建root用户，密码默认为空\n",
    "     "
   ]
  },
  {
   "cell_type": "markdown",
   "metadata": {},
   "source": [
    "#### 5.添加环境变量\n",
    "    \n",
    "    将mysql的bin目录路径添加到系统的path变量中，方便mysql客户端的启动"
   ]
  },
  {
   "cell_type": "markdown",
   "metadata": {},
   "source": [
    "#### 6. 定制windows服务\n",
    "    \n",
    "    定制windows服务之前，需要单独一个dos来运行mysqld，即服务器。而定制windows服务后，便可以通过net start mysqld命令使mysql服务器在后台运行。\n",
    "    服务的开启或移除需要在管理员模式下进行，即进入windows powershell(管理员), 右键点击菜单按钮可以找到该dos。\n",
    "    \n",
    "    倘若已经添加bin目录到系统路径path中，则定制命令如下：\n",
    "        \n",
    "        mysqld --install\n",
    "        \n",
    "    移除服务命令如下：\n",
    "    \n",
    "        mysqld --remove"
   ]
  },
  {
   "cell_type": "markdown",
   "metadata": {},
   "source": [
    "#### 启动/关闭服务\n",
    "    \n",
    "    启动服务：\n",
    "        \n",
    "        net start MySQL(这个是服务的名称，可以打开服务管理器查看)\n",
    "        \n",
    "    关闭服务：\n",
    "    \n",
    "        net stop MySQL\n",
    "        \n",
    "    如果禁止访问，则应该使用管理员模式。"
   ]
  }
 ],
 "metadata": {
  "kernelspec": {
   "display_name": "Python 3",
   "language": "python",
   "name": "python3"
  },
  "language_info": {
   "codemirror_mode": {
    "name": "ipython",
    "version": 3
   },
   "file_extension": ".py",
   "mimetype": "text/x-python",
   "name": "python",
   "nbconvert_exporter": "python",
   "pygments_lexer": "ipython3",
   "version": "3.7.0"
  }
 },
 "nbformat": 4,
 "nbformat_minor": 2
}
