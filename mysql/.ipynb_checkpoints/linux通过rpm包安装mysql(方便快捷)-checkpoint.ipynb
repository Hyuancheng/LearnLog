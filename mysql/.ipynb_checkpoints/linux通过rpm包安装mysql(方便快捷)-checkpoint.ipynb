{
 "cells": [
  {
   "cell_type": "markdown",
   "metadata": {},
   "source": [
    "#### 下载rpm包\n",
    "    进入mysql官网下载rpm bundle包\n",
    "    \n",
    "    通过xftp6将压缩包传输到linux上。\n",
    "    \n",
    "#### 解压\n",
    "    \n",
    "    tar -xvf <包名称>\n",
    "    \n",
    "#### 安装\n",
    "    \n",
    "    yum -y install mysql-community-{server,client,common,libs}-*\n",
    "    \n",
    "    \n",
    "#### 启动mysqld服务器\n",
    "    \n",
    "    service mysqld satrt\n",
    "    \n",
    "#### 查看登录密码\n",
    "\n",
    "    安装过程中会生成一个随机密码，通过mysqld的日志文件查看。\n",
    "    cat /var/log/mysqld.log | grep password\n",
    "    \n",
    "#### 登录mysql\n",
    "    \n",
    "    mysql -u root -h localhost -p\n",
    "    \n",
    "    输入查找的密码登录\n",
    "    \n",
    "#### 设置密码\n",
    "    \n",
    "    登录后必须重新设置密码才能使用数据库。\n",
    "    \n",
    "    alter user 'root'@'localhost' identified by '12312345';\n",
    "    \n",
    "    倘若报错：不符合密码政策\n",
    "    则可以通过以下命令设置密码政策的严格等级为0级，这样只要密码长度不低于8即可：\n",
    "    set persist validate_password.policy = 0;"
   ]
  }
 ],
 "metadata": {
  "kernelspec": {
   "display_name": "Python 3",
   "language": "python",
   "name": "python3"
  },
  "language_info": {
   "codemirror_mode": {
    "name": "ipython",
    "version": 3
   },
   "file_extension": ".py",
   "mimetype": "text/x-python",
   "name": "python",
   "nbconvert_exporter": "python",
   "pygments_lexer": "ipython3",
   "version": "3.7.0"
  }
 },
 "nbformat": 4,
 "nbformat_minor": 2
}
