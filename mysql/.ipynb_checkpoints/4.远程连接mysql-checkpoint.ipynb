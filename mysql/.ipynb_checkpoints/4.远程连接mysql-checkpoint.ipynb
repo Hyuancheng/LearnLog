{
 "cells": [
  {
   "cell_type": "markdown",
   "metadata": {},
   "source": [
    "#### 修改mysql数据库权限\n",
    "    \n",
    "    本地登录mysql数据库，选择mysql数据库（use mysql）,修改user表中root用户允许登录的主机地址：\n",
    "    update user set host='%' where user='root';\n",
    "    \n",
    "    \n",
    "#### 检查防火墙（linux系统）\n",
    "\n",
    "    mysql服务器启动后，默认开放3306端口，但此时外界不一定能通过该端口进行远程连接，有可能会被本地防火墙阻挡。\n",
    "    检查防火墙配置：\n",
    "    \n",
    "    vim /etc/sysconfig/iptables\n",
    "    \n",
    "    下方命令代表防火墙允许3306端口对外开放，如果文件中没有该条命令，则添加进去。\n",
    "    \n",
    "    -A INPUT -p tcp -m state --state NEW -m tcp --dport 3306 -j ACCEPT\n",
    "    \n",
    "#### 连接mysql\n",
    "    \n",
    "    做完以上工作，即可进行远程登录，命令行下输入：\n",
    "    \n",
    "    mysql -h 192.168.183.131(mysql的主机ip地址) -u root -p"
   ]
  }
 ],
 "metadata": {
  "kernelspec": {
   "display_name": "Python 3",
   "language": "python",
   "name": "python3"
  },
  "language_info": {
   "codemirror_mode": {
    "name": "ipython",
    "version": 3
   },
   "file_extension": ".py",
   "mimetype": "text/x-python",
   "name": "python",
   "nbconvert_exporter": "python",
   "pygments_lexer": "ipython3",
   "version": "3.7.0"
  }
 },
 "nbformat": 4,
 "nbformat_minor": 2
}
